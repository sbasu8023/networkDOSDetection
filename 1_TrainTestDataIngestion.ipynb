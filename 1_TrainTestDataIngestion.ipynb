{
 "cells": [
  {
   "cell_type": "markdown",
   "metadata": {},
   "source": [
    "# Importing libraries"
   ]
  },
  {
   "cell_type": "code",
   "execution_count": 1,
   "metadata": {},
   "outputs": [],
   "source": [
    "import pandas as pd\n",
    "import numpy as np\n",
    "import matplotlib.pyplot as plt\n",
    "import seaborn as sns"
   ]
  },
  {
   "cell_type": "markdown",
   "metadata": {},
   "source": [
    "# List of columns"
   ]
  },
  {
   "cell_type": "code",
   "execution_count": 2,
   "metadata": {},
   "outputs": [],
   "source": [
    "col=[\n",
    "'duration',\n",
    "'protocol_type',\n",
    "'service',\n",
    "'flag' ,\n",
    "'src_bytes',\n",
    "'dst_bytes',\n",
    "'land',\n",
    "'wrong_fragment',\n",
    "'urgent',\n",
    "'hot',\n",
    "'num_failed_logins',\n",
    "'logged_in',\n",
    "'num_compromised',\n",
    "'root_shell',\n",
    "'su_attempted',\n",
    "'num_root',\n",
    "'num_file_creations',\n",
    "'num_shells',\n",
    "'num_access_files',\n",
    "'num_outbound_cmds',\n",
    "'is_host_login',\n",
    "'is_guest_login',\n",
    "'count',\n",
    "'srv_count',\n",
    "'serror_rate',\n",
    "'srv_serror_rate',\n",
    "'rerror_rate',\n",
    "'srv_rerror_rate',\n",
    "'same_srv_rate',\n",
    "'diff_srv_rate',\n",
    "'srv_diff_host_rate',\n",
    "'dst_host_count',\n",
    "'dst_host_srv_count',\n",
    "'dst_host_same_srv_rate',\n",
    "'dst_host_diff_srv_rate',\n",
    "'dst_host_same_src_port_rate',\n",
    "'dst_host_srv_diff_host_rate',\n",
    "'dst_host_serror_rate',\n",
    "'dst_host_srv_serror_rate',\n",
    "'dst_host_rerror_rate',\n",
    "'dst_host_srv_rerror_rate',\n",
    "'labels'\n",
    "]"
   ]
  },
  {
   "cell_type": "markdown",
   "metadata": {},
   "source": [
    "# Data Ingestion"
   ]
  },
  {
   "cell_type": "code",
   "execution_count": 3,
   "metadata": {},
   "outputs": [
    {
     "data": {
      "text/html": [
       "<div>\n",
       "<style scoped>\n",
       "    .dataframe tbody tr th:only-of-type {\n",
       "        vertical-align: middle;\n",
       "    }\n",
       "\n",
       "    .dataframe tbody tr th {\n",
       "        vertical-align: top;\n",
       "    }\n",
       "\n",
       "    .dataframe thead th {\n",
       "        text-align: right;\n",
       "    }\n",
       "</style>\n",
       "<table border=\"1\" class=\"dataframe\">\n",
       "  <thead>\n",
       "    <tr style=\"text-align: right;\">\n",
       "      <th></th>\n",
       "      <th>duration</th>\n",
       "      <th>protocol_type</th>\n",
       "      <th>service</th>\n",
       "      <th>flag</th>\n",
       "      <th>src_bytes</th>\n",
       "      <th>dst_bytes</th>\n",
       "      <th>land</th>\n",
       "      <th>wrong_fragment</th>\n",
       "      <th>urgent</th>\n",
       "      <th>hot</th>\n",
       "      <th>...</th>\n",
       "      <th>dst_host_srv_count</th>\n",
       "      <th>dst_host_same_srv_rate</th>\n",
       "      <th>dst_host_diff_srv_rate</th>\n",
       "      <th>dst_host_same_src_port_rate</th>\n",
       "      <th>dst_host_srv_diff_host_rate</th>\n",
       "      <th>dst_host_serror_rate</th>\n",
       "      <th>dst_host_srv_serror_rate</th>\n",
       "      <th>dst_host_rerror_rate</th>\n",
       "      <th>dst_host_srv_rerror_rate</th>\n",
       "      <th>labels</th>\n",
       "    </tr>\n",
       "  </thead>\n",
       "  <tbody>\n",
       "    <tr>\n",
       "      <th>0</th>\n",
       "      <td>0</td>\n",
       "      <td>tcp</td>\n",
       "      <td>http</td>\n",
       "      <td>SF</td>\n",
       "      <td>215</td>\n",
       "      <td>45076</td>\n",
       "      <td>0</td>\n",
       "      <td>0</td>\n",
       "      <td>0</td>\n",
       "      <td>0</td>\n",
       "      <td>...</td>\n",
       "      <td>0</td>\n",
       "      <td>0.0</td>\n",
       "      <td>0.0</td>\n",
       "      <td>0.00</td>\n",
       "      <td>0.0</td>\n",
       "      <td>0.0</td>\n",
       "      <td>0.0</td>\n",
       "      <td>0.0</td>\n",
       "      <td>0.0</td>\n",
       "      <td>normal.</td>\n",
       "    </tr>\n",
       "    <tr>\n",
       "      <th>1</th>\n",
       "      <td>0</td>\n",
       "      <td>tcp</td>\n",
       "      <td>http</td>\n",
       "      <td>SF</td>\n",
       "      <td>162</td>\n",
       "      <td>4528</td>\n",
       "      <td>0</td>\n",
       "      <td>0</td>\n",
       "      <td>0</td>\n",
       "      <td>0</td>\n",
       "      <td>...</td>\n",
       "      <td>1</td>\n",
       "      <td>1.0</td>\n",
       "      <td>0.0</td>\n",
       "      <td>1.00</td>\n",
       "      <td>0.0</td>\n",
       "      <td>0.0</td>\n",
       "      <td>0.0</td>\n",
       "      <td>0.0</td>\n",
       "      <td>0.0</td>\n",
       "      <td>normal.</td>\n",
       "    </tr>\n",
       "    <tr>\n",
       "      <th>2</th>\n",
       "      <td>0</td>\n",
       "      <td>tcp</td>\n",
       "      <td>http</td>\n",
       "      <td>SF</td>\n",
       "      <td>236</td>\n",
       "      <td>1228</td>\n",
       "      <td>0</td>\n",
       "      <td>0</td>\n",
       "      <td>0</td>\n",
       "      <td>0</td>\n",
       "      <td>...</td>\n",
       "      <td>2</td>\n",
       "      <td>1.0</td>\n",
       "      <td>0.0</td>\n",
       "      <td>0.50</td>\n",
       "      <td>0.0</td>\n",
       "      <td>0.0</td>\n",
       "      <td>0.0</td>\n",
       "      <td>0.0</td>\n",
       "      <td>0.0</td>\n",
       "      <td>normal.</td>\n",
       "    </tr>\n",
       "    <tr>\n",
       "      <th>3</th>\n",
       "      <td>0</td>\n",
       "      <td>tcp</td>\n",
       "      <td>http</td>\n",
       "      <td>SF</td>\n",
       "      <td>233</td>\n",
       "      <td>2032</td>\n",
       "      <td>0</td>\n",
       "      <td>0</td>\n",
       "      <td>0</td>\n",
       "      <td>0</td>\n",
       "      <td>...</td>\n",
       "      <td>3</td>\n",
       "      <td>1.0</td>\n",
       "      <td>0.0</td>\n",
       "      <td>0.33</td>\n",
       "      <td>0.0</td>\n",
       "      <td>0.0</td>\n",
       "      <td>0.0</td>\n",
       "      <td>0.0</td>\n",
       "      <td>0.0</td>\n",
       "      <td>normal.</td>\n",
       "    </tr>\n",
       "    <tr>\n",
       "      <th>4</th>\n",
       "      <td>0</td>\n",
       "      <td>tcp</td>\n",
       "      <td>http</td>\n",
       "      <td>SF</td>\n",
       "      <td>239</td>\n",
       "      <td>486</td>\n",
       "      <td>0</td>\n",
       "      <td>0</td>\n",
       "      <td>0</td>\n",
       "      <td>0</td>\n",
       "      <td>...</td>\n",
       "      <td>4</td>\n",
       "      <td>1.0</td>\n",
       "      <td>0.0</td>\n",
       "      <td>0.25</td>\n",
       "      <td>0.0</td>\n",
       "      <td>0.0</td>\n",
       "      <td>0.0</td>\n",
       "      <td>0.0</td>\n",
       "      <td>0.0</td>\n",
       "      <td>normal.</td>\n",
       "    </tr>\n",
       "    <tr>\n",
       "      <th>5</th>\n",
       "      <td>0</td>\n",
       "      <td>tcp</td>\n",
       "      <td>http</td>\n",
       "      <td>SF</td>\n",
       "      <td>238</td>\n",
       "      <td>1282</td>\n",
       "      <td>0</td>\n",
       "      <td>0</td>\n",
       "      <td>0</td>\n",
       "      <td>0</td>\n",
       "      <td>...</td>\n",
       "      <td>5</td>\n",
       "      <td>1.0</td>\n",
       "      <td>0.0</td>\n",
       "      <td>0.20</td>\n",
       "      <td>0.0</td>\n",
       "      <td>0.0</td>\n",
       "      <td>0.0</td>\n",
       "      <td>0.0</td>\n",
       "      <td>0.0</td>\n",
       "      <td>normal.</td>\n",
       "    </tr>\n",
       "    <tr>\n",
       "      <th>6</th>\n",
       "      <td>0</td>\n",
       "      <td>tcp</td>\n",
       "      <td>http</td>\n",
       "      <td>SF</td>\n",
       "      <td>235</td>\n",
       "      <td>1337</td>\n",
       "      <td>0</td>\n",
       "      <td>0</td>\n",
       "      <td>0</td>\n",
       "      <td>0</td>\n",
       "      <td>...</td>\n",
       "      <td>6</td>\n",
       "      <td>1.0</td>\n",
       "      <td>0.0</td>\n",
       "      <td>0.17</td>\n",
       "      <td>0.0</td>\n",
       "      <td>0.0</td>\n",
       "      <td>0.0</td>\n",
       "      <td>0.0</td>\n",
       "      <td>0.0</td>\n",
       "      <td>normal.</td>\n",
       "    </tr>\n",
       "    <tr>\n",
       "      <th>7</th>\n",
       "      <td>0</td>\n",
       "      <td>tcp</td>\n",
       "      <td>http</td>\n",
       "      <td>SF</td>\n",
       "      <td>234</td>\n",
       "      <td>1364</td>\n",
       "      <td>0</td>\n",
       "      <td>0</td>\n",
       "      <td>0</td>\n",
       "      <td>0</td>\n",
       "      <td>...</td>\n",
       "      <td>7</td>\n",
       "      <td>1.0</td>\n",
       "      <td>0.0</td>\n",
       "      <td>0.14</td>\n",
       "      <td>0.0</td>\n",
       "      <td>0.0</td>\n",
       "      <td>0.0</td>\n",
       "      <td>0.0</td>\n",
       "      <td>0.0</td>\n",
       "      <td>normal.</td>\n",
       "    </tr>\n",
       "    <tr>\n",
       "      <th>8</th>\n",
       "      <td>0</td>\n",
       "      <td>tcp</td>\n",
       "      <td>http</td>\n",
       "      <td>SF</td>\n",
       "      <td>239</td>\n",
       "      <td>1295</td>\n",
       "      <td>0</td>\n",
       "      <td>0</td>\n",
       "      <td>0</td>\n",
       "      <td>0</td>\n",
       "      <td>...</td>\n",
       "      <td>8</td>\n",
       "      <td>1.0</td>\n",
       "      <td>0.0</td>\n",
       "      <td>0.12</td>\n",
       "      <td>0.0</td>\n",
       "      <td>0.0</td>\n",
       "      <td>0.0</td>\n",
       "      <td>0.0</td>\n",
       "      <td>0.0</td>\n",
       "      <td>normal.</td>\n",
       "    </tr>\n",
       "    <tr>\n",
       "      <th>9</th>\n",
       "      <td>0</td>\n",
       "      <td>tcp</td>\n",
       "      <td>http</td>\n",
       "      <td>SF</td>\n",
       "      <td>181</td>\n",
       "      <td>5450</td>\n",
       "      <td>0</td>\n",
       "      <td>0</td>\n",
       "      <td>0</td>\n",
       "      <td>0</td>\n",
       "      <td>...</td>\n",
       "      <td>9</td>\n",
       "      <td>1.0</td>\n",
       "      <td>0.0</td>\n",
       "      <td>0.11</td>\n",
       "      <td>0.0</td>\n",
       "      <td>0.0</td>\n",
       "      <td>0.0</td>\n",
       "      <td>0.0</td>\n",
       "      <td>0.0</td>\n",
       "      <td>normal.</td>\n",
       "    </tr>\n",
       "  </tbody>\n",
       "</table>\n",
       "<p>10 rows × 42 columns</p>\n",
       "</div>"
      ],
      "text/plain": [
       "   duration protocol_type service flag  src_bytes  dst_bytes  land  \\\n",
       "0         0           tcp    http   SF        215      45076     0   \n",
       "1         0           tcp    http   SF        162       4528     0   \n",
       "2         0           tcp    http   SF        236       1228     0   \n",
       "3         0           tcp    http   SF        233       2032     0   \n",
       "4         0           tcp    http   SF        239        486     0   \n",
       "5         0           tcp    http   SF        238       1282     0   \n",
       "6         0           tcp    http   SF        235       1337     0   \n",
       "7         0           tcp    http   SF        234       1364     0   \n",
       "8         0           tcp    http   SF        239       1295     0   \n",
       "9         0           tcp    http   SF        181       5450     0   \n",
       "\n",
       "   wrong_fragment  urgent  hot   ...     dst_host_srv_count  \\\n",
       "0               0       0    0   ...                      0   \n",
       "1               0       0    0   ...                      1   \n",
       "2               0       0    0   ...                      2   \n",
       "3               0       0    0   ...                      3   \n",
       "4               0       0    0   ...                      4   \n",
       "5               0       0    0   ...                      5   \n",
       "6               0       0    0   ...                      6   \n",
       "7               0       0    0   ...                      7   \n",
       "8               0       0    0   ...                      8   \n",
       "9               0       0    0   ...                      9   \n",
       "\n",
       "   dst_host_same_srv_rate  dst_host_diff_srv_rate  \\\n",
       "0                     0.0                     0.0   \n",
       "1                     1.0                     0.0   \n",
       "2                     1.0                     0.0   \n",
       "3                     1.0                     0.0   \n",
       "4                     1.0                     0.0   \n",
       "5                     1.0                     0.0   \n",
       "6                     1.0                     0.0   \n",
       "7                     1.0                     0.0   \n",
       "8                     1.0                     0.0   \n",
       "9                     1.0                     0.0   \n",
       "\n",
       "   dst_host_same_src_port_rate  dst_host_srv_diff_host_rate  \\\n",
       "0                         0.00                          0.0   \n",
       "1                         1.00                          0.0   \n",
       "2                         0.50                          0.0   \n",
       "3                         0.33                          0.0   \n",
       "4                         0.25                          0.0   \n",
       "5                         0.20                          0.0   \n",
       "6                         0.17                          0.0   \n",
       "7                         0.14                          0.0   \n",
       "8                         0.12                          0.0   \n",
       "9                         0.11                          0.0   \n",
       "\n",
       "   dst_host_serror_rate  dst_host_srv_serror_rate  dst_host_rerror_rate  \\\n",
       "0                   0.0                       0.0                   0.0   \n",
       "1                   0.0                       0.0                   0.0   \n",
       "2                   0.0                       0.0                   0.0   \n",
       "3                   0.0                       0.0                   0.0   \n",
       "4                   0.0                       0.0                   0.0   \n",
       "5                   0.0                       0.0                   0.0   \n",
       "6                   0.0                       0.0                   0.0   \n",
       "7                   0.0                       0.0                   0.0   \n",
       "8                   0.0                       0.0                   0.0   \n",
       "9                   0.0                       0.0                   0.0   \n",
       "\n",
       "   dst_host_srv_rerror_rate   labels  \n",
       "0                       0.0  normal.  \n",
       "1                       0.0  normal.  \n",
       "2                       0.0  normal.  \n",
       "3                       0.0  normal.  \n",
       "4                       0.0  normal.  \n",
       "5                       0.0  normal.  \n",
       "6                       0.0  normal.  \n",
       "7                       0.0  normal.  \n",
       "8                       0.0  normal.  \n",
       "9                       0.0  normal.  \n",
       "\n",
       "[10 rows x 42 columns]"
      ]
     },
     "execution_count": 3,
     "metadata": {},
     "output_type": "execute_result"
    }
   ],
   "source": [
    "train_file=pd.read_csv('./Data/training.data', header=None, names=col)\n",
    "train_df=pd.DataFrame(train_file)\n",
    "train_df.head(10)"
   ]
  },
  {
   "cell_type": "markdown",
   "metadata": {},
   "source": [
    "# Data profile"
   ]
  },
  {
   "cell_type": "markdown",
   "metadata": {},
   "source": [
    "### Data shape"
   ]
  },
  {
   "cell_type": "code",
   "execution_count": 4,
   "metadata": {},
   "outputs": [
    {
     "data": {
      "text/html": [
       "<div>\n",
       "<style scoped>\n",
       "    .dataframe tbody tr th:only-of-type {\n",
       "        vertical-align: middle;\n",
       "    }\n",
       "\n",
       "    .dataframe tbody tr th {\n",
       "        vertical-align: top;\n",
       "    }\n",
       "\n",
       "    .dataframe thead th {\n",
       "        text-align: right;\n",
       "    }\n",
       "</style>\n",
       "<table border=\"1\" class=\"dataframe\">\n",
       "  <thead>\n",
       "    <tr style=\"text-align: right;\">\n",
       "      <th></th>\n",
       "      <th>num_rows</th>\n",
       "      <th>num_cols</th>\n",
       "    </tr>\n",
       "  </thead>\n",
       "  <tbody>\n",
       "    <tr>\n",
       "      <th>0</th>\n",
       "      <td>4898431</td>\n",
       "      <td>42</td>\n",
       "    </tr>\n",
       "  </tbody>\n",
       "</table>\n",
       "</div>"
      ],
      "text/plain": [
       "   num_rows  num_cols\n",
       "0   4898431        42"
      ]
     },
     "execution_count": 4,
     "metadata": {},
     "output_type": "execute_result"
    }
   ],
   "source": [
    "# Function return dataframe of data shape\n",
    "def data_shape(df):\n",
    "    shp=train_df.shape\n",
    "    shape=pd.DataFrame()\n",
    "    shape['num_rows']=np.array([shp[0]])\n",
    "    shape['num_cols']=np.array([shp[1]])\n",
    "    return shape\n",
    "    \n",
    "data_shape(train_df)\n",
    "\n"
   ]
  },
  {
   "cell_type": "markdown",
   "metadata": {},
   "source": [
    "$$Number\\ of\\ rows: 4.89 million$$\n",
    "$$Number\\ of\\ features: 42$$"
   ]
  },
  {
   "cell_type": "markdown",
   "metadata": {},
   "source": [
    "### Missing Data"
   ]
  },
  {
   "cell_type": "code",
   "execution_count": 5,
   "metadata": {},
   "outputs": [
    {
     "data": {
      "text/plain": [
       "0"
      ]
     },
     "execution_count": 5,
     "metadata": {},
     "output_type": "execute_result"
    }
   ],
   "source": [
    "train_df.isnull().sum().sum()"
   ]
  },
  {
   "cell_type": "markdown",
   "metadata": {},
   "source": [
    "$$Number\\ of\\ Missing\\ data:\\ 0$$"
   ]
  },
  {
   "cell_type": "markdown",
   "metadata": {},
   "source": [
    "### Memory usage"
   ]
  },
  {
   "cell_type": "code",
   "execution_count": 6,
   "metadata": {
    "scrolled": true
   },
   "outputs": [
    {
     "name": "stdout",
     "output_type": "stream",
     "text": [
      "<class 'pandas.core.frame.DataFrame'>\n",
      "RangeIndex: 4898431 entries, 0 to 4898430\n",
      "Data columns (total 42 columns):\n",
      "duration                       int64\n",
      "protocol_type                  object\n",
      "service                        object\n",
      "flag                           object\n",
      "src_bytes                      int64\n",
      "dst_bytes                      int64\n",
      "land                           int64\n",
      "wrong_fragment                 int64\n",
      "urgent                         int64\n",
      "hot                            int64\n",
      "num_failed_logins              int64\n",
      "logged_in                      int64\n",
      "num_compromised                int64\n",
      "root_shell                     int64\n",
      "su_attempted                   int64\n",
      "num_root                       int64\n",
      "num_file_creations             int64\n",
      "num_shells                     int64\n",
      "num_access_files               int64\n",
      "num_outbound_cmds              int64\n",
      "is_host_login                  int64\n",
      "is_guest_login                 int64\n",
      "count                          int64\n",
      "srv_count                      int64\n",
      "serror_rate                    float64\n",
      "srv_serror_rate                float64\n",
      "rerror_rate                    float64\n",
      "srv_rerror_rate                float64\n",
      "same_srv_rate                  float64\n",
      "diff_srv_rate                  float64\n",
      "srv_diff_host_rate             float64\n",
      "dst_host_count                 int64\n",
      "dst_host_srv_count             int64\n",
      "dst_host_same_srv_rate         float64\n",
      "dst_host_diff_srv_rate         float64\n",
      "dst_host_same_src_port_rate    float64\n",
      "dst_host_srv_diff_host_rate    float64\n",
      "dst_host_serror_rate           float64\n",
      "dst_host_srv_serror_rate       float64\n",
      "dst_host_rerror_rate           float64\n",
      "dst_host_srv_rerror_rate       float64\n",
      "labels                         object\n",
      "dtypes: float64(15), int64(23), object(4)\n",
      "memory usage: 1.5+ GB\n",
      "None\n"
     ]
    }
   ],
   "source": [
    "print(train_df.info())"
   ]
  },
  {
   "cell_type": "code",
   "execution_count": 7,
   "metadata": {},
   "outputs": [
    {
     "name": "stdout",
     "output_type": "stream",
     "text": [
      "<class 'pandas.core.frame.DataFrame'>\n",
      "RangeIndex: 4898431 entries, 0 to 4898430\n",
      "Data columns (total 42 columns):\n",
      "duration                       int64\n",
      "protocol_type                  object\n",
      "service                        object\n",
      "flag                           object\n",
      "src_bytes                      int64\n",
      "dst_bytes                      int64\n",
      "land                           int64\n",
      "wrong_fragment                 int64\n",
      "urgent                         int64\n",
      "hot                            int64\n",
      "num_failed_logins              int64\n",
      "logged_in                      int64\n",
      "num_compromised                int64\n",
      "root_shell                     int64\n",
      "su_attempted                   int64\n",
      "num_root                       int64\n",
      "num_file_creations             int64\n",
      "num_shells                     int64\n",
      "num_access_files               int64\n",
      "num_outbound_cmds              int64\n",
      "is_host_login                  int64\n",
      "is_guest_login                 int64\n",
      "count                          int64\n",
      "srv_count                      int64\n",
      "serror_rate                    float64\n",
      "srv_serror_rate                float64\n",
      "rerror_rate                    float64\n",
      "srv_rerror_rate                float64\n",
      "same_srv_rate                  float64\n",
      "diff_srv_rate                  float64\n",
      "srv_diff_host_rate             float64\n",
      "dst_host_count                 int64\n",
      "dst_host_srv_count             int64\n",
      "dst_host_same_srv_rate         float64\n",
      "dst_host_diff_srv_rate         float64\n",
      "dst_host_same_src_port_rate    float64\n",
      "dst_host_srv_diff_host_rate    float64\n",
      "dst_host_serror_rate           float64\n",
      "dst_host_srv_serror_rate       float64\n",
      "dst_host_rerror_rate           float64\n",
      "dst_host_srv_rerror_rate       float64\n",
      "labels                         object\n",
      "dtypes: float64(15), int64(23), object(4)\n",
      "memory usage: 2.5 GB\n"
     ]
    }
   ],
   "source": [
    "train_df.info(memory_usage='deep')"
   ]
  },
  {
   "cell_type": "code",
   "execution_count": 8,
   "metadata": {},
   "outputs": [],
   "source": [
    "def memory_util(df):\n",
    "    mem_percol_df=pd.DataFrame(df.memory_usage(deep=True), columns=['column_usage_Bytes'])\n",
    "    return mem_percol_df.describe().T"
   ]
  },
  {
   "cell_type": "code",
   "execution_count": 9,
   "metadata": {
    "scrolled": true
   },
   "outputs": [
    {
     "data": {
      "text/html": [
       "<div>\n",
       "<style scoped>\n",
       "    .dataframe tbody tr th:only-of-type {\n",
       "        vertical-align: middle;\n",
       "    }\n",
       "\n",
       "    .dataframe tbody tr th {\n",
       "        vertical-align: top;\n",
       "    }\n",
       "\n",
       "    .dataframe thead th {\n",
       "        text-align: right;\n",
       "    }\n",
       "</style>\n",
       "<table border=\"1\" class=\"dataframe\">\n",
       "  <thead>\n",
       "    <tr style=\"text-align: right;\">\n",
       "      <th></th>\n",
       "      <th>count</th>\n",
       "      <th>mean</th>\n",
       "      <th>std</th>\n",
       "      <th>min</th>\n",
       "      <th>25%</th>\n",
       "      <th>50%</th>\n",
       "      <th>75%</th>\n",
       "      <th>max</th>\n",
       "    </tr>\n",
       "  </thead>\n",
       "  <tbody>\n",
       "    <tr>\n",
       "      <th>column_usage_Bytes</th>\n",
       "      <td>43.0</td>\n",
       "      <td>6.261561e+07</td>\n",
       "      <td>7.747006e+07</td>\n",
       "      <td>80.0</td>\n",
       "      <td>39187448.0</td>\n",
       "      <td>39187448.0</td>\n",
       "      <td>39187448.0</td>\n",
       "      <td>311789453.0</td>\n",
       "    </tr>\n",
       "  </tbody>\n",
       "</table>\n",
       "</div>"
      ],
      "text/plain": [
       "                    count          mean           std   min         25%  \\\n",
       "column_usage_Bytes   43.0  6.261561e+07  7.747006e+07  80.0  39187448.0   \n",
       "\n",
       "                           50%         75%          max  \n",
       "column_usage_Bytes  39187448.0  39187448.0  311789453.0  "
      ]
     },
     "execution_count": 9,
     "metadata": {},
     "output_type": "execute_result"
    }
   ],
   "source": [
    "memory_util(train_df)"
   ]
  },
  {
   "cell_type": "markdown",
   "metadata": {},
   "source": [
    "$$Memory\\ Usage:\\ 1.5GB$$\n",
    "$$Deep memory\\ Usage:\\ 2.5GB$$\n",
    "$$ $$\n",
    "#### Memory consumption optimization will be done as part of ETL "
   ]
  },
  {
   "cell_type": "markdown",
   "metadata": {},
   "source": [
    "### Data types count"
   ]
  },
  {
   "cell_type": "code",
   "execution_count": 9,
   "metadata": {
    "scrolled": true
   },
   "outputs": [
    {
     "data": {
      "text/html": [
       "<div>\n",
       "<style scoped>\n",
       "    .dataframe tbody tr th:only-of-type {\n",
       "        vertical-align: middle;\n",
       "    }\n",
       "\n",
       "    .dataframe tbody tr th {\n",
       "        vertical-align: top;\n",
       "    }\n",
       "\n",
       "    .dataframe thead th {\n",
       "        text-align: right;\n",
       "    }\n",
       "</style>\n",
       "<table border=\"1\" class=\"dataframe\">\n",
       "  <thead>\n",
       "    <tr style=\"text-align: right;\">\n",
       "      <th></th>\n",
       "      <th>float64</th>\n",
       "      <th>int64</th>\n",
       "      <th>object</th>\n",
       "    </tr>\n",
       "  </thead>\n",
       "  <tbody>\n",
       "    <tr>\n",
       "      <th>0</th>\n",
       "      <td>15</td>\n",
       "      <td>23</td>\n",
       "      <td>4</td>\n",
       "    </tr>\n",
       "  </tbody>\n",
       "</table>\n",
       "</div>"
      ],
      "text/plain": [
       "   float64  int64  object\n",
       "0       15     23       4"
      ]
     },
     "execution_count": 9,
     "metadata": {},
     "output_type": "execute_result"
    }
   ],
   "source": [
    "# Function return datframe of data types and its count\n",
    "def data_type_count(df):\n",
    "    data_types=[df[i].dtypes for i in df.columns ]\n",
    "    type_dict={}\n",
    "    for i in ['object', 'int64', 'float64']:\n",
    "        type_dict[i]=[data_types.count(i)]\n",
    "    \n",
    "\n",
    "    return pd.DataFrame.from_dict(type_dict) \n",
    "    \n",
    "\n",
    "\n",
    "data_type_count(train_df)"
   ]
  },
  {
   "cell_type": "markdown",
   "metadata": {},
   "source": [
    "### Data Statistics"
   ]
  },
  {
   "cell_type": "code",
   "execution_count": 10,
   "metadata": {},
   "outputs": [
    {
     "data": {
      "text/html": [
       "<div>\n",
       "<style scoped>\n",
       "    .dataframe tbody tr th:only-of-type {\n",
       "        vertical-align: middle;\n",
       "    }\n",
       "\n",
       "    .dataframe tbody tr th {\n",
       "        vertical-align: top;\n",
       "    }\n",
       "\n",
       "    .dataframe thead th {\n",
       "        text-align: right;\n",
       "    }\n",
       "</style>\n",
       "<table border=\"1\" class=\"dataframe\">\n",
       "  <thead>\n",
       "    <tr style=\"text-align: right;\">\n",
       "      <th></th>\n",
       "      <th>count</th>\n",
       "      <th>mean</th>\n",
       "      <th>std</th>\n",
       "      <th>min</th>\n",
       "      <th>25%</th>\n",
       "      <th>50%</th>\n",
       "      <th>75%</th>\n",
       "      <th>max</th>\n",
       "    </tr>\n",
       "  </thead>\n",
       "  <tbody>\n",
       "    <tr>\n",
       "      <th>duration</th>\n",
       "      <td>4898431.0</td>\n",
       "      <td>4.834243e+01</td>\n",
       "      <td>723.329811</td>\n",
       "      <td>0.0</td>\n",
       "      <td>0.00</td>\n",
       "      <td>0.0</td>\n",
       "      <td>0.00</td>\n",
       "      <td>5.832900e+04</td>\n",
       "    </tr>\n",
       "    <tr>\n",
       "      <th>src_bytes</th>\n",
       "      <td>4898431.0</td>\n",
       "      <td>1.834621e+03</td>\n",
       "      <td>941431.074484</td>\n",
       "      <td>0.0</td>\n",
       "      <td>45.00</td>\n",
       "      <td>520.0</td>\n",
       "      <td>1032.00</td>\n",
       "      <td>1.379964e+09</td>\n",
       "    </tr>\n",
       "    <tr>\n",
       "      <th>dst_bytes</th>\n",
       "      <td>4898431.0</td>\n",
       "      <td>1.093623e+03</td>\n",
       "      <td>645012.333754</td>\n",
       "      <td>0.0</td>\n",
       "      <td>0.00</td>\n",
       "      <td>0.0</td>\n",
       "      <td>0.00</td>\n",
       "      <td>1.309937e+09</td>\n",
       "    </tr>\n",
       "    <tr>\n",
       "      <th>land</th>\n",
       "      <td>4898431.0</td>\n",
       "      <td>5.716116e-06</td>\n",
       "      <td>0.002391</td>\n",
       "      <td>0.0</td>\n",
       "      <td>0.00</td>\n",
       "      <td>0.0</td>\n",
       "      <td>0.00</td>\n",
       "      <td>1.000000e+00</td>\n",
       "    </tr>\n",
       "    <tr>\n",
       "      <th>wrong_fragment</th>\n",
       "      <td>4898431.0</td>\n",
       "      <td>6.487792e-04</td>\n",
       "      <td>0.042854</td>\n",
       "      <td>0.0</td>\n",
       "      <td>0.00</td>\n",
       "      <td>0.0</td>\n",
       "      <td>0.00</td>\n",
       "      <td>3.000000e+00</td>\n",
       "    </tr>\n",
       "    <tr>\n",
       "      <th>urgent</th>\n",
       "      <td>4898431.0</td>\n",
       "      <td>7.961733e-06</td>\n",
       "      <td>0.007215</td>\n",
       "      <td>0.0</td>\n",
       "      <td>0.00</td>\n",
       "      <td>0.0</td>\n",
       "      <td>0.00</td>\n",
       "      <td>1.400000e+01</td>\n",
       "    </tr>\n",
       "    <tr>\n",
       "      <th>hot</th>\n",
       "      <td>4898431.0</td>\n",
       "      <td>1.243766e-02</td>\n",
       "      <td>0.468978</td>\n",
       "      <td>0.0</td>\n",
       "      <td>0.00</td>\n",
       "      <td>0.0</td>\n",
       "      <td>0.00</td>\n",
       "      <td>7.700000e+01</td>\n",
       "    </tr>\n",
       "    <tr>\n",
       "      <th>num_failed_logins</th>\n",
       "      <td>4898431.0</td>\n",
       "      <td>3.205108e-05</td>\n",
       "      <td>0.007299</td>\n",
       "      <td>0.0</td>\n",
       "      <td>0.00</td>\n",
       "      <td>0.0</td>\n",
       "      <td>0.00</td>\n",
       "      <td>5.000000e+00</td>\n",
       "    </tr>\n",
       "    <tr>\n",
       "      <th>logged_in</th>\n",
       "      <td>4898431.0</td>\n",
       "      <td>1.435290e-01</td>\n",
       "      <td>0.350612</td>\n",
       "      <td>0.0</td>\n",
       "      <td>0.00</td>\n",
       "      <td>0.0</td>\n",
       "      <td>0.00</td>\n",
       "      <td>1.000000e+00</td>\n",
       "    </tr>\n",
       "    <tr>\n",
       "      <th>num_compromised</th>\n",
       "      <td>4898431.0</td>\n",
       "      <td>8.088304e-03</td>\n",
       "      <td>3.856481</td>\n",
       "      <td>0.0</td>\n",
       "      <td>0.00</td>\n",
       "      <td>0.0</td>\n",
       "      <td>0.00</td>\n",
       "      <td>7.479000e+03</td>\n",
       "    </tr>\n",
       "    <tr>\n",
       "      <th>root_shell</th>\n",
       "      <td>4898431.0</td>\n",
       "      <td>6.818510e-05</td>\n",
       "      <td>0.008257</td>\n",
       "      <td>0.0</td>\n",
       "      <td>0.00</td>\n",
       "      <td>0.0</td>\n",
       "      <td>0.00</td>\n",
       "      <td>1.000000e+00</td>\n",
       "    </tr>\n",
       "    <tr>\n",
       "      <th>su_attempted</th>\n",
       "      <td>4898431.0</td>\n",
       "      <td>3.674646e-05</td>\n",
       "      <td>0.008082</td>\n",
       "      <td>0.0</td>\n",
       "      <td>0.00</td>\n",
       "      <td>0.0</td>\n",
       "      <td>0.00</td>\n",
       "      <td>2.000000e+00</td>\n",
       "    </tr>\n",
       "    <tr>\n",
       "      <th>num_root</th>\n",
       "      <td>4898431.0</td>\n",
       "      <td>1.293496e-02</td>\n",
       "      <td>3.938075</td>\n",
       "      <td>0.0</td>\n",
       "      <td>0.00</td>\n",
       "      <td>0.0</td>\n",
       "      <td>0.00</td>\n",
       "      <td>7.468000e+03</td>\n",
       "    </tr>\n",
       "    <tr>\n",
       "      <th>num_file_creations</th>\n",
       "      <td>4898431.0</td>\n",
       "      <td>1.188748e-03</td>\n",
       "      <td>0.124186</td>\n",
       "      <td>0.0</td>\n",
       "      <td>0.00</td>\n",
       "      <td>0.0</td>\n",
       "      <td>0.00</td>\n",
       "      <td>4.300000e+01</td>\n",
       "    </tr>\n",
       "    <tr>\n",
       "      <th>num_shells</th>\n",
       "      <td>4898431.0</td>\n",
       "      <td>7.430951e-05</td>\n",
       "      <td>0.008738</td>\n",
       "      <td>0.0</td>\n",
       "      <td>0.00</td>\n",
       "      <td>0.0</td>\n",
       "      <td>0.00</td>\n",
       "      <td>2.000000e+00</td>\n",
       "    </tr>\n",
       "    <tr>\n",
       "      <th>num_access_files</th>\n",
       "      <td>4898431.0</td>\n",
       "      <td>1.021143e-03</td>\n",
       "      <td>0.035510</td>\n",
       "      <td>0.0</td>\n",
       "      <td>0.00</td>\n",
       "      <td>0.0</td>\n",
       "      <td>0.00</td>\n",
       "      <td>9.000000e+00</td>\n",
       "    </tr>\n",
       "    <tr>\n",
       "      <th>num_outbound_cmds</th>\n",
       "      <td>4898431.0</td>\n",
       "      <td>0.000000e+00</td>\n",
       "      <td>0.000000</td>\n",
       "      <td>0.0</td>\n",
       "      <td>0.00</td>\n",
       "      <td>0.0</td>\n",
       "      <td>0.00</td>\n",
       "      <td>0.000000e+00</td>\n",
       "    </tr>\n",
       "    <tr>\n",
       "      <th>is_host_login</th>\n",
       "      <td>4898431.0</td>\n",
       "      <td>4.082940e-07</td>\n",
       "      <td>0.000639</td>\n",
       "      <td>0.0</td>\n",
       "      <td>0.00</td>\n",
       "      <td>0.0</td>\n",
       "      <td>0.00</td>\n",
       "      <td>1.000000e+00</td>\n",
       "    </tr>\n",
       "    <tr>\n",
       "      <th>is_guest_login</th>\n",
       "      <td>4898431.0</td>\n",
       "      <td>8.351654e-04</td>\n",
       "      <td>0.028887</td>\n",
       "      <td>0.0</td>\n",
       "      <td>0.00</td>\n",
       "      <td>0.0</td>\n",
       "      <td>0.00</td>\n",
       "      <td>1.000000e+00</td>\n",
       "    </tr>\n",
       "    <tr>\n",
       "      <th>count</th>\n",
       "      <td>4898431.0</td>\n",
       "      <td>3.349734e+02</td>\n",
       "      <td>211.990782</td>\n",
       "      <td>0.0</td>\n",
       "      <td>121.00</td>\n",
       "      <td>510.0</td>\n",
       "      <td>511.00</td>\n",
       "      <td>5.110000e+02</td>\n",
       "    </tr>\n",
       "    <tr>\n",
       "      <th>srv_count</th>\n",
       "      <td>4898431.0</td>\n",
       "      <td>2.952671e+02</td>\n",
       "      <td>245.992710</td>\n",
       "      <td>0.0</td>\n",
       "      <td>10.00</td>\n",
       "      <td>510.0</td>\n",
       "      <td>511.00</td>\n",
       "      <td>5.110000e+02</td>\n",
       "    </tr>\n",
       "    <tr>\n",
       "      <th>serror_rate</th>\n",
       "      <td>4898431.0</td>\n",
       "      <td>1.779703e-01</td>\n",
       "      <td>0.381876</td>\n",
       "      <td>0.0</td>\n",
       "      <td>0.00</td>\n",
       "      <td>0.0</td>\n",
       "      <td>0.00</td>\n",
       "      <td>1.000000e+00</td>\n",
       "    </tr>\n",
       "    <tr>\n",
       "      <th>srv_serror_rate</th>\n",
       "      <td>4898431.0</td>\n",
       "      <td>1.780370e-01</td>\n",
       "      <td>0.382254</td>\n",
       "      <td>0.0</td>\n",
       "      <td>0.00</td>\n",
       "      <td>0.0</td>\n",
       "      <td>0.00</td>\n",
       "      <td>1.000000e+00</td>\n",
       "    </tr>\n",
       "    <tr>\n",
       "      <th>rerror_rate</th>\n",
       "      <td>4898431.0</td>\n",
       "      <td>5.766509e-02</td>\n",
       "      <td>0.232253</td>\n",
       "      <td>0.0</td>\n",
       "      <td>0.00</td>\n",
       "      <td>0.0</td>\n",
       "      <td>0.00</td>\n",
       "      <td>1.000000e+00</td>\n",
       "    </tr>\n",
       "    <tr>\n",
       "      <th>srv_rerror_rate</th>\n",
       "      <td>4898431.0</td>\n",
       "      <td>5.773010e-02</td>\n",
       "      <td>0.232660</td>\n",
       "      <td>0.0</td>\n",
       "      <td>0.00</td>\n",
       "      <td>0.0</td>\n",
       "      <td>0.00</td>\n",
       "      <td>1.000000e+00</td>\n",
       "    </tr>\n",
       "    <tr>\n",
       "      <th>same_srv_rate</th>\n",
       "      <td>4898431.0</td>\n",
       "      <td>7.898842e-01</td>\n",
       "      <td>0.389296</td>\n",
       "      <td>0.0</td>\n",
       "      <td>1.00</td>\n",
       "      <td>1.0</td>\n",
       "      <td>1.00</td>\n",
       "      <td>1.000000e+00</td>\n",
       "    </tr>\n",
       "    <tr>\n",
       "      <th>diff_srv_rate</th>\n",
       "      <td>4898431.0</td>\n",
       "      <td>2.117961e-02</td>\n",
       "      <td>0.082715</td>\n",
       "      <td>0.0</td>\n",
       "      <td>0.00</td>\n",
       "      <td>0.0</td>\n",
       "      <td>0.00</td>\n",
       "      <td>1.000000e+00</td>\n",
       "    </tr>\n",
       "    <tr>\n",
       "      <th>srv_diff_host_rate</th>\n",
       "      <td>4898431.0</td>\n",
       "      <td>2.826080e-02</td>\n",
       "      <td>0.140560</td>\n",
       "      <td>0.0</td>\n",
       "      <td>0.00</td>\n",
       "      <td>0.0</td>\n",
       "      <td>0.00</td>\n",
       "      <td>1.000000e+00</td>\n",
       "    </tr>\n",
       "    <tr>\n",
       "      <th>dst_host_count</th>\n",
       "      <td>4898431.0</td>\n",
       "      <td>2.329811e+02</td>\n",
       "      <td>64.020937</td>\n",
       "      <td>0.0</td>\n",
       "      <td>255.00</td>\n",
       "      <td>255.0</td>\n",
       "      <td>255.00</td>\n",
       "      <td>2.550000e+02</td>\n",
       "    </tr>\n",
       "    <tr>\n",
       "      <th>dst_host_srv_count</th>\n",
       "      <td>4898431.0</td>\n",
       "      <td>1.892142e+02</td>\n",
       "      <td>105.912767</td>\n",
       "      <td>0.0</td>\n",
       "      <td>49.00</td>\n",
       "      <td>255.0</td>\n",
       "      <td>255.00</td>\n",
       "      <td>2.550000e+02</td>\n",
       "    </tr>\n",
       "    <tr>\n",
       "      <th>dst_host_same_srv_rate</th>\n",
       "      <td>4898431.0</td>\n",
       "      <td>7.537132e-01</td>\n",
       "      <td>0.411186</td>\n",
       "      <td>0.0</td>\n",
       "      <td>0.41</td>\n",
       "      <td>1.0</td>\n",
       "      <td>1.00</td>\n",
       "      <td>1.000000e+00</td>\n",
       "    </tr>\n",
       "    <tr>\n",
       "      <th>dst_host_diff_srv_rate</th>\n",
       "      <td>4898431.0</td>\n",
       "      <td>3.071111e-02</td>\n",
       "      <td>0.108543</td>\n",
       "      <td>0.0</td>\n",
       "      <td>0.00</td>\n",
       "      <td>0.0</td>\n",
       "      <td>0.04</td>\n",
       "      <td>1.000000e+00</td>\n",
       "    </tr>\n",
       "    <tr>\n",
       "      <th>dst_host_same_src_port_rate</th>\n",
       "      <td>4898431.0</td>\n",
       "      <td>6.050520e-01</td>\n",
       "      <td>0.480988</td>\n",
       "      <td>0.0</td>\n",
       "      <td>0.00</td>\n",
       "      <td>1.0</td>\n",
       "      <td>1.00</td>\n",
       "      <td>1.000000e+00</td>\n",
       "    </tr>\n",
       "    <tr>\n",
       "      <th>dst_host_srv_diff_host_rate</th>\n",
       "      <td>4898431.0</td>\n",
       "      <td>6.464107e-03</td>\n",
       "      <td>0.041260</td>\n",
       "      <td>0.0</td>\n",
       "      <td>0.00</td>\n",
       "      <td>0.0</td>\n",
       "      <td>0.00</td>\n",
       "      <td>1.000000e+00</td>\n",
       "    </tr>\n",
       "    <tr>\n",
       "      <th>dst_host_serror_rate</th>\n",
       "      <td>4898431.0</td>\n",
       "      <td>1.780911e-01</td>\n",
       "      <td>0.381838</td>\n",
       "      <td>0.0</td>\n",
       "      <td>0.00</td>\n",
       "      <td>0.0</td>\n",
       "      <td>0.00</td>\n",
       "      <td>1.000000e+00</td>\n",
       "    </tr>\n",
       "    <tr>\n",
       "      <th>dst_host_srv_serror_rate</th>\n",
       "      <td>4898431.0</td>\n",
       "      <td>1.778859e-01</td>\n",
       "      <td>0.382177</td>\n",
       "      <td>0.0</td>\n",
       "      <td>0.00</td>\n",
       "      <td>0.0</td>\n",
       "      <td>0.00</td>\n",
       "      <td>1.000000e+00</td>\n",
       "    </tr>\n",
       "    <tr>\n",
       "      <th>dst_host_rerror_rate</th>\n",
       "      <td>4898431.0</td>\n",
       "      <td>5.792780e-02</td>\n",
       "      <td>0.230943</td>\n",
       "      <td>0.0</td>\n",
       "      <td>0.00</td>\n",
       "      <td>0.0</td>\n",
       "      <td>0.00</td>\n",
       "      <td>1.000000e+00</td>\n",
       "    </tr>\n",
       "    <tr>\n",
       "      <th>dst_host_srv_rerror_rate</th>\n",
       "      <td>4898431.0</td>\n",
       "      <td>5.765941e-02</td>\n",
       "      <td>0.230978</td>\n",
       "      <td>0.0</td>\n",
       "      <td>0.00</td>\n",
       "      <td>0.0</td>\n",
       "      <td>0.00</td>\n",
       "      <td>1.000000e+00</td>\n",
       "    </tr>\n",
       "  </tbody>\n",
       "</table>\n",
       "</div>"
      ],
      "text/plain": [
       "                                 count          mean            std  min  \\\n",
       "duration                     4898431.0  4.834243e+01     723.329811  0.0   \n",
       "src_bytes                    4898431.0  1.834621e+03  941431.074484  0.0   \n",
       "dst_bytes                    4898431.0  1.093623e+03  645012.333754  0.0   \n",
       "land                         4898431.0  5.716116e-06       0.002391  0.0   \n",
       "wrong_fragment               4898431.0  6.487792e-04       0.042854  0.0   \n",
       "urgent                       4898431.0  7.961733e-06       0.007215  0.0   \n",
       "hot                          4898431.0  1.243766e-02       0.468978  0.0   \n",
       "num_failed_logins            4898431.0  3.205108e-05       0.007299  0.0   \n",
       "logged_in                    4898431.0  1.435290e-01       0.350612  0.0   \n",
       "num_compromised              4898431.0  8.088304e-03       3.856481  0.0   \n",
       "root_shell                   4898431.0  6.818510e-05       0.008257  0.0   \n",
       "su_attempted                 4898431.0  3.674646e-05       0.008082  0.0   \n",
       "num_root                     4898431.0  1.293496e-02       3.938075  0.0   \n",
       "num_file_creations           4898431.0  1.188748e-03       0.124186  0.0   \n",
       "num_shells                   4898431.0  7.430951e-05       0.008738  0.0   \n",
       "num_access_files             4898431.0  1.021143e-03       0.035510  0.0   \n",
       "num_outbound_cmds            4898431.0  0.000000e+00       0.000000  0.0   \n",
       "is_host_login                4898431.0  4.082940e-07       0.000639  0.0   \n",
       "is_guest_login               4898431.0  8.351654e-04       0.028887  0.0   \n",
       "count                        4898431.0  3.349734e+02     211.990782  0.0   \n",
       "srv_count                    4898431.0  2.952671e+02     245.992710  0.0   \n",
       "serror_rate                  4898431.0  1.779703e-01       0.381876  0.0   \n",
       "srv_serror_rate              4898431.0  1.780370e-01       0.382254  0.0   \n",
       "rerror_rate                  4898431.0  5.766509e-02       0.232253  0.0   \n",
       "srv_rerror_rate              4898431.0  5.773010e-02       0.232660  0.0   \n",
       "same_srv_rate                4898431.0  7.898842e-01       0.389296  0.0   \n",
       "diff_srv_rate                4898431.0  2.117961e-02       0.082715  0.0   \n",
       "srv_diff_host_rate           4898431.0  2.826080e-02       0.140560  0.0   \n",
       "dst_host_count               4898431.0  2.329811e+02      64.020937  0.0   \n",
       "dst_host_srv_count           4898431.0  1.892142e+02     105.912767  0.0   \n",
       "dst_host_same_srv_rate       4898431.0  7.537132e-01       0.411186  0.0   \n",
       "dst_host_diff_srv_rate       4898431.0  3.071111e-02       0.108543  0.0   \n",
       "dst_host_same_src_port_rate  4898431.0  6.050520e-01       0.480988  0.0   \n",
       "dst_host_srv_diff_host_rate  4898431.0  6.464107e-03       0.041260  0.0   \n",
       "dst_host_serror_rate         4898431.0  1.780911e-01       0.381838  0.0   \n",
       "dst_host_srv_serror_rate     4898431.0  1.778859e-01       0.382177  0.0   \n",
       "dst_host_rerror_rate         4898431.0  5.792780e-02       0.230943  0.0   \n",
       "dst_host_srv_rerror_rate     4898431.0  5.765941e-02       0.230978  0.0   \n",
       "\n",
       "                                25%    50%      75%           max  \n",
       "duration                       0.00    0.0     0.00  5.832900e+04  \n",
       "src_bytes                     45.00  520.0  1032.00  1.379964e+09  \n",
       "dst_bytes                      0.00    0.0     0.00  1.309937e+09  \n",
       "land                           0.00    0.0     0.00  1.000000e+00  \n",
       "wrong_fragment                 0.00    0.0     0.00  3.000000e+00  \n",
       "urgent                         0.00    0.0     0.00  1.400000e+01  \n",
       "hot                            0.00    0.0     0.00  7.700000e+01  \n",
       "num_failed_logins              0.00    0.0     0.00  5.000000e+00  \n",
       "logged_in                      0.00    0.0     0.00  1.000000e+00  \n",
       "num_compromised                0.00    0.0     0.00  7.479000e+03  \n",
       "root_shell                     0.00    0.0     0.00  1.000000e+00  \n",
       "su_attempted                   0.00    0.0     0.00  2.000000e+00  \n",
       "num_root                       0.00    0.0     0.00  7.468000e+03  \n",
       "num_file_creations             0.00    0.0     0.00  4.300000e+01  \n",
       "num_shells                     0.00    0.0     0.00  2.000000e+00  \n",
       "num_access_files               0.00    0.0     0.00  9.000000e+00  \n",
       "num_outbound_cmds              0.00    0.0     0.00  0.000000e+00  \n",
       "is_host_login                  0.00    0.0     0.00  1.000000e+00  \n",
       "is_guest_login                 0.00    0.0     0.00  1.000000e+00  \n",
       "count                        121.00  510.0   511.00  5.110000e+02  \n",
       "srv_count                     10.00  510.0   511.00  5.110000e+02  \n",
       "serror_rate                    0.00    0.0     0.00  1.000000e+00  \n",
       "srv_serror_rate                0.00    0.0     0.00  1.000000e+00  \n",
       "rerror_rate                    0.00    0.0     0.00  1.000000e+00  \n",
       "srv_rerror_rate                0.00    0.0     0.00  1.000000e+00  \n",
       "same_srv_rate                  1.00    1.0     1.00  1.000000e+00  \n",
       "diff_srv_rate                  0.00    0.0     0.00  1.000000e+00  \n",
       "srv_diff_host_rate             0.00    0.0     0.00  1.000000e+00  \n",
       "dst_host_count               255.00  255.0   255.00  2.550000e+02  \n",
       "dst_host_srv_count            49.00  255.0   255.00  2.550000e+02  \n",
       "dst_host_same_srv_rate         0.41    1.0     1.00  1.000000e+00  \n",
       "dst_host_diff_srv_rate         0.00    0.0     0.04  1.000000e+00  \n",
       "dst_host_same_src_port_rate    0.00    1.0     1.00  1.000000e+00  \n",
       "dst_host_srv_diff_host_rate    0.00    0.0     0.00  1.000000e+00  \n",
       "dst_host_serror_rate           0.00    0.0     0.00  1.000000e+00  \n",
       "dst_host_srv_serror_rate       0.00    0.0     0.00  1.000000e+00  \n",
       "dst_host_rerror_rate           0.00    0.0     0.00  1.000000e+00  \n",
       "dst_host_srv_rerror_rate       0.00    0.0     0.00  1.000000e+00  "
      ]
     },
     "execution_count": 10,
     "metadata": {},
     "output_type": "execute_result"
    }
   ],
   "source": [
    "train_df.describe().T"
   ]
  },
  {
   "cell_type": "markdown",
   "metadata": {},
   "source": [
    "### Summary of data profile"
   ]
  },
  {
   "cell_type": "code",
   "execution_count": 11,
   "metadata": {},
   "outputs": [],
   "source": [
    "# Function summerizing data profile\n",
    "def data_profile_summary(df):\n",
    "    print(\"============== Data profile summary report ===============\")\n",
    "    print(\"   \")\n",
    "    print(\"Data Shape\")\n",
    "    print(\"----------\")\n",
    "    print(data_shape(df))\n",
    "    print(\"   \")\n",
    "    print(\"Missing Data\")\n",
    "    print(\"------------\")\n",
    "    print(df.isnull().sum().sum())\n",
    "    print(\"   \")\n",
    "    print(\"Memory Utiliation\")\n",
    "    print(\"-----------------\")\n",
    "    print(memory_util(df))\n",
    "    print(\"   \")\n",
    "    print(\"Data Statistics\")\n",
    "    print(\"---------------\")\n",
    "    print(train_df.describe().T)\n",
    "    print(\"Data Type Count\")\n",
    "    print(\"---------------\")\n",
    "    print(data_type_count(df))\n"
   ]
  },
  {
   "cell_type": "code",
   "execution_count": 12,
   "metadata": {
    "scrolled": true
   },
   "outputs": [
    {
     "name": "stdout",
     "output_type": "stream",
     "text": [
      "============== Data profile summary report ===============\n",
      "   \n",
      "Data Shape\n",
      "----------\n",
      "   num_rows  num_cols\n",
      "0   4898431        42\n",
      "   \n",
      "Missing Data\n",
      "------------\n",
      "0\n",
      "   \n",
      "Memory Utiliation\n",
      "-----------------\n",
      "                    count          mean           std   min         25%  \\\n",
      "column_usage_Bytes   43.0  6.261561e+07  7.747006e+07  80.0  39187448.0   \n",
      "\n",
      "                           50%         75%          max  \n",
      "column_usage_Bytes  39187448.0  39187448.0  311789453.0  \n",
      "   \n",
      "Data Statistics\n",
      "---------------\n",
      "                                 count          mean            std  min  \\\n",
      "duration                     4898431.0  4.834243e+01     723.329811  0.0   \n",
      "src_bytes                    4898431.0  1.834621e+03  941431.074484  0.0   \n",
      "dst_bytes                    4898431.0  1.093623e+03  645012.333754  0.0   \n",
      "land                         4898431.0  5.716116e-06       0.002391  0.0   \n",
      "wrong_fragment               4898431.0  6.487792e-04       0.042854  0.0   \n",
      "urgent                       4898431.0  7.961733e-06       0.007215  0.0   \n",
      "hot                          4898431.0  1.243766e-02       0.468978  0.0   \n",
      "num_failed_logins            4898431.0  3.205108e-05       0.007299  0.0   \n",
      "logged_in                    4898431.0  1.435290e-01       0.350612  0.0   \n",
      "num_compromised              4898431.0  8.088304e-03       3.856481  0.0   \n",
      "root_shell                   4898431.0  6.818510e-05       0.008257  0.0   \n",
      "su_attempted                 4898431.0  3.674646e-05       0.008082  0.0   \n",
      "num_root                     4898431.0  1.293496e-02       3.938075  0.0   \n",
      "num_file_creations           4898431.0  1.188748e-03       0.124186  0.0   \n",
      "num_shells                   4898431.0  7.430951e-05       0.008738  0.0   \n",
      "num_access_files             4898431.0  1.021143e-03       0.035510  0.0   \n",
      "num_outbound_cmds            4898431.0  0.000000e+00       0.000000  0.0   \n",
      "is_host_login                4898431.0  4.082940e-07       0.000639  0.0   \n",
      "is_guest_login               4898431.0  8.351654e-04       0.028887  0.0   \n",
      "count                        4898431.0  3.349734e+02     211.990782  0.0   \n",
      "srv_count                    4898431.0  2.952671e+02     245.992710  0.0   \n",
      "serror_rate                  4898431.0  1.779703e-01       0.381876  0.0   \n",
      "srv_serror_rate              4898431.0  1.780370e-01       0.382254  0.0   \n",
      "rerror_rate                  4898431.0  5.766509e-02       0.232253  0.0   \n",
      "srv_rerror_rate              4898431.0  5.773010e-02       0.232660  0.0   \n",
      "same_srv_rate                4898431.0  7.898842e-01       0.389296  0.0   \n",
      "diff_srv_rate                4898431.0  2.117961e-02       0.082715  0.0   \n",
      "srv_diff_host_rate           4898431.0  2.826080e-02       0.140560  0.0   \n",
      "dst_host_count               4898431.0  2.329811e+02      64.020937  0.0   \n",
      "dst_host_srv_count           4898431.0  1.892142e+02     105.912767  0.0   \n",
      "dst_host_same_srv_rate       4898431.0  7.537132e-01       0.411186  0.0   \n",
      "dst_host_diff_srv_rate       4898431.0  3.071111e-02       0.108543  0.0   \n",
      "dst_host_same_src_port_rate  4898431.0  6.050520e-01       0.480988  0.0   \n",
      "dst_host_srv_diff_host_rate  4898431.0  6.464107e-03       0.041260  0.0   \n",
      "dst_host_serror_rate         4898431.0  1.780911e-01       0.381838  0.0   \n",
      "dst_host_srv_serror_rate     4898431.0  1.778859e-01       0.382177  0.0   \n",
      "dst_host_rerror_rate         4898431.0  5.792780e-02       0.230943  0.0   \n",
      "dst_host_srv_rerror_rate     4898431.0  5.765941e-02       0.230978  0.0   \n",
      "\n",
      "                                25%    50%      75%           max  \n",
      "duration                       0.00    0.0     0.00  5.832900e+04  \n",
      "src_bytes                     45.00  520.0  1032.00  1.379964e+09  \n",
      "dst_bytes                      0.00    0.0     0.00  1.309937e+09  \n",
      "land                           0.00    0.0     0.00  1.000000e+00  \n",
      "wrong_fragment                 0.00    0.0     0.00  3.000000e+00  \n",
      "urgent                         0.00    0.0     0.00  1.400000e+01  \n",
      "hot                            0.00    0.0     0.00  7.700000e+01  \n",
      "num_failed_logins              0.00    0.0     0.00  5.000000e+00  \n",
      "logged_in                      0.00    0.0     0.00  1.000000e+00  \n",
      "num_compromised                0.00    0.0     0.00  7.479000e+03  \n",
      "root_shell                     0.00    0.0     0.00  1.000000e+00  \n",
      "su_attempted                   0.00    0.0     0.00  2.000000e+00  \n",
      "num_root                       0.00    0.0     0.00  7.468000e+03  \n",
      "num_file_creations             0.00    0.0     0.00  4.300000e+01  \n",
      "num_shells                     0.00    0.0     0.00  2.000000e+00  \n",
      "num_access_files               0.00    0.0     0.00  9.000000e+00  \n",
      "num_outbound_cmds              0.00    0.0     0.00  0.000000e+00  \n",
      "is_host_login                  0.00    0.0     0.00  1.000000e+00  \n",
      "is_guest_login                 0.00    0.0     0.00  1.000000e+00  \n",
      "count                        121.00  510.0   511.00  5.110000e+02  \n",
      "srv_count                     10.00  510.0   511.00  5.110000e+02  \n",
      "serror_rate                    0.00    0.0     0.00  1.000000e+00  \n",
      "srv_serror_rate                0.00    0.0     0.00  1.000000e+00  \n",
      "rerror_rate                    0.00    0.0     0.00  1.000000e+00  \n",
      "srv_rerror_rate                0.00    0.0     0.00  1.000000e+00  \n",
      "same_srv_rate                  1.00    1.0     1.00  1.000000e+00  \n",
      "diff_srv_rate                  0.00    0.0     0.00  1.000000e+00  \n",
      "srv_diff_host_rate             0.00    0.0     0.00  1.000000e+00  \n",
      "dst_host_count               255.00  255.0   255.00  2.550000e+02  \n",
      "dst_host_srv_count            49.00  255.0   255.00  2.550000e+02  \n",
      "dst_host_same_srv_rate         0.41    1.0     1.00  1.000000e+00  \n",
      "dst_host_diff_srv_rate         0.00    0.0     0.04  1.000000e+00  \n",
      "dst_host_same_src_port_rate    0.00    1.0     1.00  1.000000e+00  \n",
      "dst_host_srv_diff_host_rate    0.00    0.0     0.00  1.000000e+00  \n",
      "dst_host_serror_rate           0.00    0.0     0.00  1.000000e+00  \n",
      "dst_host_srv_serror_rate       0.00    0.0     0.00  1.000000e+00  \n",
      "dst_host_rerror_rate           0.00    0.0     0.00  1.000000e+00  \n",
      "dst_host_srv_rerror_rate       0.00    0.0     0.00  1.000000e+00  \n",
      "Data Type Count\n",
      "---------------\n",
      "   float64  int64  object\n",
      "0       15     23       4\n"
     ]
    }
   ],
   "source": [
    "data_profile_summary(train_df)"
   ]
  },
  {
   "cell_type": "markdown",
   "metadata": {},
   "source": [
    "# Optimizing memory utilization"
   ]
  },
  {
   "cell_type": "code",
   "execution_count": 13,
   "metadata": {},
   "outputs": [],
   "source": [
    "# Optimizing numerical columns\n",
    "def dtype_num_transform(df, dt):\n",
    "    # Intake data frame and datatype to be optimize\n",
    "    # Output Dataframe with all columns of the input data type optimized\n",
    "    int_types = [\"int8\", \"int16\", \"int32\", \"int64\"]\n",
    "    float_types=[\"float16\", \"float32\", \"float64\", \"float128\"]\n",
    "    dmax=0\n",
    "    dmin=0\n",
    "    lmd_floatmax=lambda x: np.finfo(x).max\n",
    "    lmd_floatmin=lambda x: np.finfo(x).min\n",
    "    lmd_intmax=lambda x: np.iinfo(x).max\n",
    "    lmd_intmin=lambda x: np.iinfo(x).min\n",
    "    max_funct=None\n",
    "    min_funct=None\n",
    "    dt_types=[]\n",
    "    if dt==float:\n",
    "        dt_types=float_types\n",
    "        max_funct=lmd_floatmax\n",
    "        min_funct=lmd_floatmin\n",
    "    elif dt==int:\n",
    "        dt_types=int_types\n",
    "        max_funct=lmd_intmax\n",
    "        min_funct=lmd_intmin\n",
    "    \n",
    "    else:\n",
    "        \n",
    "        exit()\n",
    "        \n",
    "    selected_types=None    \n",
    "    for i in df.columns:\n",
    "        if df[i].dtypes==dt:\n",
    "            \n",
    "            dmax=df[i].max()\n",
    "            dmin=df[i].min()\n",
    "            for j in dt_types:\n",
    "                if max_funct(j)>dmax and min_funct(j)<dmin:\n",
    "                    \n",
    "                    selected_types=j\n",
    "                    \n",
    "                    \n",
    "                    break\n",
    "                else:\n",
    "                    \n",
    "                    continue\n",
    "            \n",
    "            df[i]=df[i].astype(selected_types)"
   ]
  },
  {
   "cell_type": "code",
   "execution_count": 14,
   "metadata": {},
   "outputs": [],
   "source": [
    "dtype_num_transform(train_df, float)\n",
    "dtype_num_transform(train_df, int)"
   ]
  },
  {
   "cell_type": "code",
   "execution_count": 15,
   "metadata": {},
   "outputs": [],
   "source": [
    "# Optimizing string columns\n",
    "def dtype_str_transform(df):\n",
    "    for i in df.columns:\n",
    "        if df[i].dtypes==object:\n",
    "            df[i]=df[i].astype('category')\n",
    "            "
   ]
  },
  {
   "cell_type": "code",
   "execution_count": 16,
   "metadata": {},
   "outputs": [],
   "source": [
    "dtype_str_transform(train_df)"
   ]
  },
  {
   "cell_type": "code",
   "execution_count": 17,
   "metadata": {},
   "outputs": [
    {
     "name": "stdout",
     "output_type": "stream",
     "text": [
      "<class 'pandas.core.frame.DataFrame'>\n",
      "RangeIndex: 4898431 entries, 0 to 4898430\n",
      "Data columns (total 42 columns):\n",
      "duration                       int32\n",
      "protocol_type                  category\n",
      "service                        category\n",
      "flag                           category\n",
      "src_bytes                      int32\n",
      "dst_bytes                      int32\n",
      "land                           int8\n",
      "wrong_fragment                 int8\n",
      "urgent                         int8\n",
      "hot                            int8\n",
      "num_failed_logins              int8\n",
      "logged_in                      int8\n",
      "num_compromised                int16\n",
      "root_shell                     int8\n",
      "su_attempted                   int8\n",
      "num_root                       int16\n",
      "num_file_creations             int8\n",
      "num_shells                     int8\n",
      "num_access_files               int8\n",
      "num_outbound_cmds              int8\n",
      "is_host_login                  int8\n",
      "is_guest_login                 int8\n",
      "count                          int16\n",
      "srv_count                      int16\n",
      "serror_rate                    float16\n",
      "srv_serror_rate                float16\n",
      "rerror_rate                    float16\n",
      "srv_rerror_rate                float16\n",
      "same_srv_rate                  float16\n",
      "diff_srv_rate                  float16\n",
      "srv_diff_host_rate             float16\n",
      "dst_host_count                 int16\n",
      "dst_host_srv_count             int16\n",
      "dst_host_same_srv_rate         float16\n",
      "dst_host_diff_srv_rate         float16\n",
      "dst_host_same_src_port_rate    float16\n",
      "dst_host_srv_diff_host_rate    float16\n",
      "dst_host_serror_rate           float16\n",
      "dst_host_srv_serror_rate       float16\n",
      "dst_host_rerror_rate           float16\n",
      "dst_host_srv_rerror_rate       float16\n",
      "labels                         category\n",
      "dtypes: category(4), float16(15), int16(6), int32(3), int8(14)\n",
      "memory usage: 336.4 MB\n"
     ]
    }
   ],
   "source": [
    "train_df.info(memory_usage='deep')"
   ]
  },
  {
   "cell_type": "code",
   "execution_count": 18,
   "metadata": {},
   "outputs": [
    {
     "data": {
      "text/html": [
       "<div>\n",
       "<style scoped>\n",
       "    .dataframe tbody tr th:only-of-type {\n",
       "        vertical-align: middle;\n",
       "    }\n",
       "\n",
       "    .dataframe tbody tr th {\n",
       "        vertical-align: top;\n",
       "    }\n",
       "\n",
       "    .dataframe thead th {\n",
       "        text-align: right;\n",
       "    }\n",
       "</style>\n",
       "<table border=\"1\" class=\"dataframe\">\n",
       "  <thead>\n",
       "    <tr style=\"text-align: right;\">\n",
       "      <th></th>\n",
       "      <th>count</th>\n",
       "      <th>mean</th>\n",
       "      <th>std</th>\n",
       "      <th>min</th>\n",
       "      <th>25%</th>\n",
       "      <th>50%</th>\n",
       "      <th>75%</th>\n",
       "      <th>max</th>\n",
       "    </tr>\n",
       "  </thead>\n",
       "  <tbody>\n",
       "    <tr>\n",
       "      <th>column_usage_Bytes</th>\n",
       "      <td>43.0</td>\n",
       "      <td>8.202266e+06</td>\n",
       "      <td>4.101036e+06</td>\n",
       "      <td>80.0</td>\n",
       "      <td>4898431.0</td>\n",
       "      <td>9796862.0</td>\n",
       "      <td>9796862.0</td>\n",
       "      <td>19593724.0</td>\n",
       "    </tr>\n",
       "  </tbody>\n",
       "</table>\n",
       "</div>"
      ],
      "text/plain": [
       "                    count          mean           std   min        25%  \\\n",
       "column_usage_Bytes   43.0  8.202266e+06  4.101036e+06  80.0  4898431.0   \n",
       "\n",
       "                          50%        75%         max  \n",
       "column_usage_Bytes  9796862.0  9796862.0  19593724.0  "
      ]
     },
     "execution_count": 18,
     "metadata": {},
     "output_type": "execute_result"
    }
   ],
   "source": [
    "memory_util(train_df)"
   ]
  },
  {
   "cell_type": "markdown",
   "metadata": {},
   "source": [
    "#### Deep memory  utilization is reduced from  2.5 GB to 336.4 MB\n"
   ]
  },
  {
   "cell_type": "markdown",
   "metadata": {},
   "source": [
    "# Unique Values"
   ]
  },
  {
   "cell_type": "code",
   "execution_count": 19,
   "metadata": {},
   "outputs": [],
   "source": [
    "def unique_vals(df):\n",
    "    for i in train_df.columns:\n",
    "        print('**********  '+str(i)+ '  ***********')\n",
    "        print(df[i].unique())"
   ]
  },
  {
   "cell_type": "code",
   "execution_count": 20,
   "metadata": {},
   "outputs": [
    {
     "name": "stdout",
     "output_type": "stream",
     "text": [
      "**********  duration  ***********\n",
      "[   0   22   60 ... 2906 2911 2966]\n",
      "**********  protocol_type  ***********\n",
      "[tcp, udp, icmp]\n",
      "Categories (3, object): [tcp, udp, icmp]\n",
      "**********  service  ***********\n",
      "[http, smtp, domain_u, auth, finger, ..., aol, tftp_u, http_8001, tim_i, red_i]\n",
      "Length: 70\n",
      "Categories (70, object): [http, smtp, domain_u, auth, ..., tftp_u, http_8001, tim_i, red_i]\n",
      "**********  flag  ***********\n",
      "[SF, S2, S1, S3, OTH, ..., RSTO, S0, RSTR, RSTOS0, SH]\n",
      "Length: 11\n",
      "Categories (11, object): [SF, S2, S1, S3, ..., S0, RSTR, RSTOS0, SH]\n",
      "**********  src_bytes  ***********\n",
      "[ 215  162  236 ... 4082 5159 3667]\n",
      "**********  dst_bytes  ***********\n",
      "[45076  4528  1228 ... 13828 14180 15808]\n",
      "**********  land  ***********\n",
      "[0 1]\n",
      "**********  wrong_fragment  ***********\n",
      "[0 1 3]\n",
      "**********  urgent  ***********\n",
      "[ 0  1  5  2  3 14]\n",
      "**********  hot  ***********\n",
      "[ 0  1  3  4 18 30 22 19 11  5 17 15 24  6 14 20  2  9  7 16 12 28 44 77\n",
      " 21  8 10 13 25 33]\n",
      "**********  num_failed_logins  ***********\n",
      "[0 1 5 4 2 3]\n",
      "**********  logged_in  ***********\n",
      "[1 0]\n",
      "**********  num_compromised  ***********\n",
      "[   0    1    2   83   31    4    3  217  175    5  270   13  349  107\n",
      "  202  751  452    7  345  884  371  543   16   19  767  198  187   74\n",
      "    9    8   10  394   27   40  462    6   22   21   44  682   11  716\n",
      "  247  151  258  761  622  537  177  238  378   94  307  809   37   29\n",
      "  558  281  174  110 7479  254   18   23  275  520   14   12   17  676\n",
      "   78 1739  457   38   15  756  237  121  373  193  789 1043  435   64\n",
      "  456  538   41  407   46   75  157  375  568  166  691   54  102  405]\n",
      "**********  root_shell  ***********\n",
      "[0 1]\n",
      "**********  su_attempted  ***********\n",
      "[0 2 1]\n",
      "**********  num_root  ***********\n",
      "[   0   91   38    1  247    2  206   36  290  387    3    5    9  100\n",
      "    4  222  841  505  390    6   22  975  416  417  610   16   10  857\n",
      "  218  187   77  439   11   26    8    7   40  512   39   12   47  749\n",
      "  789  402  151  287  849  684  611  190  268  421  104   17  338  889\n",
      "   28  629  278  204  121   14 7468  289  306  572  754   71 1743  508\n",
      "   54  261  123  191  867 1045  146  480  993  195  502  605   41  446\n",
      "   55   74  179  425  626  184  766  119  450]\n",
      "**********  num_file_creations  ***********\n",
      "[ 0  1 10 37  2  7 17  3 12 26 18  4 23  8 29 13 15  5 32 16  9 28 20 14\n",
      " 21 19 11 22  6 25 40 34 31 30 27 36 24 35 33 38 43 41]\n",
      "**********  num_shells  ***********\n",
      "[0 1 2]\n",
      "**********  num_access_files  ***********\n",
      "[0 1 2 4 6 5 3 9 7 8]\n",
      "**********  num_outbound_cmds  ***********\n",
      "[0]\n",
      "**********  is_host_login  ***********\n",
      "[0 1]\n",
      "**********  is_guest_login  ***********\n",
      "[0 1]\n",
      "**********  count  ***********\n",
      "[  1   2   3   4   5   6   7   8   9  10  11  12  13  14  15  16  17  18\n",
      "  19  20  21  22  23  24  25  26  27  28  29  30  31  32  33  34  35  36\n",
      "  37  38  39  40  41  42  43  44  45  46  47  48  49  50  51  52  53  54\n",
      "  55  56  57  58  59  60  61  62  63  64  65  66  67  68  69  70  71  72\n",
      "  73  74  75  76  77  78  79  80  81 315 316 511 510 509 317 318 319 320\n",
      " 321 322 323 324 325 326 327 328 329 330 331 332 333 334 335 336 337 338\n",
      " 339 340 341 342 343 344 345 346 347 348 349 350 351 352 353 354 355 356\n",
      " 357 358 359 360 361 362 363 364 365 366 367 368 369 370 371 372 373 374\n",
      " 375 376 377 378 379 380 381 382 383 384 385 386 387 388 389 390 391 392\n",
      " 393 394 395 396 397 398 399 400 401 402 403 404 405 406 407 408 409 410\n",
      " 411 412 413 414 415 416 417 418 419 420 421 422 423 424 425 426 427 428\n",
      " 429 430 431 432 433 434 435 436 437 438 439 440 441 442 443 444 445 446\n",
      " 447 448 449 450 451 452 453  82 454 455  83 456  84 457  85 458  86 459\n",
      " 460  87 461  88 462 463  89 464  90 465 466  91 467 468  92 469 470  93\n",
      " 471 472  94 473 474  95 475 476  96 477  97 478 479  98 480 481  99 482\n",
      " 100 483 484 101 485 486 102 487 103 488 489 104 490 105 491 492 106 493\n",
      " 494 107 495 496 108 497 109 498 499 110 500 501 111 502 112 503 504 113\n",
      " 505 114 506 115 507 116 508 117 118 119 120 121 122 123 124 125 126 127\n",
      " 128 129 130 131 132 133 134 135 136 137 138 139 140 141 142 143 144 145\n",
      " 146 147 148 149 150 151 152 153 154 155 156 157 158 159 160 161 162 163\n",
      " 164 165 166 167 168 169 170 171 172 173 174 175 176 177 178 179 180 181\n",
      " 182 183 184 185 186 187 188 189 190 191 192 193 194 195 196 197 198 199\n",
      " 200 201 202 203 204 205 206 207 208 209 210 211 212 213 214 215 216 217\n",
      " 218 219 220 221 222 223 224 225 226 227 228 229 230 231 232 233 234 235\n",
      " 236 237 238 239 240 241 242 243 244 245 246 247 248 249 250 251 252 253\n",
      " 254 255 256 257 258 259 260 261 262 263 264 265 266 267 268 269 270 271\n",
      " 272 273 274 275 276 277 278 279 280 281 282 283 284 285 286 287 288 289\n",
      " 290 291 292 293 294 295 296 297 298 299 300 301 302 303 304 305 306 307\n",
      " 308 309 310 311 312 313 314   0]\n",
      "**********  srv_count  ***********\n",
      "[  1   2   3   4   5   6   7   8  10  12   9  11  13  14  15  16  17  18\n",
      "  19  20  21  22  23  24  25  26  27  28  29  30  31  32  55  56  33  34\n",
      "  35  36  37  38  39  40  41  42  43  44  45  46  47  48  49  50  51  52\n",
      "  53  54  57  58  59  60  61  62  63  64  65  66  67  68  69  70  71  72\n",
      "  73  74  75  76  77  78  79  80  86 315 316 511 510 509 317 318 319 320\n",
      " 321 322 323 324 325 326 327 328 329 330 331 332 333 334 335 336 337 338\n",
      " 339 340 341 342 343 344 345 346 347 348 349 350 351 352 353 354 355 356\n",
      " 357 358 359 360 361 362 363 364 365 366 367 368 369 370 371 372 373 374\n",
      " 375 376 377 378 379 380 381 382 383 384 385 386 387 388 389 390 391 392\n",
      " 393 394 395 396 397 398 399 400 401 402 403 404 405 406 407 408 409 410\n",
      " 411 412 413 414 415 416 417 418 419 420 421 422 423 424 425 426 427 428\n",
      " 429 430 431 432 433 434 435 436 437 438 439 440 441 442 443 444 445 446\n",
      " 447 448 449 450 451  81 452 453  82 454 455  83 456  84 457  85 458 459\n",
      " 460  87 461  88 462 463  89 464  90 465 466  91 467 468  92 469 470  93\n",
      " 471 472  94 473 474  95 475 476  96 477  97 478 479  98 480 481  99 482\n",
      " 100 483 484 101 485 486 102 487 103 488 489 104 490 105 491 492 106 493\n",
      " 494 107 495 496 108 497 109 498 499 110 500 501 111 502 112 503 504 113\n",
      " 505 114 506 115 507 116 508 117 118 119 120 121 122 123 124 125 126 127\n",
      " 128 129 130 131 132 133 134 135 136 137 138 139 140 141 142 143 144 145\n",
      " 146 147 148 149 150 151 152 153 154 155 156 157 158 159 160 161 162 163\n",
      " 164 165 166 167 168 169 170 171 172 173 174 175 176 177 178 179 180 181\n",
      " 182 183 184 185 186 187 188 189 190 191 192 193 194 195 196 197 198 199\n",
      " 200 201 202 203 204 205 206 207 208 209 210 211 212 213 214 215 216 217\n",
      " 218 219 220 221 222 223 224 225 226 227 228 229 230 231 232 233 234 235\n",
      " 236 237 238 239 240 241 242 243 244 245 246 247 248 249 250 251 252 253\n",
      " 254 255 256 257 258 259 260 261 262 263 264 265 266 267 268 269 270 271\n",
      " 272 273 274 275 276 277 278 279 280 281 282 283 284 285 286 287 288 289\n",
      " 290 291 292 293 294 295 296 297 298 299 300 301 302 303 304 305 306 307\n",
      " 308 309 310 311 312 313 314   0]\n",
      "**********  serror_rate  ***********\n",
      "[0.         0.33007812 0.25       0.19995117 0.17004395 0.14001465\n",
      " 0.11999512 0.04998779 0.09997559 0.09002686 0.08001709 0.07000732\n",
      " 0.10998535 0.02999878 0.02000427 0.39990234 0.29003906 0.2199707\n",
      " 0.18005371 1.         0.5        0.05999756 0.04000854 0.13000488\n",
      " 0.66992188 0.75       0.79980469 0.83007812 0.85986328 0.87988281\n",
      " 0.89013672 0.89990234 0.91015625 0.91992188 0.93017578 0.93994141\n",
      " 0.01000214 0.70996094 0.77978516 0.70019531 0.72998047 0.77001953\n",
      " 0.79003906 0.75976562 0.81005859 0.74023438 0.72021484 0.68994141\n",
      " 0.68017578 0.66015625 0.64990234 0.64013672 0.62988281 0.99023438\n",
      " 0.15002441 0.16003418 0.18994141 0.20996094 0.22998047 0.23999023\n",
      " 0.26000977 0.27001953 0.2800293  0.30004883 0.31005859 0.32006836\n",
      " 0.34008789 0.35009766 0.36010742 0.37011719 0.37988281 0.38989258\n",
      " 0.40991211 0.41992188 0.42993164 0.43994141 0.97998047 0.97021484\n",
      " 0.95019531 0.95996094 0.81982422 0.60009766 0.85009766 0.83984375\n",
      " 0.87011719 0.62011719 0.60986328 0.58984375 0.58007812 0.56982422\n",
      " 0.56005859 0.54980469 0.54003906 0.52978516 0.52001953 0.50976562]\n",
      "**********  srv_serror_rate  ***********\n",
      "[0.         0.33007812 0.25       0.19995117 0.17004395 0.14001465\n",
      " 0.11999512 0.04998779 0.09997559 0.09002686 0.08001709 0.07000732\n",
      " 0.10998535 0.02999878 0.02000427 0.39990234 0.29003906 0.2199707\n",
      " 0.18005371 1.         0.5        0.05999756 0.04000854 0.13000488\n",
      " 0.66992188 0.75       0.30004883 0.60009766 0.27001953 0.15002441\n",
      " 0.83007812 0.79980469 0.85986328 0.87988281 0.89013672 0.89990234\n",
      " 0.91015625 0.91992188 0.93017578 0.93994141 0.95019531 0.36010742\n",
      " 0.41992188 0.45996094 0.52978516 0.56005859 0.58984375 0.60986328\n",
      " 0.62988281 0.64990234 0.68017578 0.70019531 0.70996094 0.72021484\n",
      " 0.72998047 0.74023438 0.58007812 0.75976562 0.01000214 0.16003418\n",
      " 0.20996094 0.22998047 0.18994141 0.42993164 0.37988281 0.26000977\n",
      " 0.32006836 0.35009766 0.37011719 0.38989258 0.40991211 0.44995117\n",
      " 0.34008789 0.4699707  0.47998047 0.54980469 0.43994141 0.56982422\n",
      " 0.54003906 0.50976562 0.95996094 0.2800293  0.23999023 0.77978516\n",
      " 0.81982422 0.85009766 0.87011719]\n",
      "**********  rerror_rate  ***********\n",
      "[0.         1.         0.5        0.33007812 0.25       0.19995117\n",
      " 0.17004395 0.14001465 0.11999512 0.10998535 0.09997559 0.09002686\n",
      " 0.08001709 0.07000732 0.05999756 0.99023438 0.97998047 0.97021484\n",
      " 0.95996094 0.95019531 0.93994141 0.93017578 0.91992188 0.91015625\n",
      " 0.89990234 0.89013672 0.87988281 0.87011719 0.66992188 0.75\n",
      " 0.39990234 0.29003906 0.60009766 0.83984375 0.85009766 0.42993164\n",
      " 0.37988281 0.43994141 0.2199707  0.30004883 0.27001953 0.22998047\n",
      " 0.20996094 0.23999023 0.18994141 0.26000977 0.2800293  0.31005859\n",
      " 0.32006836 0.34008789 0.35009766 0.36010742 0.37011719 0.56982422\n",
      " 0.62011719 0.70019531 0.72998047 0.68994141 0.70996094 0.75976562\n",
      " 0.77978516 0.79003906 0.79980469 0.01000214 0.56005859 0.64013672\n",
      " 0.81005859 0.81982422 0.83007812 0.04998779 0.04000854 0.02999878\n",
      " 0.02000427 0.85986328 0.77001953 0.74023438 0.72021484 0.68017578\n",
      " 0.66015625 0.64990234 0.62988281 0.60986328 0.58984375 0.58007812\n",
      " 0.18005371 0.38989258 0.16003418 0.44995117 0.54980469]\n",
      "**********  srv_rerror_rate  ***********\n"
     ]
    },
    {
     "name": "stdout",
     "output_type": "stream",
     "text": [
      "[0.         1.         0.5        0.33007812 0.66992188 0.17004395\n",
      " 0.08001709 0.11999512 0.19995117 0.25       0.39990234 0.14001465\n",
      " 0.29003906 0.18005371 0.60009766 0.42993164 0.37988281 0.75\n",
      " 0.10998535 0.09997559 0.09002686 0.2199707  0.07000732 0.05999756\n",
      " 0.04998779 0.30004883 0.95996094 0.93017578 0.89990234 0.87011719\n",
      " 0.83984375 0.85009766 0.56982422 0.62011719 0.70019531 0.72998047\n",
      " 0.68994141 0.70996094 0.75976562 0.77978516 0.79003906 0.79980469\n",
      " 0.04000854 0.02999878 0.15002441 0.13000488 0.56005859 0.64013672\n",
      " 0.81005859 0.81982422 0.83007812 0.02000427 0.01000214 0.95019531\n",
      " 0.85986328 0.22998047 0.20996094 0.16003418 0.18994141 0.87988281\n",
      " 0.77001953 0.89013672 0.91015625 0.91992188 0.58007812 0.72021484\n",
      " 0.74023438 0.23999023 0.93994141 0.32006836 0.36010742 0.37011719\n",
      " 0.38989258 0.27001953 0.43994141 0.54980469]\n",
      "**********  same_srv_rate  ***********\n",
      "[1.         0.5        0.33007812 0.10998535 0.05999756 0.07000732\n",
      " 0.66992188 0.75       0.79980469 0.83007812 0.85986328 0.87988281\n",
      " 0.89013672 0.89990234 0.91015625 0.91992188 0.93017578 0.93994141\n",
      " 0.95019531 0.95996094 0.97021484 0.97998047 0.99023438 0.19995117\n",
      " 0.25       0.         0.60009766 0.04000854 0.14001465 0.17004395\n",
      " 0.11999512 0.09997559 0.09002686 0.08001709 0.04998779 0.02999878\n",
      " 0.02000427 0.01000214 0.70996094 0.42993164 0.18005371 0.29003906\n",
      " 0.39990234 0.2199707  0.20996094 0.22998047 0.13000488 0.18994141\n",
      " 0.16003418 0.15002441 0.2800293  0.37011719 0.37988281 0.40991211\n",
      " 0.23999023 0.26000977 0.30004883 0.31005859 0.32006836 0.27001953\n",
      " 0.36010742 0.38989258 0.35009766 0.34008789 0.43994141 0.45996094\n",
      " 0.4699707  0.48999023 0.54980469 0.56982422 0.62011719 0.70019531\n",
      " 0.72998047 0.77978516 0.81982422 0.44995117 0.54003906 0.64990234\n",
      " 0.77001953 0.85009766 0.75976562 0.79003906 0.81005859 0.56005859\n",
      " 0.64013672 0.68994141 0.41992188 0.87011719 0.52978516 0.72021484\n",
      " 0.74023438 0.58984375 0.60986328 0.66015625 0.68017578 0.47998047\n",
      " 0.50976562 0.52001953 0.62988281 0.58007812 0.83984375]\n",
      "**********  diff_srv_rate  ***********\n",
      "[0.         1.         0.66992188 0.2199707  0.11999512 0.14001465\n",
      " 0.5        0.39990234 0.33007812 0.29003906 0.25       0.19995117\n",
      " 0.18005371 0.17004395 0.15002441 0.13000488 0.10998535 0.09997559\n",
      " 0.09002686 0.08001709 0.07000732 0.05999756 0.04998779 0.04000854\n",
      " 0.02999878 0.02000427 0.75       0.79980469 0.83007812 0.85986328\n",
      " 0.87988281 0.77978516 0.81982422 0.85009766 0.60009766 0.56982422\n",
      " 0.56005859 0.54980469 0.54003906 0.52978516 0.52001953 0.58007812\n",
      " 0.58984375 0.31005859 0.01000214 0.42993164 0.64013672 0.70996094\n",
      " 0.62011719 0.89013672 0.89990234 0.91015625 0.91992188 0.87011719\n",
      " 0.45996094 0.4699707  0.43994141 0.41992188 0.44995117 0.40991211\n",
      " 0.38989258 0.37988281 0.37011719 0.36010742 0.27001953 0.68994141\n",
      " 0.72021484 0.74023438 0.75976562 0.77001953 0.30004883 0.20996094\n",
      " 0.99023438 0.97998047 0.97021484 0.95996094 0.95019531 0.16003418\n",
      " 0.2800293  0.26000977 0.23999023 0.22998047 0.72998047 0.18994141\n",
      " 0.32006836 0.35009766 0.60986328 0.62988281 0.64990234 0.68017578\n",
      " 0.70019531 0.50976562 0.79003906 0.47998047 0.81005859]\n",
      "**********  srv_diff_host_rate  ***********\n",
      "[0.         0.5        0.39990234 0.75       0.60009766 1.\n",
      " 0.66992188 0.33007812 0.25       0.19995117 0.17004395 0.29003906\n",
      " 0.2199707  0.18005371 0.22998047 0.20996094 0.13000488 0.11999512\n",
      " 0.14001465 0.15002441 0.10998535 0.09997559 0.09002686 0.18994141\n",
      " 0.27001953 0.16003418 0.42993164 0.37988281 0.07000732 0.05999756\n",
      " 0.04998779 0.08001709 0.79980469 0.30004883 0.36010742 0.56982422\n",
      " 0.43994141 0.31005859 0.23999023 0.45996094 0.70996094 0.56005859\n",
      " 0.62011719 0.35009766 0.32006836 0.44995117 0.41992188 0.54980469\n",
      " 0.04000854 0.2800293  0.26000977 0.02999878 0.83007812 0.85986328\n",
      " 0.54003906 0.52978516 0.40991211 0.38989258 0.37011719 0.64013672\n",
      " 0.02000427 0.58007812 0.4699707  0.77978516 0.70019531 0.87988281\n",
      " 0.01000214 0.47998047 0.72998047 0.77001953 0.89990234 0.89013672]\n",
      "**********  dst_host_count  ***********\n",
      "[  0   1   2   3   4   5   6   7   8   9  10  11  12  13  14  15  16  17\n",
      "  18  19  20  21  22  23  24  25  26  27  28  29  30  31  32  33  34  35\n",
      "  36  37  38  39  40  41  42  43  44  45  46  47  48  49  50  51  52  53\n",
      "  54  55  56  57  58  59  60  61  62  63  64  65  66  67  68  69  70  71\n",
      "  72  73  74  75  76  77  78  79  80  81  82  83  84  85  86  87  88  89\n",
      "  90  91  92  93  94  95  96  97  98  99 100 101 102 103 104 105 106 107\n",
      " 108 109 110 111 112 113 114 115 116 117 118 119 120 121 122 123 124 125\n",
      " 126 127 128 129 130 131 132 133 134 135 136 137 138 139 140 141 142 143\n",
      " 144 145 146 147 148 149 150 151 152 153 154 155 156 157 158 159 160 161\n",
      " 162 163 164 165 166 167 168 169 170 171 172 173 174 175 176 177 178 179\n",
      " 180 181 182 183 184 185 186 187 188 189 190 191 192 193 194 195 196 197\n",
      " 198 199 200 201 202 203 204 205 206 207 208 209 210 211 212 213 214 215\n",
      " 216 217 218 219 220 221 222 223 224 225 226 227 228 229 230 231 232 233\n",
      " 234 235 236 237 238 239 240 241 242 243 244 245 246 247 248 249 250 251\n",
      " 252 253 254 255]\n",
      "**********  dst_host_srv_count  ***********\n",
      "[  0   1   2   3   4   5   6   7   8   9  10  11  12  13  14  15  16  17\n",
      "  18  19  20  21  22  23  24  25  26  27  28  29  30  31  32  33  34  35\n",
      "  36  37  38  39  40  41  42  43  44  45  46  47  48  49  50  51  52  53\n",
      "  54  55  56  57  58  59  60  61  62  63  64  65  66  67  68  69  70  71\n",
      "  72  73  74  75  76  77  78  79  80  81  82  83  84  85  86  87  88  89\n",
      "  90  91  92  93  94  95  96  97  98  99 100 101 102 103 104 105 106 107\n",
      " 108 109 110 111 112 113 114 115 116 117 118 119 120 121 122 123 124 125\n",
      " 126 127 128 129 130 131 132 133 134 135 136 137 138 139 140 141 142 143\n",
      " 144 145 146 147 148 149 150 151 152 153 154 155 156 157 158 159 160 161\n",
      " 162 163 164 165 166 167 168 169 170 171 172 173 174 175 176 177 178 179\n",
      " 180 181 182 183 184 185 186 187 188 189 190 191 192 193 194 195 196 197\n",
      " 198 199 200 201 202 203 204 205 206 207 208 209 210 211 212 213 214 215\n",
      " 216 217 218 219 220 221 222 223 224 225 226 227 228 229 230 231 232 233\n",
      " 234 235 236 237 238 239 240 241 242 243 244 245 246 247 248 249 250 251\n",
      " 252 253 254 255]\n",
      "**********  dst_host_same_srv_rate  ***********\n",
      "[0.         1.         0.17004395 0.85986328 0.87988281 0.2199707\n",
      " 0.79980469 0.81982422 0.08001709 0.15002441 0.20996094 0.19995117\n",
      " 0.62011719 0.64990234 0.66992188 0.68017578 0.70019531 0.18994141\n",
      " 0.04000854 0.68994141 0.09997559 0.16003418 0.11999512 0.62988281\n",
      " 0.64013672 0.13000488 0.14001465 0.02000427 0.56005859 0.54003906\n",
      " 0.54980469 0.56982422 0.58007812 0.58984375 0.60009766 0.60986328\n",
      " 0.18005371 0.66015625 0.10998535 0.04998779 0.05999756 0.07000732\n",
      " 0.5        0.75       0.33007812 0.70996094 0.77978516 0.27001953\n",
      " 0.22998047 0.09002686 0.02999878 0.52978516 0.52001953 0.50976562\n",
      " 0.89013672 0.89990234 0.83007812 0.85009766 0.87011719 0.81005859\n",
      " 0.79003906 0.23999023 0.77001953 0.42993164 0.72998047 0.75976562\n",
      " 0.01000214 0.99023438 0.93994141 0.91015625 0.83984375 0.31005859\n",
      " 0.72021484 0.74023438 0.25       0.29003906 0.2800293  0.91992188\n",
      " 0.93017578 0.95019531 0.95996094 0.32006836 0.35009766 0.36010742\n",
      " 0.37011719 0.37988281 0.38989258 0.39990234 0.40991211 0.41992188\n",
      " 0.30004883 0.97021484 0.26000977 0.43994141 0.4699707  0.47998047\n",
      " 0.48999023 0.45996094 0.34008789 0.44995117 0.97998047]\n",
      "**********  dst_host_diff_srv_rate  ***********\n",
      "[0.         0.33007812 0.29003906 0.25       0.2199707  0.19995117\n",
      " 0.18005371 0.22998047 0.20996094 0.18994141 0.17004395 0.16003418\n",
      " 0.15002441 0.14001465 0.13000488 0.11999512 0.10998535 0.09997559\n",
      " 0.09002686 0.08001709 0.07000732 0.05999756 0.04998779 0.04000854\n",
      " 1.         0.66992188 0.5        0.39990234 0.02999878 0.02000427\n",
      " 0.75       0.60009766 0.42993164 0.37988281 0.30004883 0.27001953\n",
      " 0.31005859 0.23999023 0.56982422 0.43994141 0.36010742 0.2800293\n",
      " 0.26000977 0.01000214 0.79980469 0.32006836 0.34008789 0.35009766\n",
      " 0.37011719 0.99023438 0.97021484 0.95996094 0.95019531 0.93017578\n",
      " 0.91992188 0.91015625 0.89990234 0.89013672 0.87988281 0.87011719\n",
      " 0.85986328 0.85009766 0.83984375 0.83007812 0.81982422 0.81005859\n",
      " 0.79003906 0.77978516 0.77001953 0.75976562 0.74023438 0.72998047\n",
      " 0.72021484 0.70996094 0.70019531 0.68994141 0.68017578 0.66015625\n",
      " 0.64990234 0.64013672 0.62988281 0.62011719 0.60986328 0.58984375\n",
      " 0.58007812 0.56005859 0.54980469 0.54003906 0.52978516 0.52001953\n",
      " 0.50976562 0.48999023 0.47998047 0.4699707  0.45996094 0.44995117\n",
      " 0.41992188 0.40991211 0.38989258 0.93994141 0.97998047]\n",
      "**********  dst_host_same_src_port_rate  ***********\n",
      "[0.         1.         0.5        0.33007812 0.25       0.19995117\n",
      " 0.17004395 0.14001465 0.11999512 0.10998535 0.09997559 0.09002686\n",
      " 0.08001709 0.07000732 0.05999756 0.04998779 0.04000854 0.02999878\n",
      " 0.02000427 0.01000214 0.2199707  0.20996094 0.18994141 0.16003418\n",
      " 0.18005371 0.27001953 0.22998047 0.99023438 0.83007812 0.85986328\n",
      " 0.87988281 0.79980469 0.75       0.77001953 0.79003906 0.75976562\n",
      " 0.77978516 0.74023438 0.2800293  0.31005859 0.70019531 0.70996094\n",
      " 0.72021484 0.72998047 0.52978516 0.54003906 0.54980469 0.56005859\n",
      " 0.56982422 0.58007812 0.58984375 0.60009766 0.60986328 0.62011719\n",
      " 0.62988281 0.64013672 0.64990234 0.66015625 0.66992188 0.68017578\n",
      " 0.68994141 0.39990234 0.15002441 0.23999023 0.26000977 0.29003906\n",
      " 0.32006836 0.97998047 0.37988281 0.36010742 0.40991211 0.42993164\n",
      " 0.44995117 0.4699707  0.47998047 0.50976562 0.52001953 0.30004883\n",
      " 0.13000488 0.43994141 0.41992188 0.37011719 0.38989258 0.34008789\n",
      " 0.35009766 0.45996094 0.48999023 0.81005859 0.81982422 0.83984375\n",
      " 0.85009766 0.87011719 0.89013672 0.89990234 0.91015625 0.91992188\n",
      " 0.93017578 0.93994141 0.95019531 0.95996094 0.97021484]\n",
      "**********  dst_host_srv_diff_host_rate  ***********\n",
      "[0.         0.02999878 0.04000854 0.04998779 0.05999756 0.07000732\n",
      " 0.02000427 0.01000214 0.09002686 0.08001709 0.2199707  0.19995117\n",
      " 0.13000488 0.18005371 0.11999512 0.17004395 0.10998535 1.\n",
      " 0.15002441 0.14001465 0.09997559 0.66992188 0.20996094 0.18994141\n",
      " 0.5        0.39990234 0.33007812 0.23999023 0.29003906 0.25\n",
      " 0.31005859 0.27001953 0.35009766 0.32006836 0.36010742 0.37988281\n",
      " 0.38989258 0.45996094 0.42993164 0.75       0.79980469 0.83007812\n",
      " 0.85986328 0.22998047 0.60009766 0.30004883 0.43994141 0.56982422\n",
      " 0.16003418 0.87988281 0.44995117 0.37011719 0.2800293  0.26000977\n",
      " 0.56005859 0.54980469 0.62011719 0.58007812 0.54003906 0.4699707\n",
      " 0.40991211 0.34008789 0.52978516 0.52001953 0.50976562 0.48999023\n",
      " 0.47998047 0.41992188 0.70996094 0.64013672 0.58984375 0.97021484\n",
      " 0.93017578 0.77978516 0.70019531 0.72998047]\n",
      "**********  dst_host_serror_rate  ***********\n"
     ]
    },
    {
     "name": "stdout",
     "output_type": "stream",
     "text": [
      "[0.         0.01000214 0.02000427 0.02999878 0.07000732 0.05999756\n",
      " 0.04998779 0.04000854 0.5        0.33007812 0.25       0.19995117\n",
      " 0.17004395 0.14001465 0.11999512 0.10998535 0.09997559 0.09002686\n",
      " 0.08001709 1.         0.93994141 0.87988281 0.83007812 0.79003906\n",
      " 0.75       0.70996094 0.68017578 0.64990234 0.62011719 0.60009766\n",
      " 0.58007812 0.56005859 0.54003906 0.52001953 0.47998047 0.4699707\n",
      " 0.44995117 0.43994141 0.42993164 0.41992188 0.40991211 0.38989258\n",
      " 0.37988281 0.37011719 0.36010742 0.35009766 0.34008789 0.32006836\n",
      " 0.31005859 0.30004883 0.29003906 0.2800293  0.27001953 0.26000977\n",
      " 0.23999023 0.22998047 0.2199707  0.20996094 0.18994141 0.18005371\n",
      " 0.16003418 0.15002441 0.13000488 0.39990234 0.45996094 0.48999023\n",
      " 0.50976562 0.52978516 0.54980469 0.56982422 0.64013672 0.66992188\n",
      " 0.68994141 0.70019531 0.72021484 0.72998047 0.74023438 0.75976562\n",
      " 0.77001953 0.77978516 0.79980469 0.81005859 0.81982422 0.83984375\n",
      " 0.85009766 0.85986328 0.87011719 0.89013672 0.89990234 0.91015625\n",
      " 0.91992188 0.93017578 0.95019531 0.95996094 0.97021484 0.97998047\n",
      " 0.99023438 0.66015625 0.62988281 0.60986328 0.58984375]\n",
      "**********  dst_host_srv_serror_rate  ***********\n",
      "[0.         0.01000214 0.11999512 0.10998535 0.19995117 0.18005371\n",
      " 0.17004395 0.15002441 0.14001465 0.13000488 0.5        0.33007812\n",
      " 0.25       0.66992188 0.75       0.79980469 0.83007812 0.85986328\n",
      " 0.87988281 0.89013672 0.89990234 0.91015625 0.91992188 0.93017578\n",
      " 0.93994141 0.83984375 0.81005859 0.81982422 0.77978516 0.79003906\n",
      " 0.75976562 0.77001953 0.39990234 0.02000427 0.09997559 0.09002686\n",
      " 0.08001709 1.         0.02999878 0.04998779 0.04000854 0.07000732\n",
      " 0.05999756 0.29003906 0.2199707  0.16003418 0.23999023 0.27001953\n",
      " 0.30004883 0.36010742 0.37988281 0.40991211 0.42993164 0.44995117\n",
      " 0.4699707  0.47998047 0.52001953 0.48999023 0.18994141 0.95019531\n",
      " 0.72998047 0.70019531 0.64990234 0.62011719 0.60009766 0.58007812\n",
      " 0.56005859 0.54003906 0.43994141 0.38989258 0.35009766 0.34008789\n",
      " 0.31005859 0.26000977 0.20996094 0.56982422 0.54980469 0.70996094\n",
      " 0.85009766 0.87011719 0.22998047 0.32006836 0.37011719 0.68017578\n",
      " 0.74023438 0.95996094 0.58984375 0.97021484 0.60986328 0.62988281\n",
      " 0.64013672 0.66015625 0.68994141 0.97998047 0.72021484 0.50976562\n",
      " 0.45996094 0.41992188 0.2800293  0.52978516]\n",
      "**********  dst_host_rerror_rate  ***********\n",
      "[0.         1.         0.14001465 0.11999512 0.10998535 0.09997559\n",
      " 0.09002686 0.08001709 0.07000732 0.05999756 0.04998779 0.04000854\n",
      " 0.02999878 0.02000427 0.01000214 0.5        0.66992188 0.75\n",
      " 0.79980469 0.83007812 0.85986328 0.87988281 0.89013672 0.89990234\n",
      " 0.91015625 0.91992188 0.93017578 0.93994141 0.95019531 0.95996094\n",
      " 0.83984375 0.81982422 0.79003906 0.77978516 0.77001953 0.74023438\n",
      " 0.72998047 0.72021484 0.70996094 0.70019531 0.68994141 0.68017578\n",
      " 0.66015625 0.64990234 0.64013672 0.62988281 0.62011719 0.60986328\n",
      " 0.60009766 0.58984375 0.58007812 0.56982422 0.56005859 0.54980469\n",
      " 0.54003906 0.52978516 0.52001953 0.50976562 0.48999023 0.47998047\n",
      " 0.4699707  0.45996094 0.44995117 0.43994141 0.42993164 0.41992188\n",
      " 0.40991211 0.39990234 0.38989258 0.37988281 0.37011719 0.36010742\n",
      " 0.35009766 0.34008789 0.33007812 0.32006836 0.31005859 0.30004883\n",
      " 0.29003906 0.97021484 0.87011719 0.85009766 0.81005859 0.75976562\n",
      " 0.97998047 0.2800293  0.27001953 0.26000977 0.25       0.19995117\n",
      " 0.17004395 0.18005371 0.22998047 0.20996094 0.23999023 0.2199707\n",
      " 0.18994141 0.16003418 0.15002441 0.13000488 0.99023438]\n",
      "**********  dst_host_srv_rerror_rate  ***********\n",
      "[0.         1.         0.5        0.33007812 0.25       0.19995117\n",
      " 0.17004395 0.14001465 0.11999512 0.10998535 0.09997559 0.66992188\n",
      " 0.75       0.79980469 0.83007812 0.85986328 0.87988281 0.89013672\n",
      " 0.89990234 0.91015625 0.91992188 0.93017578 0.93994141 0.95019531\n",
      " 0.95996094 0.02000427 0.02999878 0.01000214 0.09002686 0.08001709\n",
      " 0.07000732 0.05999756 0.04998779 0.04000854 0.29003906 0.39990234\n",
      " 0.2199707  0.18005371 0.15002441 0.13000488 0.99023438 0.97998047\n",
      " 0.97021484 0.87011719 0.85009766 0.83984375 0.81982422 0.81005859\n",
      " 0.79003906 0.77978516 0.77001953 0.74023438 0.70996094 0.68017578\n",
      " 0.64990234 0.62988281 0.60986328 0.58984375 0.56982422 0.54980469\n",
      " 0.56005859 0.58007812 0.54003906 0.52001953 0.50976562 0.48999023\n",
      " 0.47998047 0.4699707  0.45996094 0.44995117 0.52978516 0.60009766\n",
      " 0.62011719 0.64013672 0.66015625 0.68994141 0.70019531 0.72021484\n",
      " 0.72998047 0.75976562 0.22998047 0.27001953 0.32006836 0.36010742\n",
      " 0.40991211 0.37988281 0.42993164 0.16003418 0.30004883 0.31005859\n",
      " 0.34008789 0.35009766 0.37011719 0.38989258 0.41992188 0.43994141\n",
      " 0.18994141 0.20996094 0.23999023 0.26000977 0.2800293 ]\n",
      "**********  labels  ***********\n",
      "[normal., buffer_overflow., loadmodule., perl., neptune., ..., multihop., warezmaster., warezclient., spy., rootkit.]\n",
      "Length: 23\n",
      "Categories (23, object): [normal., buffer_overflow., loadmodule., perl., ..., warezmaster., warezclient., spy., rootkit.]\n"
     ]
    }
   ],
   "source": [
    "unique_vals(train_df)"
   ]
  },
  {
   "cell_type": "markdown",
   "metadata": {},
   "source": [
    "# Data cleaning and transformation"
   ]
  },
  {
   "cell_type": "markdown",
   "metadata": {},
   "source": [
    "#### Columns have empty spaces removing empty spaces"
   ]
  },
  {
   "cell_type": "code",
   "execution_count": 21,
   "metadata": {},
   "outputs": [],
   "source": [
    "train_df['labels']=train_df['labels'].map(lambda x: x.replace('.',''))"
   ]
  },
  {
   "cell_type": "markdown",
   "metadata": {},
   "source": [
    "#### Creating new columns categorizing labels into attack_type"
   ]
  },
  {
   "cell_type": "code",
   "execution_count": 22,
   "metadata": {},
   "outputs": [],
   "source": [
    "# Attack type `1\n",
    "a1=[\n",
    "'Apache2',\n",
    "'arppoison', \n",
    "'Back',\n",
    "'Crashiis',\n",
    "'dosnuke', \n",
    "'Land',\n",
    "'Mailbomb',\n",
    "'neptune', \n",
    "'PingofDeath', \n",
    "'ProcessTable',\n",
    "'selfping',\n",
    "'Smurf',\n",
    "'sshprocesstable',\n",
    "'Syslogd',\n",
    "'tcpreset',\n",
    "'Teardrop',\n",
    "'Udpstorm',\n",
    "'pod'\n",
    "]\n",
    "# Attack type `2\n",
    "a2=[\n",
    "'anypw',\n",
    "'casesen',\n",
    "'Eject',\n",
    "'Ffbconfig',\n",
    "'Fdformat',\n",
    "'Loadmodule', \n",
    "'ntfsdos',\n",
    "'Perl',\n",
    "'Ps',\n",
    "'sechole',\n",
    "'Xterm',\n",
    "'yaga',\n",
    "'buffer_overflow',\n",
    "'rootkit'\n",
    "]\n",
    "# Attack type `3\n",
    "a3=[\n",
    "'Dictionary',\n",
    "'Ftp_write',\n",
    "'Guest',\n",
    "'Httptunnel',\n",
    "'Imap',\n",
    "'Named',\n",
    "'ncftp' ,\n",
    "'netbus'\n",
    "'netcat',\n",
    "'Phf',\n",
    "'ppmacro', \n",
    "'Sendmail',\n",
    "'sshtrojan', \n",
    "'Xlock',\n",
    "'Xsnoop',\n",
    "'warezmaster',\n",
    "'warezclient',\n",
    "'guess_passwd',\n",
    "'spy'\n",
    "]\n",
    "\n",
    "# Attack type `4\n",
    "a4=[\n",
    "'insidesniffer',\n",
    "'Ipsweep',\n",
    "'ls_domain', \n",
    "'Mscan',\n",
    "'NTinfoscan',\n",
    "'Nmap',\n",
    "'queso' ,\n",
    "'resetscan', \n",
    "'Saint',\n",
    "'Satan',\n",
    "'portsweep',\n",
    "'multihop'\n",
    "]\n",
    "dos=[i.lower() for i in a1]\n",
    "u2ra=[i.lower() for i in a2]\n",
    "r2ua=[i.lower() for i in a3]\n",
    "probes=[i.lower() for i in a4]"
   ]
  },
  {
   "cell_type": "code",
   "execution_count": 23,
   "metadata": {},
   "outputs": [],
   "source": [
    "def atk_type(lbl):\n",
    "   \n",
    "    if lbl in dos:\n",
    "        #print(lbl+\" DOS\")\n",
    "        return 'DOS'\n",
    "    elif lbl in u2ra:\n",
    "        return 'U2RA'\n",
    "    elif lbl in r2ua:\n",
    "        return 'R2LA'\n",
    "    elif lbl in probes:\n",
    "        return 'PROBES'\n",
    "    elif lbl=='normal':\n",
    "        return 'safe'\n",
    "    else:\n",
    "        return np.nan\n",
    "    \n",
    "train_df['attack_type']=train_df['labels'].map(lambda x: atk_type(x) )\n"
   ]
  },
  {
   "cell_type": "code",
   "execution_count": 24,
   "metadata": {},
   "outputs": [
    {
     "data": {
      "text/plain": [
       "array(['safe', 'U2RA', 'DOS', 'R2LA', 'PROBES'], dtype=object)"
      ]
     },
     "execution_count": 24,
     "metadata": {},
     "output_type": "execute_result"
    }
   ],
   "source": [
    "train_df['attack_type'].unique()"
   ]
  },
  {
   "cell_type": "code",
   "execution_count": 25,
   "metadata": {},
   "outputs": [
    {
     "data": {
      "text/plain": [
       "0"
      ]
     },
     "execution_count": 25,
     "metadata": {},
     "output_type": "execute_result"
    }
   ],
   "source": [
    "# Verifying if all labels are categorized into attack_type\n",
    "train_df['attack_type'].isnull().sum()"
   ]
  },
  {
   "cell_type": "markdown",
   "metadata": {},
   "source": [
    "#### As focus of our study is Denial of Service attack we are removing other attack types"
   ]
  },
  {
   "cell_type": "code",
   "execution_count": 26,
   "metadata": {},
   "outputs": [],
   "source": [
    "train_df1=train_df[(train_df['attack_type']=='DOS') | (train_df['attack_type']=='safe')]"
   ]
  },
  {
   "cell_type": "code",
   "execution_count": 27,
   "metadata": {},
   "outputs": [],
   "source": [
    "drop=['hot','num_failed_logins',  'logged_in', 'num_compromised',\n",
    "     'root_shell', 'su_attempted', 'num_root', 'num_file_creations',\n",
    "      'num_shells', 'num_access_files', 'num_outbound_cmds', 'is_host_login',\n",
    "     'is_guest_login']"
   ]
  },
  {
   "cell_type": "code",
   "execution_count": 28,
   "metadata": {},
   "outputs": [
    {
     "name": "stderr",
     "output_type": "stream",
     "text": [
      "/anaconda3/lib/python3.6/site-packages/ipykernel_launcher.py:1: SettingWithCopyWarning: \n",
      "A value is trying to be set on a copy of a slice from a DataFrame\n",
      "\n",
      "See the caveats in the documentation: http://pandas.pydata.org/pandas-docs/stable/indexing.html#indexing-view-versus-copy\n",
      "  \"\"\"Entry point for launching an IPython kernel.\n"
     ]
    }
   ],
   "source": [
    "train_df1.drop(columns=drop, inplace=True)"
   ]
  },
  {
   "cell_type": "markdown",
   "metadata": {},
   "source": [
    "### Visualizing Data"
   ]
  },
  {
   "cell_type": "markdown",
   "metadata": {},
   "source": [
    "#### Distribution of DOS and normal traffic"
   ]
  },
  {
   "cell_type": "code",
   "execution_count": 29,
   "metadata": {},
   "outputs": [
    {
     "data": {
      "text/plain": [
       "Text(0.5,1,'Attack Type')"
      ]
     },
     "execution_count": 29,
     "metadata": {},
     "output_type": "execute_result"
    },
    {
     "data": {
      "image/png": "[encoded data removed]",
      "text/plain": [
       "<Figure size 720x576 with 1 Axes>"
      ]
     },
     "metadata": {},
     "output_type": "display_data"
    }
   ],
   "source": [
    "attacktype=pd.DataFrame(train_df1['attack_type'].value_counts())\n",
    "attacktype.plot.bar(figsize=(10,8))\n",
    "plt.title(\"Attack Type\", fontsize=18)"
   ]
  },
  {
   "cell_type": "code",
   "execution_count": 32,
   "metadata": {},
   "outputs": [
    {
     "data": {
      "text/plain": [
       "<Figure size 720x576 with 0 Axes>"
      ]
     },
     "metadata": {},
     "output_type": "display_data"
    },
    {
     "data": {
      "image/png": "[encoded data removed]",
      "text/plain": [
       "<Figure size 419.5x360 with 1 Axes>"
      ]
     },
     "metadata": {},
     "output_type": "display_data"
    }
   ],
   "source": [
    "sns.set_style(\"whitegrid\")\n",
    "fig=plt.figure(figsize=(10,8))\n",
    "sns.lmplot(x='wrong_fragment',y='duration', data=train_df1, hue='attack_type', fit_reg=False)\n",
    "plt.xlabel(\"Wrong Fragment\", fontsize=14)\n",
    "plt.ylabel(\"duration\", fontsize=14)\n",
    "plt.title(\"Duration vs Wrong Fragment\", fontsize=18)\n",
    "\n",
    "plt.legend()\n",
    "plt.show();"
   ]
  },
  {
   "cell_type": "markdown",
   "metadata": {},
   "source": [
    "#### Duration for Denial of Service remain same while we see variation in src_bytes"
   ]
  },
  {
   "cell_type": "code",
   "execution_count": 34,
   "metadata": {},
   "outputs": [
    {
     "name": "stderr",
     "output_type": "stream",
     "text": [
      "No handles with labels found to put in legend.\n"
     ]
    },
    {
     "data": {
      "image/png": "[encoded data removed]",
      "text/plain": [
       "<Figure size 720x576 with 1 Axes>"
      ]
     },
     "metadata": {},
     "output_type": "display_data"
    }
   ],
   "source": [
    "sns.set_style(\"whitegrid\")\n",
    "Xwf=train_df1[train_df1['attack_type']=='DOS']['wrong_fragment']\n",
    "Ydur=train_df1[train_df1['attack_type']=='DOS']['duration']\n",
    "fig=plt.figure(figsize=(10,8))\n",
    "sns.regplot(x=Xwf,y=Ydur, fit_reg=False)\n",
    "plt.xlabel(\"Wrong Fragment\", fontsize=14)\n",
    "plt.ylabel(\"duration\", fontsize=14)\n",
    "plt.title(\"Duration vs Wrong Fragment\", fontsize=18)\n",
    "\n",
    "plt.legend()\n",
    "plt.show();"
   ]
  },
  {
   "cell_type": "code",
   "execution_count": 31,
   "metadata": {},
   "outputs": [
    {
     "data": {
      "text/plain": [
       "<Figure size 720x576 with 0 Axes>"
      ]
     },
     "metadata": {},
     "output_type": "display_data"
    },
    {
     "data": {
      "image/png": "[encoded data removed]",
      "text/plain": [
       "<Figure size 419.5x360 with 1 Axes>"
      ]
     },
     "metadata": {},
     "output_type": "display_data"
    }
   ],
   "source": [
    "fig=plt.figure(figsize=(10,8))\n",
    "sns.lmplot(x='wrong_fragment', y='serror_rate', data=train_df1, hue='attack_type', fit_reg=False)\n",
    "plt.xlabel(\"``SYN'' errors\", fontsize=14)\n",
    "plt.ylabel(\"Wrong Fragments\", fontsize=14)\n",
    "\n",
    "plt.title(\"``SYN'' errors\", fontsize=18)\n",
    "plt.show()"
   ]
  },
  {
   "cell_type": "code",
   "execution_count": 35,
   "metadata": {},
   "outputs": [
    {
     "data": {
      "text/plain": [
       "<Figure size 720x576 with 0 Axes>"
      ]
     },
     "metadata": {},
     "output_type": "display_data"
    },
    {
     "data": {
      "image/png": "[encoded data removed]",
      "text/plain": [
       "<Figure size 419.5x360 with 1 Axes>"
      ]
     },
     "metadata": {},
     "output_type": "display_data"
    }
   ],
   "source": [
    "fig=plt.figure(figsize=(10,8))\n",
    "sns.lmplot(x='wrong_fragment', y='rerror_rate', data=train_df1, hue='attack_type', fit_reg=False)\n",
    "plt.xlabel(\"``REJ'' errors\", fontsize=14)\n",
    "plt.ylabel(\"Wrong Fragments \", fontsize=14)\n",
    "\n",
    "plt.title(\"``REJ'' errors\", fontsize=18)\n",
    "plt.show()"
   ]
  },
  {
   "cell_type": "markdown",
   "metadata": {},
   "source": [
    "### To improve the visualization of difference between DOS and safe packets we will take the logarithmic scale of source and destination byte"
   ]
  },
  {
   "cell_type": "code",
   "execution_count": 33,
   "metadata": {},
   "outputs": [
    {
     "name": "stderr",
     "output_type": "stream",
     "text": [
      "/anaconda3/lib/python3.6/site-packages/ipykernel_launcher.py:1: RuntimeWarning: divide by zero encountered in log\n",
      "  \"\"\"Entry point for launching an IPython kernel.\n",
      "/anaconda3/lib/python3.6/site-packages/ipykernel_launcher.py:1: SettingWithCopyWarning: \n",
      "A value is trying to be set on a copy of a slice from a DataFrame.\n",
      "Try using .loc[row_indexer,col_indexer] = value instead\n",
      "\n",
      "See the caveats in the documentation: http://pandas.pydata.org/pandas-docs/stable/indexing.html#indexing-view-versus-copy\n",
      "  \"\"\"Entry point for launching an IPython kernel.\n",
      "/anaconda3/lib/python3.6/site-packages/ipykernel_launcher.py:2: RuntimeWarning: divide by zero encountered in log\n",
      "  \n",
      "/anaconda3/lib/python3.6/site-packages/ipykernel_launcher.py:2: SettingWithCopyWarning: \n",
      "A value is trying to be set on a copy of a slice from a DataFrame.\n",
      "Try using .loc[row_indexer,col_indexer] = value instead\n",
      "\n",
      "See the caveats in the documentation: http://pandas.pydata.org/pandas-docs/stable/indexing.html#indexing-view-versus-copy\n",
      "  \n"
     ]
    }
   ],
   "source": [
    "train_df1['src_bytes_log']=train_df1['src_bytes'].map(lambda x: np.log(x))\n",
    "train_df1['dst_bytes_log']=train_df1['dst_bytes'].map(lambda x: np.log(x))"
   ]
  },
  {
   "cell_type": "code",
   "execution_count": 34,
   "metadata": {},
   "outputs": [],
   "source": [
    "sns.set_style('darkgrid')"
   ]
  },
  {
   "cell_type": "code",
   "execution_count": 130,
   "metadata": {
    "scrolled": true
   },
   "outputs": [
    {
     "data": {
      "text/plain": [
       "<matplotlib.legend.Legend at 0x11fc39c18>"
      ]
     },
     "execution_count": 130,
     "metadata": {},
     "output_type": "execute_result"
    },
    {
     "data": {
      "image/png": "[encoded data removed]",
      "text/plain": [
       "<Figure size 720x576 with 1 Axes>"
      ]
     },
     "metadata": {},
     "output_type": "display_data"
    },
    {
     "data": {
      "image/png": "[encoded data removed]",
      "text/plain": [
       "<Figure size 720x576 with 1 Axes>"
      ]
     },
     "metadata": {},
     "output_type": "display_data"
    }
   ],
   "source": [
    "fig=plt.figure(figsize=(10,8))\n",
    "sns.distplot(train_df1[train_df1['attack_type']=='safe']['src_bytes_log'], color='green', \n",
    "            label='Src bytes(log)-Safe', hist=False)\n",
    "sns.distplot(train_df1[train_df1['attack_type']=='DOS']['src_bytes_log'], color='#ff5555', \n",
    "            label='Source bytes(log)-DOS', hist=False)\n",
    "plt.xlabel(\"Src byte\", fontsize=20)\n",
    "plt.ylabel(\"Frequency\", fontsize=20)\n",
    "plt.legend()\n",
    "fig=plt.figure(figsize=(10,8))\n",
    "sns.distplot(train_df1[train_df1['attack_type']=='safe']['dst_bytes_log'], color='green', \n",
    "            label='Dst bytes(log)-Safe', hist=False)\n",
    "sns.distplot(train_df1[train_df1['attack_type']=='DOS']['dst_bytes_log'], color='#ff5555', \n",
    "            label='Dst bytes(log)-DOS', hist=False)\n",
    "plt.xlabel(\"dst byte\", fontsize=20)\n",
    "plt.ylabel(\"Frequency\", fontsize=20)\n",
    "plt.ylim(0,10)\n",
    "plt.legend()"
   ]
  },
  {
   "cell_type": "markdown",
   "metadata": {},
   "source": [
    "We see clear difference between distribution of source byte size (logarithmand destination byte size between DOS traffic and normal traffic"
   ]
  },
  {
   "cell_type": "markdown",
   "metadata": {},
   "source": [
    "### Visualizing  comparison of service and protocol type of DOS and safe traffic"
   ]
  },
  {
   "cell_type": "code",
   "execution_count": 92,
   "metadata": {},
   "outputs": [],
   "source": [
    "train_gp1=train_df1.groupby(['attack_type'])['service']\n",
    "\n",
    "# Grouping network service by DOS and safe traffic\n",
    "dos_service=pd.DataFrame(train_gp1.get_group('DOS'), columns=['service'])\n",
    "sfe_service=pd.DataFrame(train_gp1.get_group('safe'), columns=['service'])\n"
   ]
  },
  {
   "cell_type": "code",
   "execution_count": 117,
   "metadata": {},
   "outputs": [],
   "source": [
    "dos_service['service']=dos_service['service'].astype(object)\n",
    "sfe_service['service']=sfe_service['service'].astype(object)"
   ]
  },
  {
   "cell_type": "code",
   "execution_count": 118,
   "metadata": {},
   "outputs": [],
   "source": [
    "def visualize_count(df, col, title, size=(10,8)):\n",
    "    fig=plt.figure(figsize=size)\n",
    "    ax=fig.gca()\n",
    "    sns.set_style(\"darkgrid\")\n",
    "    sns.barplot(x=df[col], y=df.index)\n",
    "    ax.set_xlabel(\"Count\", fontsize=15)\n",
    "    ax.tick_params(labelsize=20)\n",
    "    plt.title(title, fontsize=20)\n",
    "\n",
    "s=pd.DataFrame(sfe_service['service'].value_counts())\n",
    "d=pd.DataFrame(dos_service['service'].value_counts())\n"
   ]
  },
  {
   "cell_type": "code",
   "execution_count": 124,
   "metadata": {
    "scrolled": false
   },
   "outputs": [
    {
     "data": {
      "image/png": "[encoded data removed]",
      "text/plain": [
       "<Figure size 720x576 with 1 Axes>"
      ]
     },
     "metadata": {},
     "output_type": "display_data"
    },
    {
     "data": {
      "image/png": "[encoded data removed]",
      "text/plain": [
       "<Figure size 720x576 with 1 Axes>"
      ]
     },
     "metadata": {},
     "output_type": "display_data"
    }
   ],
   "source": [
    "visualize_count(df=s[0:10], col='service', title='safe')\n",
    "visualize_count(df=d[0:5], col='service', title='dos')\n"
   ]
  },
  {
   "cell_type": "markdown",
   "metadata": {},
   "source": [
    "As expected http and smtp service for normal traffic while DOS traffic are mostly  ecr_i"
   ]
  },
  {
   "cell_type": "code",
   "execution_count": 129,
   "metadata": {},
   "outputs": [],
   "source": [
    "# Grouping network protocol by DOS and safe traffic\n",
    "train_gp2=train_df1.groupby(['attack_type'])['protocol_type']\n",
    "dos_protocol=pd.DataFrame(train_gp2.get_group('DOS'), columns=['protocol_type'])\n",
    "sfe_protocol=pd.DataFrame(train_gp2.get_group('safe'), columns=['protocol_type'])\n",
    "dos_protocol['protocol_type']=dos_protocol['protocol_type'].astype(object)\n",
    "sfe_protocol['protocol_type']=sfe_protocol['protocol_type'].astype(object)\n",
    "sp=pd.DataFrame(sfe_protocol['protocol_type'].value_counts())\n",
    "dp=pd.DataFrame(dos_protocol['protocol_type'].value_counts())"
   ]
  },
  {
   "cell_type": "code",
   "execution_count": 130,
   "metadata": {},
   "outputs": [
    {
     "data": {
      "text/plain": [
       "Index(['tcp', 'udp', 'icmp'], dtype='object')"
      ]
     },
     "execution_count": 130,
     "metadata": {},
     "output_type": "execute_result"
    }
   ],
   "source": [
    "sp.index"
   ]
  },
  {
   "cell_type": "code",
   "execution_count": 132,
   "metadata": {
    "scrolled": false
   },
   "outputs": [
    {
     "data": {
      "image/png": "[encoded data removed]",
      "text/plain": [
       "<Figure size 720x576 with 1 Axes>"
      ]
     },
     "metadata": {},
     "output_type": "display_data"
    },
    {
     "data": {
      "image/png": "[encoded data removed]",
      "text/plain": [
       "<Figure size 720x576 with 1 Axes>"
      ]
     },
     "metadata": {},
     "output_type": "display_data"
    }
   ],
   "source": [
    "visualize_count(df=sp, col='protocol_type', title='safe')\n",
    "visualize_count(df=dp, col='protocol_type', title='dos')"
   ]
  },
  {
   "cell_type": "markdown",
   "metadata": {},
   "source": [
    "In normal situation ICMP (ping or traceroute) is commonly used by network and systems engineers for troubleshooting network issues. Visualization shows DOS attacker uses ICMP protocol as means of launching the attack . Excess increase  of ICMP packets in network is indication for DOS attack"
   ]
  },
  {
   "cell_type": "code",
   "execution_count": 133,
   "metadata": {},
   "outputs": [
    {
     "data": {
      "image/png": "[encoded data removed]",
      "text/plain": [
       "<Figure size 720x576 with 1 Axes>"
      ]
     },
     "metadata": {},
     "output_type": "display_data"
    },
    {
     "data": {
      "image/png": "[encoded data removed]",
      "text/plain": [
       "<Figure size 720x576 with 1 Axes>"
      ]
     },
     "metadata": {},
     "output_type": "display_data"
    }
   ],
   "source": [
    "train_gp3=train_df1.groupby(['attack_type'])['flag']\n",
    "dos_flag=pd.DataFrame(train_gp3.get_group('DOS'))\n",
    "sfe_flag=pd.DataFrame(train_gp3.get_group('safe'))\n",
    "#prb_flag=pd.DataFrame(train_gp3.get_group('PROBES'))\n",
    "dos_flag['flag']=dos_flag['flag'].astype(object)\n",
    "sfe_flag['flag']=sfe_flag['flag'].astype(object)\n",
    "sf=pd.DataFrame(sfe_flag['flag'].value_counts())\n",
    "df=pd.DataFrame(dos_flag['flag'].value_counts())\n",
    "#pf=pd.DataFrame(prb_flag['flag'].value_counts())\n",
    "\n",
    "visualize_count(df=sf, col='flag', title='safe')\n",
    "visualize_count(df=df, col='flag', title='dos')"
   ]
  },
  {
   "cell_type": "markdown",
   "metadata": {},
   "source": [
    "### TCP Flags\n",
    "\n",
    "**S0**\tConnection attempt seen, no reply.\n",
    "\n",
    "**S1**\tConnection established, not terminated.\n",
    "\n",
    "**SF**\tNormal establishment and termination. Note that this is the same symbol as for state \n",
    "\n",
    "**S1**. You can tell the two apart because for S1 there will not be any byte counts in the summary, while for SF there will be.\n",
    "\n",
    "**REJ**\tConnection attempt rejected.\n",
    "\n",
    "**S2**\tConnection established and close attempt by originator seen (but no reply from responder).\n",
    "\n",
    "**S3**\tConnection established and close attempt by responder seen (but no reply from originator).\n",
    "\n",
    "**RSTO**\tConnection established, originator aborted (sent a RST).\n",
    "\n",
    "**RSTR**\tResponder sent a RST.\n",
    "\n",
    "**RSTOS0**\tOriginator sent a SYN followed by a RST, we never saw a SYN-ACK from the responder.\n",
    "\n",
    "**RSTRH**\tResponder sent a SYN ACK followed by a RST, we never saw a SYN from the (purported) originator.\n",
    "**SH**\tOriginator sent a SYN followed by a FIN, we never saw a SYN ACK from the responder (hence the connection was “half” open).\n",
    "\n",
    "**SHR**\tResponder sent a SYN ACK followed by a FIN, we never saw a SYN from the originator.\n",
    "\n",
    "**OTH**\tNo SYN seen, just midstream traffic (a “partial connection” that was not later closed).\n",
    "\n",
    "\n",
    "We see both normal connection and denial of service attack has **SF** flags set indicating Normal establishment and termination. The flag that stands out in DOS attack is **S0**  meaning Connection attempt seen, no reply. Refer to the calculation below"
   ]
  },
  {
   "cell_type": "code",
   "execution_count": 183,
   "metadata": {},
   "outputs": [],
   "source": [
    "train_gp3=train_df1.groupby('attack_type')"
   ]
  },
  {
   "cell_type": "code",
   "execution_count": 192,
   "metadata": {},
   "outputs": [
    {
     "data": {
      "text/plain": [
       "3883370"
      ]
     },
     "execution_count": 192,
     "metadata": {},
     "output_type": "execute_result"
    }
   ],
   "source": [
    "train_gp3.get_group('DOS').agg('count')[0]"
   ]
  },
  {
   "cell_type": "code",
   "execution_count": 193,
   "metadata": {},
   "outputs": [
    {
     "data": {
      "text/plain": [
       "972781"
      ]
     },
     "execution_count": 193,
     "metadata": {},
     "output_type": "execute_result"
    }
   ],
   "source": [
    "train_gp3.get_group('safe').agg('count')[0]"
   ]
  },
  {
   "cell_type": "code",
   "execution_count": 189,
   "metadata": {
    "scrolled": true
   },
   "outputs": [
    {
     "data": {
      "text/plain": [
       "flag\n",
       "OTH        0.000000\n",
       "REJ        5.149393\n",
       "RSTO       0.118454\n",
       "RSTOS0     0.000000\n",
       "RSTR       0.002343\n",
       "S0        22.337995\n",
       "S1         0.000052\n",
       "S2         0.000129\n",
       "S3         0.000000\n",
       "SF        72.391634\n",
       "SH         0.000000\n",
       "Name: flag, dtype: float64"
      ]
     },
     "execution_count": 189,
     "metadata": {},
     "output_type": "execute_result"
    }
   ],
   "source": [
    "pd.DataFrame(train_gp3.get_group('DOS').groupby('flag').agg({'flag':'count'}))['flag'].map(lambda x: 100*x/3883370)"
   ]
  },
  {
   "cell_type": "code",
   "execution_count": 190,
   "metadata": {},
   "outputs": [
    {
     "data": {
      "text/plain": [
       "flag\n",
       "OTH        0.001336\n",
       "REJ        5.496921\n",
       "RSTO       0.061679\n",
       "RSTOS0     0.000000\n",
       "RSTR       0.034335\n",
       "S0         0.043586\n",
       "S1         0.054277\n",
       "S2         0.015728\n",
       "S3         0.004729\n",
       "SF        94.287203\n",
       "SH         0.000206\n",
       "Name: flag, dtype: float64"
      ]
     },
     "execution_count": 190,
     "metadata": {},
     "output_type": "execute_result"
    }
   ],
   "source": [
    "train_gp3.get_group('safe').groupby('flag').agg({'flag':'count'})['flag'].map(lambda x: 100*x/972781)"
   ]
  },
  {
   "cell_type": "markdown",
   "metadata": {},
   "source": [
    "#### Visualizing  distribution of session duration"
   ]
  },
  {
   "cell_type": "code",
   "execution_count": 207,
   "metadata": {},
   "outputs": [
    {
     "data": {
      "image/png": "[encoded data removed]",
      "text/plain": [
       "<Figure size 576x432 with 1 Axes>"
      ]
     },
     "metadata": {},
     "output_type": "display_data"
    }
   ],
   "source": [
    "fig=plt.figure(figsize=(8,6))\n",
    "sns.distplot(train_df1[train_df1['attack_type']=='DOS']['duration'], \n",
    "            kde_kws={\"color\":\"#ff0022\",\"lw\":4,\"label\":\"KDE Estim\",\"alpha\":0.5}\n",
    "             , label='DOS', hist=False)\n",
    "sns.distplot(train_df1[train_df1['attack_type']=='safe']['duration'],\n",
    "            kde_kws={\"color\":\"#00aaff\",\"lw\":4,\"label\":\"KDE Estim\",\"alpha\":0.5},\n",
    "             label='Safe', hist=False,)\n",
    "plt.legend()\n",
    "plt.show()"
   ]
  },
  {
   "cell_type": "code",
   "execution_count": 210,
   "metadata": {},
   "outputs": [
    {
     "data": {
      "text/plain": [
       "Text(0.5,1,'Distribution of DOS sessions durations')"
      ]
     },
     "execution_count": 210,
     "metadata": {},
     "output_type": "execute_result"
    },
    {
     "data": {
      "image/png": "[encoded data removed]",
      "text/plain": [
       "<Figure size 576x432 with 1 Axes>"
      ]
     },
     "metadata": {},
     "output_type": "display_data"
    }
   ],
   "source": [
    "fig=plt.figure(figsize=(8,6))\n",
    "sns.distplot(train_df1[train_df1['attack_type']=='DOS']['duration'], \n",
    "            kde_kws={\"color\":\"#ff0022\",\"lw\":4,\"label\":\"KDE Estim\",\"alpha\":0.5}\n",
    "             , label='DOS', hist=False)\n",
    "plt.title(\"Distribution of DOS sessions durations\", fontsize=20)"
   ]
  },
  {
   "cell_type": "code",
   "execution_count": 218,
   "metadata": {},
   "outputs": [
    {
     "data": {
      "text/html": [
       "<div>\n",
       "<style scoped>\n",
       "    .dataframe tbody tr th:only-of-type {\n",
       "        vertical-align: middle;\n",
       "    }\n",
       "\n",
       "    .dataframe tbody tr th {\n",
       "        vertical-align: top;\n",
       "    }\n",
       "\n",
       "    .dataframe thead th {\n",
       "        text-align: right;\n",
       "    }\n",
       "</style>\n",
       "<table border=\"1\" class=\"dataframe\">\n",
       "  <thead>\n",
       "    <tr style=\"text-align: right;\">\n",
       "      <th></th>\n",
       "      <th>count</th>\n",
       "      <th>mean</th>\n",
       "      <th>std</th>\n",
       "      <th>min</th>\n",
       "      <th>25%</th>\n",
       "      <th>50%</th>\n",
       "      <th>75%</th>\n",
       "      <th>max</th>\n",
       "    </tr>\n",
       "  </thead>\n",
       "  <tbody>\n",
       "    <tr>\n",
       "      <th>duration</th>\n",
       "      <td>3883370.0</td>\n",
       "      <td>0.000074</td>\n",
       "      <td>0.02663</td>\n",
       "      <td>0.0</td>\n",
       "      <td>0.0</td>\n",
       "      <td>0.0</td>\n",
       "      <td>0.0</td>\n",
       "      <td>14.0</td>\n",
       "    </tr>\n",
       "  </tbody>\n",
       "</table>\n",
       "</div>"
      ],
      "text/plain": [
       "              count      mean      std  min  25%  50%  75%   max\n",
       "duration  3883370.0  0.000074  0.02663  0.0  0.0  0.0  0.0  14.0"
      ]
     },
     "execution_count": 218,
     "metadata": {},
     "output_type": "execute_result"
    }
   ],
   "source": [
    "pd.DataFrame(train_df1[train_df1['attack_type']=='DOS']['duration'].describe()).T"
   ]
  },
  {
   "cell_type": "code",
   "execution_count": 209,
   "metadata": {},
   "outputs": [
    {
     "data": {
      "text/plain": [
       "Text(0.5,1,'Distribution of safe sessions durations')"
      ]
     },
     "execution_count": 209,
     "metadata": {},
     "output_type": "execute_result"
    },
    {
     "data": {
      "image/png": "[encoded data removed]",
      "text/plain": [
       "<Figure size 576x432 with 1 Axes>"
      ]
     },
     "metadata": {},
     "output_type": "display_data"
    }
   ],
   "source": [
    "fig=plt.figure(figsize=(8,6))\n",
    "sns.distplot(train_df1[train_df1['attack_type']=='safe']['duration'], \n",
    "            kde_kws={\"color\":\"#00aaff\",\"lw\":4,\"label\":\"KDE Estim\",\"alpha\":0.5}\n",
    "             , label='safe', hist=False)\n",
    "plt.title(\"Distribution of safe sessions durations\", fontsize=20)"
   ]
  },
  {
   "cell_type": "code",
   "execution_count": 220,
   "metadata": {},
   "outputs": [
    {
     "data": {
      "text/html": [
       "<div>\n",
       "<style scoped>\n",
       "    .dataframe tbody tr th:only-of-type {\n",
       "        vertical-align: middle;\n",
       "    }\n",
       "\n",
       "    .dataframe tbody tr th {\n",
       "        vertical-align: top;\n",
       "    }\n",
       "\n",
       "    .dataframe thead th {\n",
       "        text-align: right;\n",
       "    }\n",
       "</style>\n",
       "<table border=\"1\" class=\"dataframe\">\n",
       "  <thead>\n",
       "    <tr style=\"text-align: right;\">\n",
       "      <th></th>\n",
       "      <th>count</th>\n",
       "      <th>mean</th>\n",
       "      <th>std</th>\n",
       "      <th>min</th>\n",
       "      <th>25%</th>\n",
       "      <th>50%</th>\n",
       "      <th>75%</th>\n",
       "      <th>max</th>\n",
       "    </tr>\n",
       "  </thead>\n",
       "  <tbody>\n",
       "    <tr>\n",
       "      <th>duration</th>\n",
       "      <td>972781.0</td>\n",
       "      <td>217.824724</td>\n",
       "      <td>1351.943873</td>\n",
       "      <td>0.0</td>\n",
       "      <td>0.0</td>\n",
       "      <td>0.0</td>\n",
       "      <td>0.0</td>\n",
       "      <td>58329.0</td>\n",
       "    </tr>\n",
       "  </tbody>\n",
       "</table>\n",
       "</div>"
      ],
      "text/plain": [
       "             count        mean          std  min  25%  50%  75%      max\n",
       "duration  972781.0  217.824724  1351.943873  0.0  0.0  0.0  0.0  58329.0"
      ]
     },
     "execution_count": 220,
     "metadata": {},
     "output_type": "execute_result"
    }
   ],
   "source": [
    "pd.DataFrame(train_df1[train_df1['attack_type']=='safe']['duration'].describe()).T"
   ]
  },
  {
   "cell_type": "code",
   "execution_count": 221,
   "metadata": {},
   "outputs": [
    {
     "name": "stdout",
     "output_type": "stream",
     "text": [
      "<class 'pandas.core.frame.DataFrame'>\n",
      "Int64Index: 4856151 entries, 0 to 4898430\n",
      "Data columns (total 32 columns):\n",
      "duration                       int32\n",
      "protocol_type                  category\n",
      "service                        category\n",
      "flag                           category\n",
      "src_bytes                      int32\n",
      "dst_bytes                      int32\n",
      "land                           int8\n",
      "wrong_fragment                 int8\n",
      "urgent                         int8\n",
      "count                          int16\n",
      "srv_count                      int16\n",
      "serror_rate                    float16\n",
      "srv_serror_rate                float16\n",
      "rerror_rate                    float16\n",
      "srv_rerror_rate                float16\n",
      "same_srv_rate                  float16\n",
      "diff_srv_rate                  float16\n",
      "srv_diff_host_rate             float16\n",
      "dst_host_count                 int16\n",
      "dst_host_srv_count             int16\n",
      "dst_host_same_srv_rate         float16\n",
      "dst_host_diff_srv_rate         float16\n",
      "dst_host_same_src_port_rate    float16\n",
      "dst_host_srv_diff_host_rate    float16\n",
      "dst_host_serror_rate           float16\n",
      "dst_host_srv_serror_rate       float16\n",
      "dst_host_rerror_rate           float16\n",
      "dst_host_srv_rerror_rate       float16\n",
      "labels                         category\n",
      "attack_type                    object\n",
      "src_bytes_log                  float64\n",
      "dst_bytes_log                  float64\n",
      "dtypes: category(4), float16(15), float64(2), int16(4), int32(3), int8(3), object(1)\n",
      "memory usage: 572.2+ MB\n"
     ]
    }
   ],
   "source": [
    "train_df1.info()"
   ]
  },
  {
   "cell_type": "code",
   "execution_count": 224,
   "metadata": {
    "scrolled": true
   },
   "outputs": [
    {
     "name": "stderr",
     "output_type": "stream",
     "text": [
      "/anaconda3/lib/python3.6/site-packages/ipykernel_launcher.py:3: SettingWithCopyWarning: \n",
      "A value is trying to be set on a copy of a slice from a DataFrame\n",
      "\n",
      "See the caveats in the documentation: http://pandas.pydata.org/pandas-docs/stable/indexing.html#indexing-view-versus-copy\n",
      "  This is separate from the ipykernel package so we can avoid doing imports until\n"
     ]
    }
   ],
   "source": [
    "# We will drop labels, src_bytes_log and dst_bytes_log as they will not be used \n",
    "dr_col=['labels', 'src_bytes_log', 'dst_bytes_log']\n",
    "train_df1.drop(columns=dr_col, inplace=True )"
   ]
  },
  {
   "cell_type": "code",
   "execution_count": 227,
   "metadata": {},
   "outputs": [],
   "source": [
    "train_df1.to_csv('./Data/train.V1', index=False)"
   ]
  },
  {
   "cell_type": "markdown",
   "metadata": {},
   "source": [
    "## Summary of ingestion and ETL process \n",
    "\n",
    "We started by ingesting 4.89 million rows of data.\n",
    "\n",
    "We created a data profile report which include data shape,  data types count summary, number of missing values and data statistics. \n",
    "\n",
    "The initial deep memory utilization of data frame was over 2.5 GB. This might create problem as we move forward with more complex operation on data. We built function  ```dtype_num_transform``` that optimizes numerical columns while ```dtype_str_transform``` optimizes object columns.\n",
    "\n",
    "The data comprises of 62 types of cyber-attack. To simplify the process of classification we categorized traffic as safe, DOS, R2U and U2RA. However as our study is focused on Denial of Service.\n",
    "\n",
    "We performed visualization on relation between ```wrong_fragments``` against  ```syn_error```, ```duration``` .\n",
    "\n",
    "We also see distribution of ```duration ``` of safe and DOS traffic. . The exploratory data analysis and visualization laid the ground work for next step \n",
    "\n"
   ]
  },
  {
   "cell_type": "code",
   "execution_count": null,
   "metadata": {},
   "outputs": [],
   "source": []
  }
 ],
 "metadata": {
  "kernelspec": {
   "display_name": "Python 3",
   "language": "python",
   "name": "python3"
  },
  "language_info": {
   "codemirror_mode": {
    "name": "ipython",
    "version": 3
   },
   "file_extension": ".py",
   "mimetype": "text/x-python",
   "name": "python",
   "nbconvert_exporter": "python",
   "pygments_lexer": "ipython3",
   "version": "3.6.4"
  }
 },
 "nbformat": 4,
 "nbformat_minor": 2
}
