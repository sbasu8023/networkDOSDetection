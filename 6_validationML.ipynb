{
 "cells": [
  {
   "cell_type": "code",
   "execution_count": 1,
   "metadata": {},
   "outputs": [],
   "source": [
    "import pandas as pd\n",
    "import numpy as np\n",
    "import matplotlib.pyplot as plt\n",
    "import seaborn as sns\n",
    "from sklearn.model_selection import train_test_split, GridSearchCV, KFold, GridSearchCV\n",
    "from sklearn.ensemble import RandomForestClassifier, GradientBoostingClassifier\n",
    "from sklearn.linear_model import LogisticRegression\n",
    "from sklearn.metrics import confusion_matrix, classification_report, roc_curve, auc\n",
    "from sklearn.externals import joblib"
   ]
  },
  {
   "cell_type": "code",
   "execution_count": 2,
   "metadata": {},
   "outputs": [],
   "source": [
    "mldf_val=pd.DataFrame(pd.read_csv('./Data/X_yMLval.csv'))"
   ]
  },
  {
   "cell_type": "code",
   "execution_count": 3,
   "metadata": {},
   "outputs": [
    {
     "data": {
      "text/plain": [
       "0              0\n",
       "1              0\n",
       "2              0\n",
       "3              0\n",
       "4              0\n",
       "5              0\n",
       "6              0\n",
       "7              0\n",
       "8              0\n",
       "9              0\n",
       "10             0\n",
       "11             0\n",
       "12             0\n",
       "13             0\n",
       "14             0\n",
       "15             0\n",
       "16             0\n",
       "attack_code    0\n",
       "dtype: int64"
      ]
     },
     "execution_count": 3,
     "metadata": {},
     "output_type": "execute_result"
    }
   ],
   "source": [
    "mldf_val.isnull().sum()"
   ]
  },
  {
   "cell_type": "code",
   "execution_count": 4,
   "metadata": {},
   "outputs": [],
   "source": [
    "Y=mldf_val['attack_code']\n",
    "X=mldf_val.drop(columns=['attack_code'])"
   ]
  },
  {
   "cell_type": "code",
   "execution_count": 5,
   "metadata": {},
   "outputs": [],
   "source": [
    "def create_confusion(y, pred):\n",
    "    cm=confusion_matrix(y,pred)\n",
    "    return pd.DataFrame(cm, columns=['PredictedNO', 'PredictedYES'], index=['ActualNO', 'ActualYES'])\n"
   ]
  },
  {
   "cell_type": "code",
   "execution_count": 6,
   "metadata": {},
   "outputs": [],
   "source": [
    "lrl2= joblib.load('lrl2.pkl') "
   ]
  },
  {
   "cell_type": "code",
   "execution_count": 7,
   "metadata": {},
   "outputs": [],
   "source": [
    "predict1=lrl2.predict(X)"
   ]
  },
  {
   "cell_type": "code",
   "execution_count": 8,
   "metadata": {},
   "outputs": [
    {
     "data": {
      "text/html": [
       "<div>\n",
       "<style scoped>\n",
       "    .dataframe tbody tr th:only-of-type {\n",
       "        vertical-align: middle;\n",
       "    }\n",
       "\n",
       "    .dataframe tbody tr th {\n",
       "        vertical-align: top;\n",
       "    }\n",
       "\n",
       "    .dataframe thead th {\n",
       "        text-align: right;\n",
       "    }\n",
       "</style>\n",
       "<table border=\"1\" class=\"dataframe\">\n",
       "  <thead>\n",
       "    <tr style=\"text-align: right;\">\n",
       "      <th></th>\n",
       "      <th>PredictedNO</th>\n",
       "      <th>PredictedYES</th>\n",
       "    </tr>\n",
       "  </thead>\n",
       "  <tbody>\n",
       "    <tr>\n",
       "      <th>ActualNO</th>\n",
       "      <td>35343</td>\n",
       "      <td>25250</td>\n",
       "    </tr>\n",
       "    <tr>\n",
       "      <th>ActualYES</th>\n",
       "      <td>18631</td>\n",
       "      <td>211224</td>\n",
       "    </tr>\n",
       "  </tbody>\n",
       "</table>\n",
       "</div>"
      ],
      "text/plain": [
       "           PredictedNO  PredictedYES\n",
       "ActualNO         35343         25250\n",
       "ActualYES        18631        211224"
      ]
     },
     "execution_count": 8,
     "metadata": {},
     "output_type": "execute_result"
    }
   ],
   "source": [
    "create_confusion(Y, predict1)"
   ]
  },
  {
   "cell_type": "code",
   "execution_count": 18,
   "metadata": {},
   "outputs": [],
   "source": [
    "def corr_plot(df):\n",
    "    # Set the default matplotlib figure size to 7x7:\n",
    "    fix, ax = plt.subplots(figsize=(8,6))\n",
    "\n",
    "   \n",
    "    # Plot the heatmap with seaborn.\n",
    "    # Assign the matplotlib axis the function returns. This will let us resize the labels.\n",
    "    ax = sns.heatmap(df, ax=ax, annot=True,  cmap=\"YlGnBu\")\n",
    "\n",
    "    # Resize the labels.\n",
    "    ax.set_xticklabels(ax.xaxis.get_ticklabels(), fontsize=10)\n",
    "    ax.set_yticklabels(ax.yaxis.get_ticklabels(), fontsize=10)\n",
    "\n",
    "# If you put plt.show() at the bottom, it prevents those useless printouts from matplotlib.\n",
    "    plt.show()"
   ]
  },
  {
   "cell_type": "code",
   "execution_count": 19,
   "metadata": {},
   "outputs": [
    {
     "data": {
      "image/png": "[encoded data removed]",
      "text/plain": [
       "<Figure size 576x432 with 2 Axes>"
      ]
     },
     "metadata": {},
     "output_type": "display_data"
    }
   ],
   "source": [
    "corr_plot(create_confusion(Y, predict1))"
   ]
  },
  {
   "cell_type": "code",
   "execution_count": null,
   "metadata": {
    "scrolled": true
   },
   "outputs": [],
   "source": []
  },
  {
   "cell_type": "code",
   "execution_count": 22,
   "metadata": {},
   "outputs": [
    {
     "name": "stdout",
     "output_type": "stream",
     "text": [
      "             precision    recall  f1-score   support\n",
      "\n",
      "          0       0.65      0.58      0.62     60593\n",
      "          1       0.89      0.92      0.91    229855\n",
      "\n",
      "avg / total       0.84      0.85      0.85    290448\n",
      "\n"
     ]
    }
   ],
   "source": [
    "print(classification_report(Y,predict1))"
   ]
  },
  {
   "cell_type": "code",
   "execution_count": 24,
   "metadata": {},
   "outputs": [
    {
     "name": "stderr",
     "output_type": "stream",
     "text": [
      "/anaconda3/lib/python3.6/site-packages/sklearn/linear_model/base.py:340: RuntimeWarning: overflow encountered in exp\n",
      "  np.exp(prob, prob)\n"
     ]
    },
    {
     "data": {
      "text/plain": [
       "0.9193881546466411"
      ]
     },
     "execution_count": 24,
     "metadata": {},
     "output_type": "execute_result"
    }
   ],
   "source": [
    "Y_lr = pd.DataFrame(lrl2.predict_proba(X), columns=['class_0_pp','class_1_pp'])\n",
    "roc_result = roc_curve(Y, Y_lr.class_1_pp)\n",
    "results = pd.DataFrame()\n",
    "results['FPR'] = roc_result[0]\n",
    "results['TPR'] = roc_result[1]\n",
    "results['Threshold'] = roc_result[2]\n",
    "# get the results from the roc_curve\n",
    "fprlr, tprlr, _ = roc_curve(Y, Y_lr.class_1_pp)\n",
    "\n",
    "#use fpr and tpr to calculate the AUC\n",
    "roc_auclr = auc(fprlr, tprlr)\n",
    "\n",
    "roc_auclr"
   ]
  },
  {
   "cell_type": "code",
   "execution_count": 25,
   "metadata": {},
   "outputs": [],
   "source": [
    "rf= joblib.load('rf.pkl') "
   ]
  },
  {
   "cell_type": "code",
   "execution_count": 26,
   "metadata": {},
   "outputs": [],
   "source": [
    "predict2=rf.predict(X)"
   ]
  },
  {
   "cell_type": "code",
   "execution_count": 27,
   "metadata": {},
   "outputs": [
    {
     "data": {
      "text/html": [
       "<div>\n",
       "<style scoped>\n",
       "    .dataframe tbody tr th:only-of-type {\n",
       "        vertical-align: middle;\n",
       "    }\n",
       "\n",
       "    .dataframe tbody tr th {\n",
       "        vertical-align: top;\n",
       "    }\n",
       "\n",
       "    .dataframe thead th {\n",
       "        text-align: right;\n",
       "    }\n",
       "</style>\n",
       "<table border=\"1\" class=\"dataframe\">\n",
       "  <thead>\n",
       "    <tr style=\"text-align: right;\">\n",
       "      <th></th>\n",
       "      <th>PredictedNO</th>\n",
       "      <th>PredictedYES</th>\n",
       "    </tr>\n",
       "  </thead>\n",
       "  <tbody>\n",
       "    <tr>\n",
       "      <th>ActualNO</th>\n",
       "      <td>59686</td>\n",
       "      <td>907</td>\n",
       "    </tr>\n",
       "    <tr>\n",
       "      <th>ActualYES</th>\n",
       "      <td>7973</td>\n",
       "      <td>221882</td>\n",
       "    </tr>\n",
       "  </tbody>\n",
       "</table>\n",
       "</div>"
      ],
      "text/plain": [
       "           PredictedNO  PredictedYES\n",
       "ActualNO         59686           907\n",
       "ActualYES         7973        221882"
      ]
     },
     "execution_count": 27,
     "metadata": {},
     "output_type": "execute_result"
    }
   ],
   "source": [
    "create_confusion(Y, predict2)"
   ]
  },
  {
   "cell_type": "code",
   "execution_count": 28,
   "metadata": {},
   "outputs": [
    {
     "data": {
      "image/png": "[encoded data removed]",
      "text/plain": [
       "<Figure size 576x432 with 2 Axes>"
      ]
     },
     "metadata": {},
     "output_type": "display_data"
    }
   ],
   "source": [
    "corr_plot(create_confusion(Y, predict2))"
   ]
  },
  {
   "cell_type": "code",
   "execution_count": 29,
   "metadata": {},
   "outputs": [
    {
     "name": "stdout",
     "output_type": "stream",
     "text": [
      "             precision    recall  f1-score   support\n",
      "\n",
      "          0       0.88      0.99      0.93     60593\n",
      "          1       1.00      0.97      0.98    229855\n",
      "\n",
      "avg / total       0.97      0.97      0.97    290448\n",
      "\n"
     ]
    }
   ],
   "source": [
    "print(classification_report(Y,predict2))"
   ]
  },
  {
   "cell_type": "code",
   "execution_count": 30,
   "metadata": {},
   "outputs": [
    {
     "data": {
      "text/plain": [
       "0.9851994478893864"
      ]
     },
     "execution_count": 30,
     "metadata": {},
     "output_type": "execute_result"
    }
   ],
   "source": [
    "Y_rf = pd.DataFrame(rf.predict_proba(X), columns=['class_0_pp','class_1_pp'])\n",
    "roc_result = roc_curve(Y, Y_rf.class_1_pp)\n",
    "results = pd.DataFrame()\n",
    "results['FPR'] = roc_result[0]\n",
    "results['TPR'] = roc_result[1]\n",
    "results['Threshold'] = roc_result[2]\n",
    "# get the results from the roc_curve\n",
    "fprrf, tprrf, _ = roc_curve(Y, Y_rf.class_1_pp)\n",
    "\n",
    "#use fpr and tpr to calculate the AUC\n",
    "roc_auc = auc(fprrf, tprrf)\n",
    "# get the results from the roc_curve\n",
    "fprrf, tprlr, _ = roc_curve(Y, Y_rf.class_1_pp)\n",
    "\n",
    "#use fpr and tpr to calculate the AUC\n",
    "roc_aucrf = auc(fprrf, tprrf)\n",
    "roc_aucrf"
   ]
  },
  {
   "cell_type": "code",
   "execution_count": 31,
   "metadata": {},
   "outputs": [],
   "source": [
    "xgb= joblib.load('XGBmodel.pkl') \n"
   ]
  },
  {
   "cell_type": "code",
   "execution_count": 32,
   "metadata": {},
   "outputs": [
    {
     "name": "stderr",
     "output_type": "stream",
     "text": [
      "/anaconda3/lib/python3.6/site-packages/sklearn/preprocessing/label.py:151: DeprecationWarning: The truth value of an empty array is ambiguous. Returning False, but in future this will result in an error. Use `array.size > 0` to check that an array is not empty.\n",
      "  if diff:\n"
     ]
    }
   ],
   "source": [
    "predict3=xgb.predict(X)"
   ]
  },
  {
   "cell_type": "code",
   "execution_count": 33,
   "metadata": {},
   "outputs": [
    {
     "data": {
      "text/html": [
       "<div>\n",
       "<style scoped>\n",
       "    .dataframe tbody tr th:only-of-type {\n",
       "        vertical-align: middle;\n",
       "    }\n",
       "\n",
       "    .dataframe tbody tr th {\n",
       "        vertical-align: top;\n",
       "    }\n",
       "\n",
       "    .dataframe thead th {\n",
       "        text-align: right;\n",
       "    }\n",
       "</style>\n",
       "<table border=\"1\" class=\"dataframe\">\n",
       "  <thead>\n",
       "    <tr style=\"text-align: right;\">\n",
       "      <th></th>\n",
       "      <th>PredictedNO</th>\n",
       "      <th>PredictedYES</th>\n",
       "    </tr>\n",
       "  </thead>\n",
       "  <tbody>\n",
       "    <tr>\n",
       "      <th>ActualNO</th>\n",
       "      <td>55073</td>\n",
       "      <td>5520</td>\n",
       "    </tr>\n",
       "    <tr>\n",
       "      <th>ActualYES</th>\n",
       "      <td>7305</td>\n",
       "      <td>222550</td>\n",
       "    </tr>\n",
       "  </tbody>\n",
       "</table>\n",
       "</div>"
      ],
      "text/plain": [
       "           PredictedNO  PredictedYES\n",
       "ActualNO         55073          5520\n",
       "ActualYES         7305        222550"
      ]
     },
     "execution_count": 33,
     "metadata": {},
     "output_type": "execute_result"
    }
   ],
   "source": [
    "create_confusion(Y, predict3)"
   ]
  },
  {
   "cell_type": "code",
   "execution_count": 34,
   "metadata": {},
   "outputs": [
    {
     "data": {
      "image/png": "[encoded data removed]",
      "text/plain": [
       "<Figure size 576x432 with 2 Axes>"
      ]
     },
     "metadata": {},
     "output_type": "display_data"
    }
   ],
   "source": [
    "corr_plot(create_confusion(Y, predict3))"
   ]
  },
  {
   "cell_type": "code",
   "execution_count": 27,
   "metadata": {},
   "outputs": [
    {
     "name": "stdout",
     "output_type": "stream",
     "text": [
      "             precision    recall  f1-score   support\n",
      "\n",
      "          0       0.88      0.91      0.90     60593\n",
      "          1       0.98      0.97      0.97    229855\n",
      "\n",
      "avg / total       0.96      0.96      0.96    290448\n",
      "\n"
     ]
    }
   ],
   "source": [
    "print(classification_report(Y,predict3))"
   ]
  },
  {
   "cell_type": "code",
   "execution_count": 37,
   "metadata": {},
   "outputs": [
    {
     "data": {
      "text/plain": [
       "0.9903739490040349"
      ]
     },
     "execution_count": 37,
     "metadata": {},
     "output_type": "execute_result"
    }
   ],
   "source": [
    "Y_xgb = pd.DataFrame(xgb.predict_proba(X), columns=['class_0_pp','class_1_pp'])\n",
    "roc_result = roc_curve(Y, Y_xgb.class_1_pp)\n",
    "results = pd.DataFrame()\n",
    "results['FPR'] = roc_result[0]\n",
    "results['TPR'] = roc_result[1]\n",
    "results['Threshold'] = roc_result[2]\n",
    "# get the results from the roc_curve\n",
    "fprxgb, tprxgb, _ = roc_curve(Y, Y_xgb.class_1_pp)\n",
    "\n",
    "#use fpr and tpr to calculate the AUC\n",
    "roc_aucxgb = auc(fprxgb, tprxgb)\n",
    "\n",
    "roc_aucxgb"
   ]
  },
  {
   "cell_type": "code",
   "execution_count": 50,
   "metadata": {},
   "outputs": [
    {
     "data": {
      "image/png": "[encoded data removed]",
      "text/plain": [
       "<Figure size 576x576 with 1 Axes>"
      ]
     },
     "metadata": {},
     "output_type": "display_data"
    }
   ],
   "source": [
    "# Plot of a ROC curve for class 1 (has_cancer)\n",
    "plt.figure(figsize=[8,8])\n",
    "plt.plot(fprlr, tprlr, label='Logistic Regression ROC curve (area = %0.2f)' % roc_auc, linewidth=4)\n",
    "plt.plot(fprrf, tprrf, label='Random Forrest ROC curve (area = %0.2f)' % roc_aucrf, linewidth=4)\n",
    "plt.plot(fprxgb, tprxgb, label='XGBoost ROC curve (area = %0.2f)' % roc_aucrf, linewidth=4)\n",
    "plt.plot([0, 1], [0, 1], 'k--', linewidth=4)\n",
    "plt.xlim([-0.05, 1.0])\n",
    "plt.ylim([-0.05, 1.05])\n",
    "plt.xlabel('False Positive Rate', fontsize=18)\n",
    "plt.ylabel('True Positive Rate', fontsize=18)\n",
    "plt.title('Receiver operating characteristic ', fontsize=18)\n",
    "plt.legend(loc=\"lower right\")\n",
    "plt.show()"
   ]
  },
  {
   "cell_type": "markdown",
   "metadata": {},
   "source": [
    "## Summary of Machine Learning\n",
    "With zero increase in false positive XGBoost true positive ",
    "increased to 0.95 then with approximately 0.01 increase in  ",
    "false positive the true positive increased by 0.01. After gaining  ",
    " 0.3 false positive our XGBoost model was able to detect all  ",
    "malicious connections. We can say threshold for detecting  ",
    "all malicious connection is at least 0.7 probability for XGBoost prediction\n",
    "\n",
    "With zero increase in false positive Random Forest true positive ",
    "increased to 0.25 then with slight increase in false positive  ",
    "the true positive increased to 0.96. After gaining 0.3  ",
    "false positive our Random Forest model was able to gradually  ",
    "detect all malicious connections at around 0.5. We can say threshold for  ",
    "detecting all malicious connection is at least 0.5 probability\n",
    "\n",
    "With zero increase in false positive Logistic Regression true positive ",
    "increased to 0.9 then with slight increase in false positive around 0.05 ",
    "the true positive increased to around 0.91. Beyond this true positive  ",
    "remain constant. We can say threshold for detecting 0.92 true positive ",
    " Logistic Regression has at least 0.9 probability. "
   ]
  },
  {
   "cell_type": "code",
   "execution_count": null,
   "metadata": {},
   "outputs": [],
   "source": []
  }
 ],
 "metadata": {
  "kernelspec": {
   "display_name": "Python 3",
   "language": "python",
   "name": "python3"
  },
  "language_info": {
   "codemirror_mode": {
    "name": "ipython",
    "version": 3
   },
   "file_extension": ".py",
   "mimetype": "text/x-python",
   "name": "python",
   "nbconvert_exporter": "python",
   "pygments_lexer": "ipython3",
   "version": "3.6.4"
  }
 },
 "nbformat": 4,
 "nbformat_minor": 2
}
