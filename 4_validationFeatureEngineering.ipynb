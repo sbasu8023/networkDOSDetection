{
 "cells": [
  {
   "cell_type": "markdown",
   "metadata": {},
   "source": [
    "## Introduction:\n",
    "In this note-book we will us the pre-processed validation data set and do feature transformation, dimensionality reduction and finally feature selection. On the way we will analyze feature selection process to ensure this data exhibit same charecteritics as training and test set. We will the use anomaly detection on the data set.   "
   ]
  },
  {
   "cell_type": "code",
   "execution_count": 1,
   "metadata": {},
   "outputs": [],
   "source": [
    "import pandas as pd\n",
    "import numpy as np \n",
    "import matplotlib.pyplot as plt\n",
    "import seaborn as sns\n",
    "from sklearn.decomposition import PCA\n",
    "from sklearn.preprocessing import StandardScaler\n",
    "from sklearn import mixture"
   ]
  },
  {
   "cell_type": "code",
   "execution_count": 2,
   "metadata": {},
   "outputs": [
    {
     "data": {
      "text/html": [
       "<div>\n",
       "<style scoped>\n",
       "    .dataframe tbody tr th:only-of-type {\n",
       "        vertical-align: middle;\n",
       "    }\n",
       "\n",
       "    .dataframe tbody tr th {\n",
       "        vertical-align: top;\n",
       "    }\n",
       "\n",
       "    .dataframe thead th {\n",
       "        text-align: right;\n",
       "    }\n",
       "</style>\n",
       "<table border=\"1\" class=\"dataframe\">\n",
       "  <thead>\n",
       "    <tr style=\"text-align: right;\">\n",
       "      <th></th>\n",
       "      <th>duration</th>\n",
       "      <th>protocol_type</th>\n",
       "      <th>service</th>\n",
       "      <th>flag</th>\n",
       "      <th>src_bytes</th>\n",
       "      <th>dst_bytes</th>\n",
       "      <th>land</th>\n",
       "      <th>wrong_fragment</th>\n",
       "      <th>urgent</th>\n",
       "      <th>count</th>\n",
       "      <th>...</th>\n",
       "      <th>dst_host_same_srv_rate</th>\n",
       "      <th>dst_host_diff_srv_rate</th>\n",
       "      <th>dst_host_same_src_port_rate</th>\n",
       "      <th>dst_host_srv_diff_host_rate</th>\n",
       "      <th>dst_host_serror_rate</th>\n",
       "      <th>dst_host_srv_serror_rate</th>\n",
       "      <th>dst_host_rerror_rate</th>\n",
       "      <th>dst_host_srv_rerror_rate</th>\n",
       "      <th>labels</th>\n",
       "      <th>attack_type</th>\n",
       "    </tr>\n",
       "  </thead>\n",
       "  <tbody>\n",
       "    <tr>\n",
       "      <th>0</th>\n",
       "      <td>0</td>\n",
       "      <td>udp</td>\n",
       "      <td>private</td>\n",
       "      <td>SF</td>\n",
       "      <td>105</td>\n",
       "      <td>146</td>\n",
       "      <td>0</td>\n",
       "      <td>0</td>\n",
       "      <td>0</td>\n",
       "      <td>1</td>\n",
       "      <td>...</td>\n",
       "      <td>1.00</td>\n",
       "      <td>0.01</td>\n",
       "      <td>0.0</td>\n",
       "      <td>0.0</td>\n",
       "      <td>0.0</td>\n",
       "      <td>0.0</td>\n",
       "      <td>0.0</td>\n",
       "      <td>0.0</td>\n",
       "      <td>normal</td>\n",
       "      <td>safe</td>\n",
       "    </tr>\n",
       "    <tr>\n",
       "      <th>1</th>\n",
       "      <td>0</td>\n",
       "      <td>udp</td>\n",
       "      <td>private</td>\n",
       "      <td>SF</td>\n",
       "      <td>105</td>\n",
       "      <td>146</td>\n",
       "      <td>0</td>\n",
       "      <td>0</td>\n",
       "      <td>0</td>\n",
       "      <td>1</td>\n",
       "      <td>...</td>\n",
       "      <td>1.00</td>\n",
       "      <td>0.01</td>\n",
       "      <td>0.0</td>\n",
       "      <td>0.0</td>\n",
       "      <td>0.0</td>\n",
       "      <td>0.0</td>\n",
       "      <td>0.0</td>\n",
       "      <td>0.0</td>\n",
       "      <td>normal</td>\n",
       "      <td>safe</td>\n",
       "    </tr>\n",
       "    <tr>\n",
       "      <th>2</th>\n",
       "      <td>0</td>\n",
       "      <td>udp</td>\n",
       "      <td>private</td>\n",
       "      <td>SF</td>\n",
       "      <td>105</td>\n",
       "      <td>146</td>\n",
       "      <td>0</td>\n",
       "      <td>0</td>\n",
       "      <td>0</td>\n",
       "      <td>1</td>\n",
       "      <td>...</td>\n",
       "      <td>1.00</td>\n",
       "      <td>0.01</td>\n",
       "      <td>0.0</td>\n",
       "      <td>0.0</td>\n",
       "      <td>0.0</td>\n",
       "      <td>0.0</td>\n",
       "      <td>0.0</td>\n",
       "      <td>0.0</td>\n",
       "      <td>normal</td>\n",
       "      <td>safe</td>\n",
       "    </tr>\n",
       "    <tr>\n",
       "      <th>3</th>\n",
       "      <td>0</td>\n",
       "      <td>udp</td>\n",
       "      <td>domain_u</td>\n",
       "      <td>SF</td>\n",
       "      <td>29</td>\n",
       "      <td>0</td>\n",
       "      <td>0</td>\n",
       "      <td>0</td>\n",
       "      <td>0</td>\n",
       "      <td>2</td>\n",
       "      <td>...</td>\n",
       "      <td>0.30</td>\n",
       "      <td>0.30</td>\n",
       "      <td>0.3</td>\n",
       "      <td>0.0</td>\n",
       "      <td>0.0</td>\n",
       "      <td>0.0</td>\n",
       "      <td>0.0</td>\n",
       "      <td>0.0</td>\n",
       "      <td>normal</td>\n",
       "      <td>safe</td>\n",
       "    </tr>\n",
       "    <tr>\n",
       "      <th>4</th>\n",
       "      <td>0</td>\n",
       "      <td>udp</td>\n",
       "      <td>private</td>\n",
       "      <td>SF</td>\n",
       "      <td>105</td>\n",
       "      <td>146</td>\n",
       "      <td>0</td>\n",
       "      <td>0</td>\n",
       "      <td>0</td>\n",
       "      <td>1</td>\n",
       "      <td>...</td>\n",
       "      <td>0.99</td>\n",
       "      <td>0.01</td>\n",
       "      <td>0.0</td>\n",
       "      <td>0.0</td>\n",
       "      <td>0.0</td>\n",
       "      <td>0.0</td>\n",
       "      <td>0.0</td>\n",
       "      <td>0.0</td>\n",
       "      <td>normal</td>\n",
       "      <td>safe</td>\n",
       "    </tr>\n",
       "  </tbody>\n",
       "</table>\n",
       "<p>5 rows × 30 columns</p>\n",
       "</div>"
      ],
      "text/plain": [
       "   duration protocol_type   service flag  src_bytes  dst_bytes  land  \\\n",
       "0         0           udp   private   SF        105        146     0   \n",
       "1         0           udp   private   SF        105        146     0   \n",
       "2         0           udp   private   SF        105        146     0   \n",
       "3         0           udp  domain_u   SF         29          0     0   \n",
       "4         0           udp   private   SF        105        146     0   \n",
       "\n",
       "   wrong_fragment  urgent  count     ...       dst_host_same_srv_rate  \\\n",
       "0               0       0      1     ...                         1.00   \n",
       "1               0       0      1     ...                         1.00   \n",
       "2               0       0      1     ...                         1.00   \n",
       "3               0       0      2     ...                         0.30   \n",
       "4               0       0      1     ...                         0.99   \n",
       "\n",
       "   dst_host_diff_srv_rate  dst_host_same_src_port_rate  \\\n",
       "0                    0.01                          0.0   \n",
       "1                    0.01                          0.0   \n",
       "2                    0.01                          0.0   \n",
       "3                    0.30                          0.3   \n",
       "4                    0.01                          0.0   \n",
       "\n",
       "   dst_host_srv_diff_host_rate  dst_host_serror_rate  \\\n",
       "0                          0.0                   0.0   \n",
       "1                          0.0                   0.0   \n",
       "2                          0.0                   0.0   \n",
       "3                          0.0                   0.0   \n",
       "4                          0.0                   0.0   \n",
       "\n",
       "   dst_host_srv_serror_rate  dst_host_rerror_rate  dst_host_srv_rerror_rate  \\\n",
       "0                       0.0                   0.0                       0.0   \n",
       "1                       0.0                   0.0                       0.0   \n",
       "2                       0.0                   0.0                       0.0   \n",
       "3                       0.0                   0.0                       0.0   \n",
       "4                       0.0                   0.0                       0.0   \n",
       "\n",
       "   labels  attack_type  \n",
       "0  normal         safe  \n",
       "1  normal         safe  \n",
       "2  normal         safe  \n",
       "3  normal         safe  \n",
       "4  normal         safe  \n",
       "\n",
       "[5 rows x 30 columns]"
      ]
     },
     "execution_count": 2,
     "metadata": {},
     "output_type": "execute_result"
    }
   ],
   "source": [
    "val_file2=pd.read_csv('./Data/val1.csv')\n",
    "val_df2=pd.DataFrame(val_file2)\n",
    "val_df2.head()"
   ]
  },
  {
   "cell_type": "markdown",
   "metadata": {},
   "source": [
    "## Optimizing memory foot print"
   ]
  },
  {
   "cell_type": "code",
   "execution_count": 3,
   "metadata": {},
   "outputs": [],
   "source": [
    "def dtype_transform(df, dt):\n",
    "    int_types = [\"int8\", \"int16\", \"int32\", \"int64\"]\n",
    "    float_types=[\"float16\", \"float32\", \"float64\", \"float128\"]\n",
    "    dmax=0\n",
    "    dmin=0\n",
    "    lmd_floatmax=lambda x: np.finfo(x).max\n",
    "    lmd_floatmin=lambda x: np.finfo(x).min\n",
    "    lmd_intmax=lambda x: np.iinfo(x).max\n",
    "    lmd_intmin=lambda x: np.iinfo(x).min\n",
    "    max_funct=None\n",
    "    min_funct=None\n",
    "    dt_types=[]\n",
    "    if dt==float:\n",
    "        dt_types=float_types\n",
    "        max_funct=lmd_floatmax\n",
    "        min_funct=lmd_floatmin\n",
    "    elif dt==int:\n",
    "        dt_types=int_types\n",
    "        max_funct=lmd_intmax\n",
    "        min_funct=lmd_intmin\n",
    "    else:\n",
    "        \n",
    "        exit()\n",
    "        \n",
    "    selected_types=None    \n",
    "    for i in df.columns:\n",
    "        if df[i].dtypes==dt:\n",
    "            \n",
    "            dmax=df[i].max()\n",
    "            dmin=df[i].min()\n",
    "            for j in dt_types:\n",
    "                if max_funct(j)>dmax and min_funct(j)<dmin:\n",
    "                    \n",
    "                    selected_types=j\n",
    "                    \n",
    "                    \n",
    "                    break\n",
    "                else:\n",
    "                    \n",
    "                    continue\n",
    "            \n",
    "            df[i]=df[i].astype(selected_types)"
   ]
  },
  {
   "cell_type": "code",
   "execution_count": 4,
   "metadata": {},
   "outputs": [],
   "source": [
    "dtype_transform(val_df2, float)\n",
    "dtype_transform(val_df2, int)"
   ]
  },
  {
   "cell_type": "code",
   "execution_count": 5,
   "metadata": {},
   "outputs": [
    {
     "data": {
      "text/plain": [
       "<matplotlib.axes._subplots.AxesSubplot at 0x10e9b89e8>"
      ]
     },
     "execution_count": 5,
     "metadata": {},
     "output_type": "execute_result"
    },
    {
     "data": {
      "image/png": "[encoded data removed]",
      "text/plain": [
       "<Figure size 432x288 with 1 Axes>"
      ]
     },
     "metadata": {},
     "output_type": "display_data"
    }
   ],
   "source": [
    "src_dos=val_df2[val_df2['attack_type']=='DOS']['src_bytes']\n",
    "dst_dos=val_df2[val_df2['attack_type']=='DOS']['dst_bytes']\n",
    "sns.regplot(src_dos, dst_dos)"
   ]
  },
  {
   "cell_type": "code",
   "execution_count": 6,
   "metadata": {},
   "outputs": [
    {
     "data": {
      "text/plain": [
       "<matplotlib.axes._subplots.AxesSubplot at 0x10e8bec18>"
      ]
     },
     "execution_count": 6,
     "metadata": {},
     "output_type": "execute_result"
    },
    {
     "data": {
      "image/png": "[encoded data removed]",
      "text/plain": [
       "<Figure size 432x288 with 1 Axes>"
      ]
     },
     "metadata": {},
     "output_type": "display_data"
    }
   ],
   "source": [
    "src_sfe=val_df2[val_df2['attack_type']=='safe']['src_bytes']\n",
    "dst_sfe=val_df2[val_df2['attack_type']=='safe']['dst_bytes']\n",
    "sns.regplot(src_sfe, dst_sfe)"
   ]
  },
  {
   "cell_type": "markdown",
   "metadata": {},
   "source": [
    "# One Hot encoding\n"
   ]
  },
  {
   "cell_type": "code",
   "execution_count": 7,
   "metadata": {},
   "outputs": [],
   "source": [
    "val_df2a=val_df2\n",
    "#train_df2=pd.get_dummies(train_df1['service'])\n",
    "prt_dummy=pd.get_dummies(val_df2['protocol_type'])\n",
    "srv_dummy=pd.get_dummies(val_df2['service'])\n",
    "flag_dummy=pd.get_dummies(val_df2['flag'])"
   ]
  },
  {
   "cell_type": "code",
   "execution_count": 8,
   "metadata": {},
   "outputs": [],
   "source": [
    "def reduce_hotencode_sparcity(df, pct_allowed, indx=0):\n",
    "    return [i for i in df.columns if \n",
    "            df[i].value_counts(normalize=True)[indx]*100<pct_allowed]"
   ]
  },
  {
   "cell_type": "code",
   "execution_count": 9,
   "metadata": {},
   "outputs": [],
   "source": [
    "k=reduce_hotencode_sparcity(srv_dummy, pct_allowed=1, indx=1 )\n",
    "l=reduce_hotencode_sparcity(flag_dummy, pct_allowed=1, indx=1 )"
   ]
  },
  {
   "cell_type": "markdown",
   "metadata": {},
   "source": [
    "k=['IRC',\n",
    " 'X11',\n",
    " 'Z39_50',\n",
    " 'auth',\n",
    " 'bgp',\n",
    " 'courier',\n",
    " 'csnet_ns',\n",
    " 'ctf',\n",
    " 'daytime',\n",
    " 'discard',\n",
    " 'domain',\n",
    " 'echo',\n",
    " 'eco_i',\n",
    " 'efs',\n",
    " 'exec',\n",
    " 'finger',\n",
    " 'ftp',\n",
    " 'ftp_data',\n",
    " 'gopher',\n",
    " 'hostnames',\n",
    " 'http_443',\n",
    " 'imap4',\n",
    " 'iso_tsap',\n",
    " 'klogin',\n",
    " 'kshell',\n",
    " 'ldap',\n",
    " 'link',\n",
    " 'login',\n",
    " 'mtp',\n",
    " 'name',\n",
    " 'netbios_dgm',\n",
    " 'netbios_ns',\n",
    " 'netbios_ssn',\n",
    " 'netstat',\n",
    " 'nnsp',\n",
    " 'nntp',\n",
    " 'ntp_u',\n",
    " 'pop_2',\n",
    " 'pop_3',\n",
    " 'printer',\n",
    " 'red_i',\n",
    " 'remote_job',\n",
    " 'rje',\n",
    " 'shell',\n",
    " 'sql_net',\n",
    " 'ssh',\n",
    " 'sunrpc',\n",
    " 'supdup',\n",
    " 'systat',\n",
    " 'telnet',\n",
    " 'tftp_u',\n",
    " 'tim_i',\n",
    " 'time',\n",
    " 'urh_i',\n",
    " 'urp_i',\n",
    " 'uucp',\n",
    " 'uucp_path',\n",
    " 'vmnet',\n",
    " 'whois']\n",
    "l=['OTH', 'RSTO', 'RSTR', 'S1', 'S2', 'S3', 'SH']"
   ]
  },
  {
   "cell_type": "code",
   "execution_count": 10,
   "metadata": {},
   "outputs": [
    {
     "data": {
      "text/plain": [
       "(290448, 40)"
      ]
     },
     "execution_count": 10,
     "metadata": {},
     "output_type": "execute_result"
    }
   ],
   "source": [
    "prt_dummy.drop(columns=['udp'], inplace=True)\n",
    "srv_dummy.drop(columns=k, inplace=True)\n",
    "flag_dummy.drop(columns=l, inplace=True)\n",
    "val_df2a=pd.concat([val_df2a,prt_dummy], axis=1 )\n",
    "val_df2a=pd.concat([val_df2a,srv_dummy], axis=1 )\n",
    "val_df2a=pd.concat([val_df2a,flag_dummy], axis=1 )\n",
    "val_df2a.shape"
   ]
  },
  {
   "cell_type": "code",
   "execution_count": 11,
   "metadata": {},
   "outputs": [],
   "source": [
    "val_df2a.drop(columns=['protocol_type', 'service', 'flag'], inplace=True)"
   ]
  },
  {
   "cell_type": "code",
   "execution_count": 12,
   "metadata": {},
   "outputs": [
    {
     "data": {
      "text/plain": [
       "(290448, 37)"
      ]
     },
     "execution_count": 12,
     "metadata": {},
     "output_type": "execute_result"
    }
   ],
   "source": [
    "val_df2a.shape"
   ]
  },
  {
   "cell_type": "code",
   "execution_count": 13,
   "metadata": {},
   "outputs": [],
   "source": [
    "Y=pd.DataFrame()\n",
    "\n",
    "X2b=val_df2a.drop(columns=['attack_type','labels'])"
   ]
  },
  {
   "cell_type": "code",
   "execution_count": 14,
   "metadata": {},
   "outputs": [],
   "source": [
    "X_bytes=pd.DataFrame()\n",
    "X_bytes['abs_bytes_diff']=np.abs(val_df2a['src_bytes']-val_df2['dst_bytes'])\n",
    "X_bytes['bytes_diff']=val_df2a['dst_bytes']-val_df2a['src_bytes']\n",
    "X_bytes['attack_type']=val_df2['attack_type']\n",
    "X_bytes['duration']=val_df2['duration']"
   ]
  },
  {
   "cell_type": "code",
   "execution_count": 15,
   "metadata": {},
   "outputs": [],
   "source": [
    "cont_columns= ['duration', 'src_bytes', 'dst_bytes', 'count', 'wrong_fragment', 'urgent',\n",
    "              'srv_count', 'serror_rate', 'srv_serror_rate','rerror_rate' ,'srv_rerror_rate',\n",
    "              'same_srv_rate', 'diff_srv_rate', 'srv_diff_host_rate', 'dst_host_count', 'dst_host_srv_count',\n",
    "              'dst_host_same_srv_rate', 'dst_host_diff_srv_rate', 'dst_host_same_src_port_rate','dst_host_srv_diff_host_rate',\n",
    "              'dst_host_serror_rate','dst_host_srv_serror_rate', 'dst_host_rerror_rate', 'dst_host_srv_rerror_rate']"
   ]
  },
  {
   "cell_type": "code",
   "execution_count": 16,
   "metadata": {},
   "outputs": [],
   "source": [
    "X_cont=X2b[cont_columns]\n",
    "X_disc=X2b.drop(columns=cont_columns)"
   ]
  },
  {
   "cell_type": "code",
   "execution_count": 17,
   "metadata": {},
   "outputs": [
    {
     "data": {
      "text/plain": [
       "(290448, 11)"
      ]
     },
     "execution_count": 17,
     "metadata": {},
     "output_type": "execute_result"
    }
   ],
   "source": [
    "X_disc.shape"
   ]
  },
  {
   "cell_type": "code",
   "execution_count": 18,
   "metadata": {},
   "outputs": [],
   "source": [
    "X2b_cont1=X2b[['same_srv_rate', 'diff_srv_rate', 'srv_diff_host_rate','dst_host_count',\n",
    "          'dst_host_srv_count', 'dst_host_same_srv_rate', 'dst_host_diff_srv_rate',\n",
    "          'dst_host_same_src_port_rate', 'dst_host_srv_diff_host_rate','serror_rate', \n",
    "          'srv_serror_rate','rerror_rate' , 'srv_rerror_rate','dst_host_serror_rate',\n",
    "          'dst_host_srv_serror_rate','dst_host_rerror_rate', 'dst_host_srv_rerror_rate',\n",
    "           'count']]"
   ]
  },
  {
   "cell_type": "markdown",
   "metadata": {},
   "source": [
    "## Dimensionality reduction using Principle Component Analysis"
   ]
  },
  {
   "cell_type": "code",
   "execution_count": 19,
   "metadata": {},
   "outputs": [],
   "source": [
    "SS=StandardScaler()\n",
    "X_cont_SS=SS.fit(X2b_cont1)\n",
    "X_contSS=X_cont_SS.transform(X2b_cont1)"
   ]
  },
  {
   "cell_type": "code",
   "execution_count": 20,
   "metadata": {},
   "outputs": [],
   "source": [
    "pca = PCA(n_components=10)\n",
    "pca_fit = pca.fit(X_contSS)"
   ]
  },
  {
   "cell_type": "code",
   "execution_count": 21,
   "metadata": {},
   "outputs": [],
   "source": [
    "var_exp = pca_fit.explained_variance_ratio_\n",
    "\n",
    "cum_var_exp = np.cumsum(var_exp)\n"
   ]
  },
  {
   "cell_type": "code",
   "execution_count": 22,
   "metadata": {},
   "outputs": [
    {
     "data": {
      "image/png": "[encoded data removed]",
      "text/plain": [
       "<Figure size 648x504 with 1 Axes>"
      ]
     },
     "metadata": {},
     "output_type": "display_data"
    }
   ],
   "source": [
    "plt.figure(figsize=(9,7))\n",
    "\n",
    "# HERE IS THE BASIC PLOT\n",
    "\n",
    "# Plot the cumulative explained variance\n",
    "component_number = [1,2,3,4,5,6,7,8,9,10]\n",
    "plt.plot(component_number, cum_var_exp, lw=4, color='#ff8800')\n",
    "\n",
    "# NOW MAKE IT LOOK PRETTY\n",
    "\n",
    "# Add horizontal lines at y=0 and y=100\n",
    "plt.axhline(y=0, linewidth=5, color='grey', ls='dashed')\n",
    "plt.axhline(y=1, linewidth=3, color='grey', ls='dashed')\n",
    "\n",
    "# Set the x and y axis limits\n",
    "ax = plt.gca()\n",
    "ax.set_xlim([1,10])\n",
    "ax.set_ylim([-0.05,1.05])\n",
    "\n",
    "# Label the axes\n",
    "ax.set_ylabel('cumulative variance explained', fontsize=16)\n",
    "ax.set_xlabel('component', fontsize=16)\n",
    "\n",
    "# Make the tick labels bigger\n",
    "for tick in ax.xaxis.get_major_ticks():\n",
    "    tick.label.set_fontsize(12) \n",
    "for tick in ax.yaxis.get_major_ticks():\n",
    "    tick.label.set_fontsize(12) \n",
    "    \n",
    "# Add title\n",
    "ax.set_title('component vs cumulative variance explained\\n', fontsize=20)\n",
    "\n",
    "plt.show()"
   ]
  },
  {
   "cell_type": "markdown",
   "metadata": {},
   "source": [
    "Above plot shows that 8 out of 10 principle components captures the variation of the the selected 10 features similar to our training and test set"
   ]
  },
  {
   "cell_type": "code",
   "execution_count": 23,
   "metadata": {},
   "outputs": [],
   "source": [
    "pca = PCA(n_components=8)\n",
    "X_contSS_pca = pca.fit_transform(X_contSS)\n",
    "\n"
   ]
  },
  {
   "cell_type": "code",
   "execution_count": 24,
   "metadata": {},
   "outputs": [],
   "source": [
    "SS1=StandardScaler()\n",
    "X_discSS1=SS1.fit_transform(X_disc)"
   ]
  },
  {
   "cell_type": "code",
   "execution_count": 25,
   "metadata": {},
   "outputs": [],
   "source": [
    "pca = PCA()\n",
    "pca_fit1 = pca.fit(X_discSS1)"
   ]
  },
  {
   "cell_type": "code",
   "execution_count": 26,
   "metadata": {},
   "outputs": [],
   "source": [
    "var_exp = pca_fit1.explained_variance_ratio_\n",
    "\n",
    "cum_var_exp = np.cumsum(var_exp)\n"
   ]
  },
  {
   "cell_type": "code",
   "execution_count": 27,
   "metadata": {},
   "outputs": [
    {
     "data": {
      "text/plain": [
       "11"
      ]
     },
     "execution_count": 27,
     "metadata": {},
     "output_type": "execute_result"
    }
   ],
   "source": [
    "len(var_exp)"
   ]
  },
  {
   "cell_type": "code",
   "execution_count": 28,
   "metadata": {},
   "outputs": [
    {
     "data": {
      "image/png": "[encoded data removed]",
      "text/plain": [
       "<Figure size 648x504 with 1 Axes>"
      ]
     },
     "metadata": {},
     "output_type": "display_data"
    }
   ],
   "source": [
    "plt.figure(figsize=(9,7))\n",
    "\n",
    "# HERE IS THE BASIC PLOT\n",
    "\n",
    "# Plot the cumulative explained variance\n",
    "component_number = [1,2,3,4,5,6,7,8,9,10, 11]\n",
    "plt.plot(component_number, cum_var_exp, lw=4, color='#0088ff')\n",
    "\n",
    "# NOW MAKE IT LOOK PRETTY\n",
    "\n",
    "# Add horizontal lines at y=0 and y=100\n",
    "plt.axhline(y=0, linewidth=5, color='grey', ls='dashed')\n",
    "plt.axhline(y=1, linewidth=3, color='grey', ls='dashed')\n",
    "\n",
    "# Set the x and y axis limits\n",
    "ax = plt.gca()\n",
    "ax.set_xlim([1,11])\n",
    "ax.set_ylim([-0.05,1.05])\n",
    "\n",
    "# Label the axes\n",
    "ax.set_ylabel('cumulative variance explained', fontsize=16)\n",
    "ax.set_xlabel('component', fontsize=16)\n",
    "\n",
    "# Make the tick labels bigger\n",
    "for tick in ax.xaxis.get_major_ticks():\n",
    "    tick.label.set_fontsize(12) \n",
    "for tick in ax.yaxis.get_major_ticks():\n",
    "    tick.label.set_fontsize(12) \n",
    "    \n",
    "# Add title\n",
    "ax.set_title('component vs cumulative variance explained\\n', fontsize=20)\n",
    "\n",
    "plt.show()"
   ]
  },
  {
   "cell_type": "markdown",
   "metadata": {},
   "source": [
    "Above plot shows that 8 out of 11 principle components captures the variation of the the selected 11 features similar to our training and test set"
   ]
  },
  {
   "cell_type": "code",
   "execution_count": 29,
   "metadata": {},
   "outputs": [],
   "source": [
    "pca = PCA(n_components=7)\n",
    "X2b_disc_pca = pca.fit_transform(X_discSS1)"
   ]
  },
  {
   "cell_type": "code",
   "execution_count": 30,
   "metadata": {},
   "outputs": [],
   "source": [
    "# X=np.concatenate((X2b_disc_pca,X_contSS), axis=1 )"
   ]
  },
  {
   "cell_type": "code",
   "execution_count": 31,
   "metadata": {},
   "outputs": [],
   "source": [
    "X1=pd.DataFrame()\n",
    "X1['abs_bytes_diff']=X_bytes['abs_bytes_diff']\n",
    "X1['duartion']=val_df2['duration']"
   ]
  },
  {
   "cell_type": "code",
   "execution_count": 32,
   "metadata": {},
   "outputs": [
    {
     "data": {
      "text/html": [
       "<div>\n",
       "<style scoped>\n",
       "    .dataframe tbody tr th:only-of-type {\n",
       "        vertical-align: middle;\n",
       "    }\n",
       "\n",
       "    .dataframe tbody tr th {\n",
       "        vertical-align: top;\n",
       "    }\n",
       "\n",
       "    .dataframe thead th {\n",
       "        text-align: right;\n",
       "    }\n",
       "</style>\n",
       "<table border=\"1\" class=\"dataframe\">\n",
       "  <thead>\n",
       "    <tr style=\"text-align: right;\">\n",
       "      <th></th>\n",
       "      <th>abs_bytes_diff</th>\n",
       "      <th>bytes_diff</th>\n",
       "      <th>attack_type</th>\n",
       "      <th>duration</th>\n",
       "    </tr>\n",
       "  </thead>\n",
       "  <tbody>\n",
       "    <tr>\n",
       "      <th>0</th>\n",
       "      <td>41</td>\n",
       "      <td>41</td>\n",
       "      <td>safe</td>\n",
       "      <td>0</td>\n",
       "    </tr>\n",
       "    <tr>\n",
       "      <th>1</th>\n",
       "      <td>41</td>\n",
       "      <td>41</td>\n",
       "      <td>safe</td>\n",
       "      <td>0</td>\n",
       "    </tr>\n",
       "    <tr>\n",
       "      <th>2</th>\n",
       "      <td>41</td>\n",
       "      <td>41</td>\n",
       "      <td>safe</td>\n",
       "      <td>0</td>\n",
       "    </tr>\n",
       "    <tr>\n",
       "      <th>3</th>\n",
       "      <td>29</td>\n",
       "      <td>-29</td>\n",
       "      <td>safe</td>\n",
       "      <td>0</td>\n",
       "    </tr>\n",
       "    <tr>\n",
       "      <th>4</th>\n",
       "      <td>41</td>\n",
       "      <td>41</td>\n",
       "      <td>safe</td>\n",
       "      <td>0</td>\n",
       "    </tr>\n",
       "  </tbody>\n",
       "</table>\n",
       "</div>"
      ],
      "text/plain": [
       "   abs_bytes_diff  bytes_diff attack_type  duration\n",
       "0              41          41        safe         0\n",
       "1              41          41        safe         0\n",
       "2              41          41        safe         0\n",
       "3              29         -29        safe         0\n",
       "4              41          41        safe         0"
      ]
     },
     "execution_count": 32,
     "metadata": {},
     "output_type": "execute_result"
    }
   ],
   "source": [
    "X_bytes.head()"
   ]
  },
  {
   "cell_type": "code",
   "execution_count": 33,
   "metadata": {},
   "outputs": [],
   "source": [
    "from sklearn.preprocessing import MinMaxScaler\n",
    "mms=MinMaxScaler(feature_range=(-9,26 ))\n",
    "X1_mms=mms.fit_transform(X1)"
   ]
  },
  {
   "cell_type": "code",
   "execution_count": 34,
   "metadata": {},
   "outputs": [],
   "source": [
    "X=np.concatenate((X2b_disc_pca,X_contSS_pca, X1_mms), axis=1 )"
   ]
  },
  {
   "cell_type": "code",
   "execution_count": 35,
   "metadata": {},
   "outputs": [],
   "source": [
    "cols=[str(i) for i in range(17)]"
   ]
  },
  {
   "cell_type": "code",
   "execution_count": 36,
   "metadata": {},
   "outputs": [],
   "source": [
    "X_yML=pd.DataFrame(X, columns=cols)"
   ]
  },
  {
   "cell_type": "code",
   "execution_count": 37,
   "metadata": {},
   "outputs": [
    {
     "data": {
      "text/html": [
       "<div>\n",
       "<style scoped>\n",
       "    .dataframe tbody tr th:only-of-type {\n",
       "        vertical-align: middle;\n",
       "    }\n",
       "\n",
       "    .dataframe tbody tr th {\n",
       "        vertical-align: top;\n",
       "    }\n",
       "\n",
       "    .dataframe thead th {\n",
       "        text-align: right;\n",
       "    }\n",
       "</style>\n",
       "<table border=\"1\" class=\"dataframe\">\n",
       "  <thead>\n",
       "    <tr style=\"text-align: right;\">\n",
       "      <th></th>\n",
       "      <th>0</th>\n",
       "      <th>1</th>\n",
       "      <th>2</th>\n",
       "      <th>3</th>\n",
       "      <th>4</th>\n",
       "      <th>5</th>\n",
       "      <th>6</th>\n",
       "      <th>7</th>\n",
       "      <th>8</th>\n",
       "      <th>9</th>\n",
       "      <th>10</th>\n",
       "      <th>11</th>\n",
       "      <th>12</th>\n",
       "      <th>13</th>\n",
       "      <th>14</th>\n",
       "      <th>15</th>\n",
       "      <th>16</th>\n",
       "    </tr>\n",
       "  </thead>\n",
       "  <tbody>\n",
       "    <tr>\n",
       "      <th>0</th>\n",
       "      <td>0.911005</td>\n",
       "      <td>-0.225758</td>\n",
       "      <td>0.004825</td>\n",
       "      <td>0.226542</td>\n",
       "      <td>0.270511</td>\n",
       "      <td>-0.041155</td>\n",
       "      <td>2.483702</td>\n",
       "      <td>-0.815931</td>\n",
       "      <td>0.027775</td>\n",
       "      <td>0.866603</td>\n",
       "      <td>-1.085141</td>\n",
       "      <td>-1.309138</td>\n",
       "      <td>0.534919</td>\n",
       "      <td>0.269595</td>\n",
       "      <td>0.626139</td>\n",
       "      <td>-8.999772</td>\n",
       "      <td>-9.0</td>\n",
       "    </tr>\n",
       "    <tr>\n",
       "      <th>1</th>\n",
       "      <td>0.911005</td>\n",
       "      <td>-0.225758</td>\n",
       "      <td>0.004825</td>\n",
       "      <td>0.226542</td>\n",
       "      <td>0.270511</td>\n",
       "      <td>-0.041155</td>\n",
       "      <td>2.483702</td>\n",
       "      <td>-0.815931</td>\n",
       "      <td>0.027775</td>\n",
       "      <td>0.866603</td>\n",
       "      <td>-1.085141</td>\n",
       "      <td>-1.309138</td>\n",
       "      <td>0.534919</td>\n",
       "      <td>0.269595</td>\n",
       "      <td>0.626139</td>\n",
       "      <td>-8.999772</td>\n",
       "      <td>-9.0</td>\n",
       "    </tr>\n",
       "    <tr>\n",
       "      <th>2</th>\n",
       "      <td>0.911005</td>\n",
       "      <td>-0.225758</td>\n",
       "      <td>0.004825</td>\n",
       "      <td>0.226542</td>\n",
       "      <td>0.270511</td>\n",
       "      <td>-0.041155</td>\n",
       "      <td>2.483702</td>\n",
       "      <td>-0.815931</td>\n",
       "      <td>0.027775</td>\n",
       "      <td>0.866603</td>\n",
       "      <td>-1.085141</td>\n",
       "      <td>-1.309138</td>\n",
       "      <td>0.534919</td>\n",
       "      <td>0.269595</td>\n",
       "      <td>0.626139</td>\n",
       "      <td>-8.999772</td>\n",
       "      <td>-9.0</td>\n",
       "    </tr>\n",
       "    <tr>\n",
       "      <th>3</th>\n",
       "      <td>0.021539</td>\n",
       "      <td>1.305948</td>\n",
       "      <td>-0.258244</td>\n",
       "      <td>5.665931</td>\n",
       "      <td>7.812895</td>\n",
       "      <td>0.082003</td>\n",
       "      <td>-0.490362</td>\n",
       "      <td>6.799567</td>\n",
       "      <td>1.017962</td>\n",
       "      <td>2.743076</td>\n",
       "      <td>-0.930686</td>\n",
       "      <td>8.642377</td>\n",
       "      <td>17.227970</td>\n",
       "      <td>-3.319398</td>\n",
       "      <td>-3.074108</td>\n",
       "      <td>-8.999839</td>\n",
       "      <td>-9.0</td>\n",
       "    </tr>\n",
       "    <tr>\n",
       "      <th>4</th>\n",
       "      <td>0.911005</td>\n",
       "      <td>-0.225758</td>\n",
       "      <td>0.004825</td>\n",
       "      <td>0.226542</td>\n",
       "      <td>0.270511</td>\n",
       "      <td>-0.041155</td>\n",
       "      <td>2.483702</td>\n",
       "      <td>-0.803592</td>\n",
       "      <td>0.028177</td>\n",
       "      <td>0.865812</td>\n",
       "      <td>-1.082964</td>\n",
       "      <td>-1.307546</td>\n",
       "      <td>0.531747</td>\n",
       "      <td>0.269843</td>\n",
       "      <td>0.625265</td>\n",
       "      <td>-8.999772</td>\n",
       "      <td>-9.0</td>\n",
       "    </tr>\n",
       "  </tbody>\n",
       "</table>\n",
       "</div>"
      ],
      "text/plain": [
       "          0         1         2         3         4         5         6  \\\n",
       "0  0.911005 -0.225758  0.004825  0.226542  0.270511 -0.041155  2.483702   \n",
       "1  0.911005 -0.225758  0.004825  0.226542  0.270511 -0.041155  2.483702   \n",
       "2  0.911005 -0.225758  0.004825  0.226542  0.270511 -0.041155  2.483702   \n",
       "3  0.021539  1.305948 -0.258244  5.665931  7.812895  0.082003 -0.490362   \n",
       "4  0.911005 -0.225758  0.004825  0.226542  0.270511 -0.041155  2.483702   \n",
       "\n",
       "          7         8         9        10        11         12        13  \\\n",
       "0 -0.815931  0.027775  0.866603 -1.085141 -1.309138   0.534919  0.269595   \n",
       "1 -0.815931  0.027775  0.866603 -1.085141 -1.309138   0.534919  0.269595   \n",
       "2 -0.815931  0.027775  0.866603 -1.085141 -1.309138   0.534919  0.269595   \n",
       "3  6.799567  1.017962  2.743076 -0.930686  8.642377  17.227970 -3.319398   \n",
       "4 -0.803592  0.028177  0.865812 -1.082964 -1.307546   0.531747  0.269843   \n",
       "\n",
       "         14        15   16  \n",
       "0  0.626139 -8.999772 -9.0  \n",
       "1  0.626139 -8.999772 -9.0  \n",
       "2  0.626139 -8.999772 -9.0  \n",
       "3 -3.074108 -8.999839 -9.0  \n",
       "4  0.625265 -8.999772 -9.0  "
      ]
     },
     "execution_count": 37,
     "metadata": {},
     "output_type": "execute_result"
    }
   ],
   "source": [
    "X_yML.head()"
   ]
  },
  {
   "cell_type": "code",
   "execution_count": 38,
   "metadata": {},
   "outputs": [],
   "source": [
    "X_yML['attack_code']=X_bytes['attack_type'].map(lambda x: 1 if x=='DOS' else 0)"
   ]
  },
  {
   "cell_type": "code",
   "execution_count": 39,
   "metadata": {
    "scrolled": true
   },
   "outputs": [
    {
     "data": {
      "text/plain": [
       "0              0\n",
       "1              0\n",
       "2              0\n",
       "3              0\n",
       "4              0\n",
       "5              0\n",
       "6              0\n",
       "7              0\n",
       "8              0\n",
       "9              0\n",
       "10             0\n",
       "11             0\n",
       "12             0\n",
       "13             0\n",
       "14             0\n",
       "15             0\n",
       "16             0\n",
       "attack_code    0\n",
       "dtype: int64"
      ]
     },
     "execution_count": 39,
     "metadata": {},
     "output_type": "execute_result"
    }
   ],
   "source": [
    "X_yML.isnull().sum()"
   ]
  },
  {
   "cell_type": "markdown",
   "metadata": {},
   "source": [
    "## Storing data after PCA"
   ]
  },
  {
   "cell_type": "code",
   "execution_count": 40,
   "metadata": {},
   "outputs": [],
   "source": [
    "X_yML.to_csv('./Data/X_yMLval.csv', index=False)"
   ]
  },
  {
   "cell_type": "markdown",
   "metadata": {},
   "source": [
    "## Anomaly detection using Gaussian Mixture Model"
   ]
  },
  {
   "cell_type": "code",
   "execution_count": 44,
   "metadata": {},
   "outputs": [
    {
     "data": {
      "text/plain": [
       "GaussianMixture(covariance_type='full', init_params='random', max_iter=1000,\n",
       "        means_init=None, n_components=2, n_init=1, precisions_init=None,\n",
       "        random_state=None, reg_covar=1e-06, tol=0.001, verbose=0,\n",
       "        verbose_interval=10, warm_start=True, weights_init=None)"
      ]
     },
     "execution_count": 44,
     "metadata": {},
     "output_type": "execute_result"
    }
   ],
   "source": [
    "\n",
    "clf = mixture.GaussianMixture(n_components=2, covariance_type='full', max_iter=1000, \n",
    "                              init_params='random', warm_start=True)\n",
    "clf.fit(X)"
   ]
  },
  {
   "cell_type": "code",
   "execution_count": 49,
   "metadata": {},
   "outputs": [],
   "source": [
    "gm=clf.predict(X)"
   ]
  },
  {
   "cell_type": "code",
   "execution_count": 50,
   "metadata": {},
   "outputs": [
    {
     "data": {
      "image/png": "[encoded data removed]",
      "text/plain": [
       "<Figure size 576x432 with 1 Axes>"
      ]
     },
     "metadata": {},
     "output_type": "display_data"
    }
   ],
   "source": [
    "plt.figure(figsize=(8,6))\n",
    "plt.scatter(X[gm==0, 9], X[gm==0, 7], color='#ff9900', marker='o',edgecolors='k')\n",
    "plt.scatter(X[gm==1, 9], X[gm==1, 7], color='#00aaff', marker='o', edgecolors='k')\n",
    "plt.show()"
   ]
  },
  {
   "cell_type": "code",
   "execution_count": 51,
   "metadata": {},
   "outputs": [
    {
     "data": {
      "text/plain": [
       "array([0, 1])"
      ]
     },
     "execution_count": 51,
     "metadata": {},
     "output_type": "execute_result"
    }
   ],
   "source": [
    "np.unique(gm)"
   ]
  },
  {
   "cell_type": "code",
   "execution_count": 52,
   "metadata": {},
   "outputs": [],
   "source": [
    "X_bytes['label1']=gm"
   ]
  },
  {
   "cell_type": "code",
   "execution_count": 53,
   "metadata": {},
   "outputs": [
    {
     "data": {
      "text/plain": [
       "0    0.959\n",
       "1    0.041\n",
       "Name: label1, dtype: float64"
      ]
     },
     "execution_count": 53,
     "metadata": {},
     "output_type": "execute_result"
    }
   ],
   "source": [
    "X_bytes[X_bytes['attack_type']=='DOS']['label1'].value_counts(normalize='True')"
   ]
  },
  {
   "cell_type": "code",
   "execution_count": 54,
   "metadata": {},
   "outputs": [
    {
     "data": {
      "text/plain": [
       "1    0.714967\n",
       "0    0.285033\n",
       "Name: label1, dtype: float64"
      ]
     },
     "execution_count": 54,
     "metadata": {},
     "output_type": "execute_result"
    }
   ],
   "source": [
    "X_bytes[X_bytes['attack_type']=='safe']['label1'].value_counts(normalize='True')"
   ]
  },
  {
   "cell_type": "markdown",
   "metadata": {},
   "source": [
    "## Summary\n",
    "In this section we used feature engineering and dimensionaity reduction on validation data set. Then we performed anomaly detection using Gaaussian Mixture Model. Anomaly detection was able to detect 95.9% of DoS connections> "
   ]
  },
  {
   "cell_type": "code",
   "execution_count": null,
   "metadata": {},
   "outputs": [],
   "source": []
  }
 ],
 "metadata": {
  "kernelspec": {
   "display_name": "Python 3",
   "language": "python",
   "name": "python3"
  },
  "language_info": {
   "codemirror_mode": {
    "name": "ipython",
    "version": 3
   },
   "file_extension": ".py",
   "mimetype": "text/x-python",
   "name": "python",
   "nbconvert_exporter": "python",
   "pygments_lexer": "ipython3",
   "version": "3.6.4"
  }
 },
 "nbformat": 4,
 "nbformat_minor": 2
}
